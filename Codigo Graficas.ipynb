{
 "cells": [
  {
   "cell_type": "code",
   "execution_count": null,
   "metadata": {
    "colab": {
     "base_uri": "https://localhost:8080/",
     "height": 486
    },
    "id": "kyOuEhBrkozY",
    "outputId": "1acdc374-461c-4613-e0c2-754de242fee2"
   },
   "outputs": [
    {
     "data": {
      "application/vnd.plotly.v1+json": {
       "config": {
        "plotlyServerURL": "https://plot.ly"
       },
       "data": [
        {
         "alignmentgroup": "True",
         "hovertemplate": "genre=%{x}<br>ROI Promedio=%{y}<extra></extra>",
         "legendgroup": "",
         "marker": {
          "color": [
           "red",
           "red",
           "green",
           "red",
           "green",
           "red",
           "green",
           "green",
           "red",
           "green",
           "red",
           "red",
           "red",
           "green",
           "red"
          ],
          "pattern": {
           "shape": ""
          }
         },
         "name": "",
         "offsetgroup": "",
         "orientation": "v",
         "showlegend": false,
         "textposition": "auto",
         "type": "bar",
         "x": [
          "Action",
          "Adventure",
          "Animation",
          "Biography",
          "Comedy",
          "Crime",
          "Drama",
          "Family",
          "Fantasy",
          "Horror",
          "Mystery",
          "Romance",
          "Sci-Fi",
          "Thriller",
          "Western"
         ],
         "xaxis": "x",
         "y": [
          1.9383041696113075,
          2.128300611620795,
          2.9744,
          1.6818697749196143,
          2.636619117647059,
          1.3375330827067669,
          2.708224797219003,
          20.1302,
          1.4478048780487804,
          76.67151513944222,
          1.804635294117647,
          -0.07494000000000005,
          0.9953666666666666,
          3.299757142857143,
          -0.006599999999999995
         ],
         "yaxis": "y"
        }
       ],
       "layout": {
        "barmode": "relative",
        "height": 469,
        "legend": {
         "tracegroupgap": 0
        },
        "template": {
         "data": {
          "bar": [
           {
            "error_x": {
             "color": "#2a3f5f"
            },
            "error_y": {
             "color": "#2a3f5f"
            },
            "marker": {
             "line": {
              "color": "#E5ECF6",
              "width": 0.5
             },
             "pattern": {
              "fillmode": "overlay",
              "size": 10,
              "solidity": 0.2
             }
            },
            "type": "bar"
           }
          ],
          "barpolar": [
           {
            "marker": {
             "line": {
              "color": "#E5ECF6",
              "width": 0.5
             },
             "pattern": {
              "fillmode": "overlay",
              "size": 10,
              "solidity": 0.2
             }
            },
            "type": "barpolar"
           }
          ],
          "carpet": [
           {
            "aaxis": {
             "endlinecolor": "#2a3f5f",
             "gridcolor": "white",
             "linecolor": "white",
             "minorgridcolor": "white",
             "startlinecolor": "#2a3f5f"
            },
            "baxis": {
             "endlinecolor": "#2a3f5f",
             "gridcolor": "white",
             "linecolor": "white",
             "minorgridcolor": "white",
             "startlinecolor": "#2a3f5f"
            },
            "type": "carpet"
           }
          ],
          "choropleth": [
           {
            "colorbar": {
             "outlinewidth": 0,
             "ticks": ""
            },
            "type": "choropleth"
           }
          ],
          "contour": [
           {
            "colorbar": {
             "outlinewidth": 0,
             "ticks": ""
            },
            "colorscale": [
             [
              0,
              "#0d0887"
             ],
             [
              0.1111111111111111,
              "#46039f"
             ],
             [
              0.2222222222222222,
              "#7201a8"
             ],
             [
              0.3333333333333333,
              "#9c179e"
             ],
             [
              0.4444444444444444,
              "#bd3786"
             ],
             [
              0.5555555555555556,
              "#d8576b"
             ],
             [
              0.6666666666666666,
              "#ed7953"
             ],
             [
              0.7777777777777778,
              "#fb9f3a"
             ],
             [
              0.8888888888888888,
              "#fdca26"
             ],
             [
              1,
              "#f0f921"
             ]
            ],
            "type": "contour"
           }
          ],
          "contourcarpet": [
           {
            "colorbar": {
             "outlinewidth": 0,
             "ticks": ""
            },
            "type": "contourcarpet"
           }
          ],
          "heatmap": [
           {
            "colorbar": {
             "outlinewidth": 0,
             "ticks": ""
            },
            "colorscale": [
             [
              0,
              "#0d0887"
             ],
             [
              0.1111111111111111,
              "#46039f"
             ],
             [
              0.2222222222222222,
              "#7201a8"
             ],
             [
              0.3333333333333333,
              "#9c179e"
             ],
             [
              0.4444444444444444,
              "#bd3786"
             ],
             [
              0.5555555555555556,
              "#d8576b"
             ],
             [
              0.6666666666666666,
              "#ed7953"
             ],
             [
              0.7777777777777778,
              "#fb9f3a"
             ],
             [
              0.8888888888888888,
              "#fdca26"
             ],
             [
              1,
              "#f0f921"
             ]
            ],
            "type": "heatmap"
           }
          ],
          "heatmapgl": [
           {
            "colorbar": {
             "outlinewidth": 0,
             "ticks": ""
            },
            "colorscale": [
             [
              0,
              "#0d0887"
             ],
             [
              0.1111111111111111,
              "#46039f"
             ],
             [
              0.2222222222222222,
              "#7201a8"
             ],
             [
              0.3333333333333333,
              "#9c179e"
             ],
             [
              0.4444444444444444,
              "#bd3786"
             ],
             [
              0.5555555555555556,
              "#d8576b"
             ],
             [
              0.6666666666666666,
              "#ed7953"
             ],
             [
              0.7777777777777778,
              "#fb9f3a"
             ],
             [
              0.8888888888888888,
              "#fdca26"
             ],
             [
              1,
              "#f0f921"
             ]
            ],
            "type": "heatmapgl"
           }
          ],
          "histogram": [
           {
            "marker": {
             "pattern": {
              "fillmode": "overlay",
              "size": 10,
              "solidity": 0.2
             }
            },
            "type": "histogram"
           }
          ],
          "histogram2d": [
           {
            "colorbar": {
             "outlinewidth": 0,
             "ticks": ""
            },
            "colorscale": [
             [
              0,
              "#0d0887"
             ],
             [
              0.1111111111111111,
              "#46039f"
             ],
             [
              0.2222222222222222,
              "#7201a8"
             ],
             [
              0.3333333333333333,
              "#9c179e"
             ],
             [
              0.4444444444444444,
              "#bd3786"
             ],
             [
              0.5555555555555556,
              "#d8576b"
             ],
             [
              0.6666666666666666,
              "#ed7953"
             ],
             [
              0.7777777777777778,
              "#fb9f3a"
             ],
             [
              0.8888888888888888,
              "#fdca26"
             ],
             [
              1,
              "#f0f921"
             ]
            ],
            "type": "histogram2d"
           }
          ],
          "histogram2dcontour": [
           {
            "colorbar": {
             "outlinewidth": 0,
             "ticks": ""
            },
            "colorscale": [
             [
              0,
              "#0d0887"
             ],
             [
              0.1111111111111111,
              "#46039f"
             ],
             [
              0.2222222222222222,
              "#7201a8"
             ],
             [
              0.3333333333333333,
              "#9c179e"
             ],
             [
              0.4444444444444444,
              "#bd3786"
             ],
             [
              0.5555555555555556,
              "#d8576b"
             ],
             [
              0.6666666666666666,
              "#ed7953"
             ],
             [
              0.7777777777777778,
              "#fb9f3a"
             ],
             [
              0.8888888888888888,
              "#fdca26"
             ],
             [
              1,
              "#f0f921"
             ]
            ],
            "type": "histogram2dcontour"
           }
          ],
          "mesh3d": [
           {
            "colorbar": {
             "outlinewidth": 0,
             "ticks": ""
            },
            "type": "mesh3d"
           }
          ],
          "parcoords": [
           {
            "line": {
             "colorbar": {
              "outlinewidth": 0,
              "ticks": ""
             }
            },
            "type": "parcoords"
           }
          ],
          "pie": [
           {
            "automargin": true,
            "type": "pie"
           }
          ],
          "scatter": [
           {
            "fillpattern": {
             "fillmode": "overlay",
             "size": 10,
             "solidity": 0.2
            },
            "type": "scatter"
           }
          ],
          "scatter3d": [
           {
            "line": {
             "colorbar": {
              "outlinewidth": 0,
              "ticks": ""
             }
            },
            "marker": {
             "colorbar": {
              "outlinewidth": 0,
              "ticks": ""
             }
            },
            "type": "scatter3d"
           }
          ],
          "scattercarpet": [
           {
            "marker": {
             "colorbar": {
              "outlinewidth": 0,
              "ticks": ""
             }
            },
            "type": "scattercarpet"
           }
          ],
          "scattergeo": [
           {
            "marker": {
             "colorbar": {
              "outlinewidth": 0,
              "ticks": ""
             }
            },
            "type": "scattergeo"
           }
          ],
          "scattergl": [
           {
            "marker": {
             "colorbar": {
              "outlinewidth": 0,
              "ticks": ""
             }
            },
            "type": "scattergl"
           }
          ],
          "scattermapbox": [
           {
            "marker": {
             "colorbar": {
              "outlinewidth": 0,
              "ticks": ""
             }
            },
            "type": "scattermapbox"
           }
          ],
          "scatterpolar": [
           {
            "marker": {
             "colorbar": {
              "outlinewidth": 0,
              "ticks": ""
             }
            },
            "type": "scatterpolar"
           }
          ],
          "scatterpolargl": [
           {
            "marker": {
             "colorbar": {
              "outlinewidth": 0,
              "ticks": ""
             }
            },
            "type": "scatterpolargl"
           }
          ],
          "scatterternary": [
           {
            "marker": {
             "colorbar": {
              "outlinewidth": 0,
              "ticks": ""
             }
            },
            "type": "scatterternary"
           }
          ],
          "surface": [
           {
            "colorbar": {
             "outlinewidth": 0,
             "ticks": ""
            },
            "colorscale": [
             [
              0,
              "#0d0887"
             ],
             [
              0.1111111111111111,
              "#46039f"
             ],
             [
              0.2222222222222222,
              "#7201a8"
             ],
             [
              0.3333333333333333,
              "#9c179e"
             ],
             [
              0.4444444444444444,
              "#bd3786"
             ],
             [
              0.5555555555555556,
              "#d8576b"
             ],
             [
              0.6666666666666666,
              "#ed7953"
             ],
             [
              0.7777777777777778,
              "#fb9f3a"
             ],
             [
              0.8888888888888888,
              "#fdca26"
             ],
             [
              1,
              "#f0f921"
             ]
            ],
            "type": "surface"
           }
          ],
          "table": [
           {
            "cells": {
             "fill": {
              "color": "#EBF0F8"
             },
             "line": {
              "color": "white"
             }
            },
            "header": {
             "fill": {
              "color": "#C8D4E3"
             },
             "line": {
              "color": "white"
             }
            },
            "type": "table"
           }
          ]
         },
         "layout": {
          "annotationdefaults": {
           "arrowcolor": "#2a3f5f",
           "arrowhead": 0,
           "arrowwidth": 1
          },
          "autotypenumbers": "strict",
          "coloraxis": {
           "colorbar": {
            "outlinewidth": 0,
            "ticks": ""
           }
          },
          "colorscale": {
           "diverging": [
            [
             0,
             "#8e0152"
            ],
            [
             0.1,
             "#c51b7d"
            ],
            [
             0.2,
             "#de77ae"
            ],
            [
             0.3,
             "#f1b6da"
            ],
            [
             0.4,
             "#fde0ef"
            ],
            [
             0.5,
             "#f7f7f7"
            ],
            [
             0.6,
             "#e6f5d0"
            ],
            [
             0.7,
             "#b8e186"
            ],
            [
             0.8,
             "#7fbc41"
            ],
            [
             0.9,
             "#4d9221"
            ],
            [
             1,
             "#276419"
            ]
           ],
           "sequential": [
            [
             0,
             "#0d0887"
            ],
            [
             0.1111111111111111,
             "#46039f"
            ],
            [
             0.2222222222222222,
             "#7201a8"
            ],
            [
             0.3333333333333333,
             "#9c179e"
            ],
            [
             0.4444444444444444,
             "#bd3786"
            ],
            [
             0.5555555555555556,
             "#d8576b"
            ],
            [
             0.6666666666666666,
             "#ed7953"
            ],
            [
             0.7777777777777778,
             "#fb9f3a"
            ],
            [
             0.8888888888888888,
             "#fdca26"
            ],
            [
             1,
             "#f0f921"
            ]
           ],
           "sequentialminus": [
            [
             0,
             "#0d0887"
            ],
            [
             0.1111111111111111,
             "#46039f"
            ],
            [
             0.2222222222222222,
             "#7201a8"
            ],
            [
             0.3333333333333333,
             "#9c179e"
            ],
            [
             0.4444444444444444,
             "#bd3786"
            ],
            [
             0.5555555555555556,
             "#d8576b"
            ],
            [
             0.6666666666666666,
             "#ed7953"
            ],
            [
             0.7777777777777778,
             "#fb9f3a"
            ],
            [
             0.8888888888888888,
             "#fdca26"
            ],
            [
             1,
             "#f0f921"
            ]
           ]
          },
          "colorway": [
           "#636efa",
           "#EF553B",
           "#00cc96",
           "#ab63fa",
           "#FFA15A",
           "#19d3f3",
           "#FF6692",
           "#B6E880",
           "#FF97FF",
           "#FECB52"
          ],
          "font": {
           "color": "#2a3f5f"
          },
          "geo": {
           "bgcolor": "white",
           "lakecolor": "white",
           "landcolor": "#E5ECF6",
           "showlakes": true,
           "showland": true,
           "subunitcolor": "white"
          },
          "hoverlabel": {
           "align": "left"
          },
          "hovermode": "closest",
          "mapbox": {
           "style": "light"
          },
          "paper_bgcolor": "white",
          "plot_bgcolor": "#E5ECF6",
          "polar": {
           "angularaxis": {
            "gridcolor": "white",
            "linecolor": "white",
            "ticks": ""
           },
           "bgcolor": "#E5ECF6",
           "radialaxis": {
            "gridcolor": "white",
            "linecolor": "white",
            "ticks": ""
           }
          },
          "scene": {
           "xaxis": {
            "backgroundcolor": "#E5ECF6",
            "gridcolor": "white",
            "gridwidth": 2,
            "linecolor": "white",
            "showbackground": true,
            "ticks": "",
            "zerolinecolor": "white"
           },
           "yaxis": {
            "backgroundcolor": "#E5ECF6",
            "gridcolor": "white",
            "gridwidth": 2,
            "linecolor": "white",
            "showbackground": true,
            "ticks": "",
            "zerolinecolor": "white"
           },
           "zaxis": {
            "backgroundcolor": "#E5ECF6",
            "gridcolor": "white",
            "gridwidth": 2,
            "linecolor": "white",
            "showbackground": true,
            "ticks": "",
            "zerolinecolor": "white"
           }
          },
          "shapedefaults": {
           "line": {
            "color": "#2a3f5f"
           }
          },
          "ternary": {
           "aaxis": {
            "gridcolor": "white",
            "linecolor": "white",
            "ticks": ""
           },
           "baxis": {
            "gridcolor": "white",
            "linecolor": "white",
            "ticks": ""
           },
           "bgcolor": "#E5ECF6",
           "caxis": {
            "gridcolor": "white",
            "linecolor": "white",
            "ticks": ""
           }
          },
          "title": {
           "x": 0.05
          },
          "xaxis": {
           "automargin": true,
           "gridcolor": "white",
           "linecolor": "white",
           "ticks": "",
           "title": {
            "standoff": 15
           },
           "zerolinecolor": "white",
           "zerolinewidth": 2
          },
          "yaxis": {
           "automargin": true,
           "gridcolor": "white",
           "linecolor": "white",
           "ticks": "",
           "title": {
            "standoff": 15
           },
           "zerolinecolor": "white",
           "zerolinewidth": 2
          }
         }
        },
        "title": {
         "text": "Géneros con Mayor Éxito"
        },
        "width": 600,
        "xaxis": {
         "anchor": "y",
         "domain": [
          0,
          1
         ],
         "title": {
          "text": "genre"
         }
        },
        "yaxis": {
         "anchor": "x",
         "domain": [
          0,
          1
         ],
         "title": {
          "text": "ROI Promedio"
         }
        }
       }
      }
     },
     "metadata": {},
     "output_type": "display_data"
    }
   ],
   "source": [
    "import pandas as pd\n",
    "import plotly.express as px\n",
    "\n",
    "url = \"https://raw.githubusercontent.com/RodoECP/PF_Visualizacion_Datos/refs/heads/master/Peliculas.csv\"\n",
    "df = pd.read_csv(url)\n",
    "\n",
    "roi_por_genero = df.groupby('genre')['ROI'].mean()\n",
    "\n",
    "# Crear una columna de colores, asignando verde a los valores mayores a 2.25 y rojo a los menores\n",
    "colores = ['green' if roi > 2.25 else 'red' for roi in roi_por_genero]\n",
    "\n",
    "# Crear gráfico de barras interactivo con los colores personalizados\n",
    "fig = px.bar(roi_por_genero,\n",
    "             x=roi_por_genero.index,\n",
    "             y=roi_por_genero.values,\n",
    "             labels={'x': 'Género', 'y': 'ROI Promedio'},\n",
    "             title='Géneros con Mayor Éxito')\n",
    "\n",
    "# Actualizar la propiedad de color\n",
    "fig.update_traces(marker=dict(color=colores))\n",
    "\n",
    "# Ajustar el tamaño de la figura\n",
    "fig.update_layout(\n",
    "    width=600,  # Ancho de 600 píxeles\n",
    "    height=469  # Alto de 469 píxeles\n",
    ")\n",
    "\n",
    "# Mostrar el gráfico\n",
    "fig.show()\n"
   ]
  },
  {
   "cell_type": "code",
   "execution_count": 2,
   "metadata": {
    "colab": {
     "base_uri": "https://localhost:8080/",
     "height": 486
    },
    "id": "2wrgAgIRk8Q2",
    "outputId": "d79912da-2f89-4a1a-e942-532156ee7492"
   },
   "outputs": [
    {
     "data": {
      "application/vnd.plotly.v1+json": {
       "config": {
        "plotlyServerURL": "https://plot.ly"
       },
       "data": [
        {
         "customdata": [
          [
           "G"
          ],
          [
           "NC-17"
          ],
          [
           "PG"
          ],
          [
           "PG-13"
          ],
          [
           "R"
          ]
         ],
         "domain": {
          "x": [
           0,
           1
          ],
          "y": [
           0,
           1
          ]
         },
         "hole": 0.4,
         "hovertemplate": "Clasificación=%{customdata[0]}<br>Número de Películas Exitosas=%{value}<extra></extra>",
         "labels": [
          "G",
          "NC-17",
          "PG",
          "PG-13",
          "R"
         ],
         "legendgroup": "",
         "marker": {
          "colors": [
           "green",
           "black",
           "blue",
           "orange",
           "red"
          ]
         },
         "name": "",
         "showlegend": true,
         "type": "pie",
         "values": [
          57,
          8,
          286,
          540,
          701
         ]
        }
       ],
       "layout": {
        "height": 469,
        "legend": {
         "tracegroupgap": 0
        },
        "template": {
         "data": {
          "bar": [
           {
            "error_x": {
             "color": "#2a3f5f"
            },
            "error_y": {
             "color": "#2a3f5f"
            },
            "marker": {
             "line": {
              "color": "#E5ECF6",
              "width": 0.5
             },
             "pattern": {
              "fillmode": "overlay",
              "size": 10,
              "solidity": 0.2
             }
            },
            "type": "bar"
           }
          ],
          "barpolar": [
           {
            "marker": {
             "line": {
              "color": "#E5ECF6",
              "width": 0.5
             },
             "pattern": {
              "fillmode": "overlay",
              "size": 10,
              "solidity": 0.2
             }
            },
            "type": "barpolar"
           }
          ],
          "carpet": [
           {
            "aaxis": {
             "endlinecolor": "#2a3f5f",
             "gridcolor": "white",
             "linecolor": "white",
             "minorgridcolor": "white",
             "startlinecolor": "#2a3f5f"
            },
            "baxis": {
             "endlinecolor": "#2a3f5f",
             "gridcolor": "white",
             "linecolor": "white",
             "minorgridcolor": "white",
             "startlinecolor": "#2a3f5f"
            },
            "type": "carpet"
           }
          ],
          "choropleth": [
           {
            "colorbar": {
             "outlinewidth": 0,
             "ticks": ""
            },
            "type": "choropleth"
           }
          ],
          "contour": [
           {
            "colorbar": {
             "outlinewidth": 0,
             "ticks": ""
            },
            "colorscale": [
             [
              0,
              "#0d0887"
             ],
             [
              0.1111111111111111,
              "#46039f"
             ],
             [
              0.2222222222222222,
              "#7201a8"
             ],
             [
              0.3333333333333333,
              "#9c179e"
             ],
             [
              0.4444444444444444,
              "#bd3786"
             ],
             [
              0.5555555555555556,
              "#d8576b"
             ],
             [
              0.6666666666666666,
              "#ed7953"
             ],
             [
              0.7777777777777778,
              "#fb9f3a"
             ],
             [
              0.8888888888888888,
              "#fdca26"
             ],
             [
              1,
              "#f0f921"
             ]
            ],
            "type": "contour"
           }
          ],
          "contourcarpet": [
           {
            "colorbar": {
             "outlinewidth": 0,
             "ticks": ""
            },
            "type": "contourcarpet"
           }
          ],
          "heatmap": [
           {
            "colorbar": {
             "outlinewidth": 0,
             "ticks": ""
            },
            "colorscale": [
             [
              0,
              "#0d0887"
             ],
             [
              0.1111111111111111,
              "#46039f"
             ],
             [
              0.2222222222222222,
              "#7201a8"
             ],
             [
              0.3333333333333333,
              "#9c179e"
             ],
             [
              0.4444444444444444,
              "#bd3786"
             ],
             [
              0.5555555555555556,
              "#d8576b"
             ],
             [
              0.6666666666666666,
              "#ed7953"
             ],
             [
              0.7777777777777778,
              "#fb9f3a"
             ],
             [
              0.8888888888888888,
              "#fdca26"
             ],
             [
              1,
              "#f0f921"
             ]
            ],
            "type": "heatmap"
           }
          ],
          "heatmapgl": [
           {
            "colorbar": {
             "outlinewidth": 0,
             "ticks": ""
            },
            "colorscale": [
             [
              0,
              "#0d0887"
             ],
             [
              0.1111111111111111,
              "#46039f"
             ],
             [
              0.2222222222222222,
              "#7201a8"
             ],
             [
              0.3333333333333333,
              "#9c179e"
             ],
             [
              0.4444444444444444,
              "#bd3786"
             ],
             [
              0.5555555555555556,
              "#d8576b"
             ],
             [
              0.6666666666666666,
              "#ed7953"
             ],
             [
              0.7777777777777778,
              "#fb9f3a"
             ],
             [
              0.8888888888888888,
              "#fdca26"
             ],
             [
              1,
              "#f0f921"
             ]
            ],
            "type": "heatmapgl"
           }
          ],
          "histogram": [
           {
            "marker": {
             "pattern": {
              "fillmode": "overlay",
              "size": 10,
              "solidity": 0.2
             }
            },
            "type": "histogram"
           }
          ],
          "histogram2d": [
           {
            "colorbar": {
             "outlinewidth": 0,
             "ticks": ""
            },
            "colorscale": [
             [
              0,
              "#0d0887"
             ],
             [
              0.1111111111111111,
              "#46039f"
             ],
             [
              0.2222222222222222,
              "#7201a8"
             ],
             [
              0.3333333333333333,
              "#9c179e"
             ],
             [
              0.4444444444444444,
              "#bd3786"
             ],
             [
              0.5555555555555556,
              "#d8576b"
             ],
             [
              0.6666666666666666,
              "#ed7953"
             ],
             [
              0.7777777777777778,
              "#fb9f3a"
             ],
             [
              0.8888888888888888,
              "#fdca26"
             ],
             [
              1,
              "#f0f921"
             ]
            ],
            "type": "histogram2d"
           }
          ],
          "histogram2dcontour": [
           {
            "colorbar": {
             "outlinewidth": 0,
             "ticks": ""
            },
            "colorscale": [
             [
              0,
              "#0d0887"
             ],
             [
              0.1111111111111111,
              "#46039f"
             ],
             [
              0.2222222222222222,
              "#7201a8"
             ],
             [
              0.3333333333333333,
              "#9c179e"
             ],
             [
              0.4444444444444444,
              "#bd3786"
             ],
             [
              0.5555555555555556,
              "#d8576b"
             ],
             [
              0.6666666666666666,
              "#ed7953"
             ],
             [
              0.7777777777777778,
              "#fb9f3a"
             ],
             [
              0.8888888888888888,
              "#fdca26"
             ],
             [
              1,
              "#f0f921"
             ]
            ],
            "type": "histogram2dcontour"
           }
          ],
          "mesh3d": [
           {
            "colorbar": {
             "outlinewidth": 0,
             "ticks": ""
            },
            "type": "mesh3d"
           }
          ],
          "parcoords": [
           {
            "line": {
             "colorbar": {
              "outlinewidth": 0,
              "ticks": ""
             }
            },
            "type": "parcoords"
           }
          ],
          "pie": [
           {
            "automargin": true,
            "type": "pie"
           }
          ],
          "scatter": [
           {
            "fillpattern": {
             "fillmode": "overlay",
             "size": 10,
             "solidity": 0.2
            },
            "type": "scatter"
           }
          ],
          "scatter3d": [
           {
            "line": {
             "colorbar": {
              "outlinewidth": 0,
              "ticks": ""
             }
            },
            "marker": {
             "colorbar": {
              "outlinewidth": 0,
              "ticks": ""
             }
            },
            "type": "scatter3d"
           }
          ],
          "scattercarpet": [
           {
            "marker": {
             "colorbar": {
              "outlinewidth": 0,
              "ticks": ""
             }
            },
            "type": "scattercarpet"
           }
          ],
          "scattergeo": [
           {
            "marker": {
             "colorbar": {
              "outlinewidth": 0,
              "ticks": ""
             }
            },
            "type": "scattergeo"
           }
          ],
          "scattergl": [
           {
            "marker": {
             "colorbar": {
              "outlinewidth": 0,
              "ticks": ""
             }
            },
            "type": "scattergl"
           }
          ],
          "scattermapbox": [
           {
            "marker": {
             "colorbar": {
              "outlinewidth": 0,
              "ticks": ""
             }
            },
            "type": "scattermapbox"
           }
          ],
          "scatterpolar": [
           {
            "marker": {
             "colorbar": {
              "outlinewidth": 0,
              "ticks": ""
             }
            },
            "type": "scatterpolar"
           }
          ],
          "scatterpolargl": [
           {
            "marker": {
             "colorbar": {
              "outlinewidth": 0,
              "ticks": ""
             }
            },
            "type": "scatterpolargl"
           }
          ],
          "scatterternary": [
           {
            "marker": {
             "colorbar": {
              "outlinewidth": 0,
              "ticks": ""
             }
            },
            "type": "scatterternary"
           }
          ],
          "surface": [
           {
            "colorbar": {
             "outlinewidth": 0,
             "ticks": ""
            },
            "colorscale": [
             [
              0,
              "#0d0887"
             ],
             [
              0.1111111111111111,
              "#46039f"
             ],
             [
              0.2222222222222222,
              "#7201a8"
             ],
             [
              0.3333333333333333,
              "#9c179e"
             ],
             [
              0.4444444444444444,
              "#bd3786"
             ],
             [
              0.5555555555555556,
              "#d8576b"
             ],
             [
              0.6666666666666666,
              "#ed7953"
             ],
             [
              0.7777777777777778,
              "#fb9f3a"
             ],
             [
              0.8888888888888888,
              "#fdca26"
             ],
             [
              1,
              "#f0f921"
             ]
            ],
            "type": "surface"
           }
          ],
          "table": [
           {
            "cells": {
             "fill": {
              "color": "#EBF0F8"
             },
             "line": {
              "color": "white"
             }
            },
            "header": {
             "fill": {
              "color": "#C8D4E3"
             },
             "line": {
              "color": "white"
             }
            },
            "type": "table"
           }
          ]
         },
         "layout": {
          "annotationdefaults": {
           "arrowcolor": "#2a3f5f",
           "arrowhead": 0,
           "arrowwidth": 1
          },
          "autotypenumbers": "strict",
          "coloraxis": {
           "colorbar": {
            "outlinewidth": 0,
            "ticks": ""
           }
          },
          "colorscale": {
           "diverging": [
            [
             0,
             "#8e0152"
            ],
            [
             0.1,
             "#c51b7d"
            ],
            [
             0.2,
             "#de77ae"
            ],
            [
             0.3,
             "#f1b6da"
            ],
            [
             0.4,
             "#fde0ef"
            ],
            [
             0.5,
             "#f7f7f7"
            ],
            [
             0.6,
             "#e6f5d0"
            ],
            [
             0.7,
             "#b8e186"
            ],
            [
             0.8,
             "#7fbc41"
            ],
            [
             0.9,
             "#4d9221"
            ],
            [
             1,
             "#276419"
            ]
           ],
           "sequential": [
            [
             0,
             "#0d0887"
            ],
            [
             0.1111111111111111,
             "#46039f"
            ],
            [
             0.2222222222222222,
             "#7201a8"
            ],
            [
             0.3333333333333333,
             "#9c179e"
            ],
            [
             0.4444444444444444,
             "#bd3786"
            ],
            [
             0.5555555555555556,
             "#d8576b"
            ],
            [
             0.6666666666666666,
             "#ed7953"
            ],
            [
             0.7777777777777778,
             "#fb9f3a"
            ],
            [
             0.8888888888888888,
             "#fdca26"
            ],
            [
             1,
             "#f0f921"
            ]
           ],
           "sequentialminus": [
            [
             0,
             "#0d0887"
            ],
            [
             0.1111111111111111,
             "#46039f"
            ],
            [
             0.2222222222222222,
             "#7201a8"
            ],
            [
             0.3333333333333333,
             "#9c179e"
            ],
            [
             0.4444444444444444,
             "#bd3786"
            ],
            [
             0.5555555555555556,
             "#d8576b"
            ],
            [
             0.6666666666666666,
             "#ed7953"
            ],
            [
             0.7777777777777778,
             "#fb9f3a"
            ],
            [
             0.8888888888888888,
             "#fdca26"
            ],
            [
             1,
             "#f0f921"
            ]
           ]
          },
          "colorway": [
           "#636efa",
           "#EF553B",
           "#00cc96",
           "#ab63fa",
           "#FFA15A",
           "#19d3f3",
           "#FF6692",
           "#B6E880",
           "#FF97FF",
           "#FECB52"
          ],
          "font": {
           "color": "#2a3f5f"
          },
          "geo": {
           "bgcolor": "white",
           "lakecolor": "white",
           "landcolor": "#E5ECF6",
           "showlakes": true,
           "showland": true,
           "subunitcolor": "white"
          },
          "hoverlabel": {
           "align": "left"
          },
          "hovermode": "closest",
          "mapbox": {
           "style": "light"
          },
          "paper_bgcolor": "white",
          "plot_bgcolor": "#E5ECF6",
          "polar": {
           "angularaxis": {
            "gridcolor": "white",
            "linecolor": "white",
            "ticks": ""
           },
           "bgcolor": "#E5ECF6",
           "radialaxis": {
            "gridcolor": "white",
            "linecolor": "white",
            "ticks": ""
           }
          },
          "scene": {
           "xaxis": {
            "backgroundcolor": "#E5ECF6",
            "gridcolor": "white",
            "gridwidth": 2,
            "linecolor": "white",
            "showbackground": true,
            "ticks": "",
            "zerolinecolor": "white"
           },
           "yaxis": {
            "backgroundcolor": "#E5ECF6",
            "gridcolor": "white",
            "gridwidth": 2,
            "linecolor": "white",
            "showbackground": true,
            "ticks": "",
            "zerolinecolor": "white"
           },
           "zaxis": {
            "backgroundcolor": "#E5ECF6",
            "gridcolor": "white",
            "gridwidth": 2,
            "linecolor": "white",
            "showbackground": true,
            "ticks": "",
            "zerolinecolor": "white"
           }
          },
          "shapedefaults": {
           "line": {
            "color": "#2a3f5f"
           }
          },
          "ternary": {
           "aaxis": {
            "gridcolor": "white",
            "linecolor": "white",
            "ticks": ""
           },
           "baxis": {
            "gridcolor": "white",
            "linecolor": "white",
            "ticks": ""
           },
           "bgcolor": "#E5ECF6",
           "caxis": {
            "gridcolor": "white",
            "linecolor": "white",
            "ticks": ""
           }
          },
          "title": {
           "x": 0.05
          },
          "xaxis": {
           "automargin": true,
           "gridcolor": "white",
           "linecolor": "white",
           "ticks": "",
           "title": {
            "standoff": 15
           },
           "zerolinecolor": "white",
           "zerolinewidth": 2
          },
          "yaxis": {
           "automargin": true,
           "gridcolor": "white",
           "linecolor": "white",
           "ticks": "",
           "title": {
            "standoff": 15
           },
           "zerolinecolor": "white",
           "zerolinewidth": 2
          }
         }
        },
        "title": {
         "text": "Películas Exitosas por Tipo de Clasificación"
        },
        "width": 600
       }
      }
     },
     "metadata": {},
     "output_type": "display_data"
    }
   ],
   "source": [
    "# Agrupar clasificaciones\n",
    "df['rating'] = df['rating'].replace({\n",
    "    'Unrated': 'NC-17',   # Agrupar 'Unrated' y 'X' con 'NC-17'\n",
    "    'X': 'NC-17',\n",
    "    'Not Rated': 'G',     # Agrupar 'Not Rated' y 'Approved' con 'G'\n",
    "    'Approved': 'G',\n",
    "    'TV-MA': 'R'          # Agrupar 'TV-MA' con 'R'\n",
    "})\n",
    "\n",
    "# Considerar película exitosa si el ROI es mayor que 2.25\n",
    "df['pelicula_exitosa'] = df['ROI'] > 2.25\n",
    "\n",
    "# Contar películas exitosas por tipo de clasificación\n",
    "df_grouped = df.groupby('rating').agg({'pelicula_exitosa': 'sum'}).reset_index()\n",
    "\n",
    "# Crear gráfico de dona\n",
    "color_map = {\n",
    "    'G': 'green',\n",
    "    'PG': 'blue',\n",
    "    'PG-13': 'orange',\n",
    "    'R': 'red',\n",
    "    'NC-17': 'black'\n",
    "}\n",
    "\n",
    "fig = px.pie(df_grouped,\n",
    "             names='rating',\n",
    "             values='pelicula_exitosa',\n",
    "             labels={'rating': 'Clasificación', 'pelicula_exitosa': 'Número de Películas Exitosas'},\n",
    "             title='Películas Exitosas por Tipo de Clasificación',\n",
    "             color='rating',  # Asignar color según la clasificación\n",
    "             color_discrete_map=color_map,  # Mapear colores\n",
    "             hole=0.4)  # Crear un gráfico de dona (hueco en el centro)\n",
    "\n",
    "# Ajustar el tamaño de la figura\n",
    "fig.update_layout(\n",
    "    width=600,  # Ancho de 600 píxeles\n",
    "    height=469  # Alto de 469 píxeles\n",
    ")\n",
    "\n",
    "fig.show()\n"
   ]
  },
  {
   "cell_type": "code",
   "execution_count": 3,
   "metadata": {
    "colab": {
     "base_uri": "https://localhost:8080/",
     "height": 486
    },
    "id": "8wPLNmwN76oq",
    "outputId": "db53eef2-6a4d-4d40-fcfa-bc59781c9847"
   },
   "outputs": [
    {
     "data": {
      "application/vnd.plotly.v1+json": {
       "config": {
        "plotlyServerURL": "https://plot.ly"
       },
       "data": [
        {
         "alignmentgroup": "True",
         "hovertemplate": "Director=%{x}<br>Ingresos Brutos=%{y}<extra></extra>",
         "legendgroup": "James Cameron",
         "marker": {
          "color": "black"
         },
         "name": "James Cameron",
         "notched": false,
         "offsetgroup": "James Cameron",
         "orientation": "v",
         "showlegend": true,
         "type": "box",
         "x": [
          "James Cameron",
          "James Cameron",
          "James Cameron",
          "James Cameron",
          "James Cameron",
          "James Cameron",
          "James Cameron"
         ],
         "x0": " ",
         "xaxis": "x",
         "y": [
          78371200,
          131060248,
          90000098,
          520881154,
          378882411,
          2201647264,
          2847246203
         ],
         "y0": " ",
         "yaxis": "y"
        },
        {
         "alignmentgroup": "True",
         "hovertemplate": "Director=%{x}<br>Ingresos Brutos=%{y}<extra></extra>",
         "legendgroup": "George Lucas",
         "marker": {
          "color": "black"
         },
         "name": "George Lucas",
         "notched": false,
         "offsetgroup": "George Lucas",
         "orientation": "v",
         "showlegend": true,
         "type": "box",
         "x": [
          "George Lucas",
          "George Lucas",
          "George Lucas"
         ],
         "x0": " ",
         "xaxis": "x",
         "y": [
          1027082707,
          653779970,
          868390560
         ],
         "y0": " ",
         "yaxis": "y"
        },
        {
         "alignmentgroup": "True",
         "hovertemplate": "Director=%{x}<br>Ingresos Brutos=%{y}<extra></extra>",
         "legendgroup": "Chris Buck",
         "marker": {
          "color": "black"
         },
         "name": "Chris Buck",
         "notched": false,
         "offsetgroup": "Chris Buck",
         "orientation": "v",
         "showlegend": true,
         "type": "box",
         "x": [
          "Chris Buck",
          "Chris Buck",
          "Chris Buck"
         ],
         "x0": " ",
         "xaxis": "x",
         "y": [
          448191819,
          1281508100,
          1450026933
         ],
         "y0": " ",
         "yaxis": "y"
        },
        {
         "alignmentgroup": "True",
         "hovertemplate": "Director=%{x}<br>Ingresos Brutos=%{y}<extra></extra>",
         "legendgroup": "Joss Whedon",
         "marker": {
          "color": "black"
         },
         "name": "Joss Whedon",
         "notched": false,
         "offsetgroup": "Joss Whedon",
         "orientation": "v",
         "showlegend": true,
         "type": "box",
         "x": [
          "Joss Whedon",
          "Joss Whedon",
          "Joss Whedon"
         ],
         "x0": " ",
         "xaxis": "x",
         "y": [
          40445129,
          1518815515,
          1402809540
         ],
         "y0": " ",
         "yaxis": "y"
        },
        {
         "alignmentgroup": "True",
         "hovertemplate": "Director=%{x}<br>Ingresos Brutos=%{y}<extra></extra>",
         "legendgroup": "J.J. Abrams",
         "marker": {
          "color": "black"
         },
         "name": "J.J. Abrams",
         "notched": false,
         "offsetgroup": "J.J. Abrams",
         "orientation": "v",
         "showlegend": true,
         "type": "box",
         "x": [
          "J.J. Abrams",
          "J.J. Abrams",
          "J.J. Abrams",
          "J.J. Abrams",
          "J.J. Abrams",
          "J.J. Abrams"
         ],
         "x0": " ",
         "xaxis": "x",
         "y": [
          398479497,
          385680446,
          260095986,
          467365246,
          2069521700,
          1078232589
         ],
         "y0": " ",
         "yaxis": "y"
        },
        {
         "alignmentgroup": "True",
         "hovertemplate": "Director=%{x}<br>Ingresos Brutos=%{y}<extra></extra>",
         "legendgroup": "Anthony Russo",
         "marker": {
          "color": "black"
         },
         "name": "Anthony Russo",
         "notched": false,
         "offsetgroup": "Anthony Russo",
         "orientation": "v",
         "showlegend": true,
         "type": "box",
         "x": [
          "Anthony Russo",
          "Anthony Russo",
          "Anthony Russo",
          "Anthony Russo",
          "Anthony Russo"
         ],
         "x0": " ",
         "xaxis": "x",
         "y": [
          130628903,
          714421503,
          1153337496,
          2048359754,
          2797501328
         ],
         "y0": " ",
         "yaxis": "y"
        },
        {
         "alignmentgroup": "True",
         "hovertemplate": "Director=%{x}<br>Ingresos Brutos=%{y}<extra></extra>",
         "legendgroup": "David Yates",
         "marker": {
          "color": "black"
         },
         "name": "David Yates",
         "notched": false,
         "offsetgroup": "David Yates",
         "orientation": "v",
         "showlegend": true,
         "type": "box",
         "x": [
          "David Yates",
          "David Yates",
          "David Yates",
          "David Yates",
          "David Yates",
          "David Yates"
         ],
         "x0": " ",
         "xaxis": "x",
         "y": [
          942172396,
          934454096,
          1342321665,
          814044001,
          356700357,
          654855901
         ],
         "y0": " ",
         "yaxis": "y"
        },
        {
         "alignmentgroup": "True",
         "hovertemplate": "Director=%{x}<br>Ingresos Brutos=%{y}<extra></extra>",
         "legendgroup": "Lee Unkrich",
         "marker": {
          "color": "black"
         },
         "name": "Lee Unkrich",
         "notched": false,
         "offsetgroup": "Lee Unkrich",
         "orientation": "v",
         "showlegend": true,
         "type": "box",
         "x": [
          "Lee Unkrich",
          "Lee Unkrich"
         ],
         "x0": " ",
         "xaxis": "x",
         "y": [
          1066970811,
          807817888
         ],
         "y0": " ",
         "yaxis": "y"
        },
        {
         "alignmentgroup": "True",
         "hovertemplate": "Director=%{x}<br>Ingresos Brutos=%{y}<extra></extra>",
         "legendgroup": "Kyle Balda",
         "marker": {
          "color": "black"
         },
         "name": "Kyle Balda",
         "notched": false,
         "offsetgroup": "Kyle Balda",
         "orientation": "v",
         "showlegend": true,
         "type": "box",
         "x": [
          "Kyle Balda",
          "Kyle Balda"
         ],
         "x0": " ",
         "xaxis": "x",
         "y": [
          1159444662,
          1034800131
         ],
         "y0": " ",
         "yaxis": "y"
        },
        {
         "alignmentgroup": "True",
         "hovertemplate": "Director=%{x}<br>Ingresos Brutos=%{y}<extra></extra>",
         "legendgroup": "Josh Cooley",
         "marker": {
          "color": "black"
         },
         "name": "Josh Cooley",
         "notched": false,
         "offsetgroup": "Josh Cooley",
         "orientation": "v",
         "showlegend": true,
         "type": "box",
         "x": [
          "Josh Cooley"
         ],
         "x0": " ",
         "xaxis": "x",
         "y": [
          1073394593
         ],
         "y0": " ",
         "yaxis": "y"
        }
       ],
       "layout": {
        "boxmode": "overlay",
        "height": 469,
        "legend": {
         "title": {
          "text": "Director"
         },
         "tracegroupgap": 0
        },
        "template": {
         "data": {
          "bar": [
           {
            "error_x": {
             "color": "#2a3f5f"
            },
            "error_y": {
             "color": "#2a3f5f"
            },
            "marker": {
             "line": {
              "color": "#E5ECF6",
              "width": 0.5
             },
             "pattern": {
              "fillmode": "overlay",
              "size": 10,
              "solidity": 0.2
             }
            },
            "type": "bar"
           }
          ],
          "barpolar": [
           {
            "marker": {
             "line": {
              "color": "#E5ECF6",
              "width": 0.5
             },
             "pattern": {
              "fillmode": "overlay",
              "size": 10,
              "solidity": 0.2
             }
            },
            "type": "barpolar"
           }
          ],
          "carpet": [
           {
            "aaxis": {
             "endlinecolor": "#2a3f5f",
             "gridcolor": "white",
             "linecolor": "white",
             "minorgridcolor": "white",
             "startlinecolor": "#2a3f5f"
            },
            "baxis": {
             "endlinecolor": "#2a3f5f",
             "gridcolor": "white",
             "linecolor": "white",
             "minorgridcolor": "white",
             "startlinecolor": "#2a3f5f"
            },
            "type": "carpet"
           }
          ],
          "choropleth": [
           {
            "colorbar": {
             "outlinewidth": 0,
             "ticks": ""
            },
            "type": "choropleth"
           }
          ],
          "contour": [
           {
            "colorbar": {
             "outlinewidth": 0,
             "ticks": ""
            },
            "colorscale": [
             [
              0,
              "#0d0887"
             ],
             [
              0.1111111111111111,
              "#46039f"
             ],
             [
              0.2222222222222222,
              "#7201a8"
             ],
             [
              0.3333333333333333,
              "#9c179e"
             ],
             [
              0.4444444444444444,
              "#bd3786"
             ],
             [
              0.5555555555555556,
              "#d8576b"
             ],
             [
              0.6666666666666666,
              "#ed7953"
             ],
             [
              0.7777777777777778,
              "#fb9f3a"
             ],
             [
              0.8888888888888888,
              "#fdca26"
             ],
             [
              1,
              "#f0f921"
             ]
            ],
            "type": "contour"
           }
          ],
          "contourcarpet": [
           {
            "colorbar": {
             "outlinewidth": 0,
             "ticks": ""
            },
            "type": "contourcarpet"
           }
          ],
          "heatmap": [
           {
            "colorbar": {
             "outlinewidth": 0,
             "ticks": ""
            },
            "colorscale": [
             [
              0,
              "#0d0887"
             ],
             [
              0.1111111111111111,
              "#46039f"
             ],
             [
              0.2222222222222222,
              "#7201a8"
             ],
             [
              0.3333333333333333,
              "#9c179e"
             ],
             [
              0.4444444444444444,
              "#bd3786"
             ],
             [
              0.5555555555555556,
              "#d8576b"
             ],
             [
              0.6666666666666666,
              "#ed7953"
             ],
             [
              0.7777777777777778,
              "#fb9f3a"
             ],
             [
              0.8888888888888888,
              "#fdca26"
             ],
             [
              1,
              "#f0f921"
             ]
            ],
            "type": "heatmap"
           }
          ],
          "heatmapgl": [
           {
            "colorbar": {
             "outlinewidth": 0,
             "ticks": ""
            },
            "colorscale": [
             [
              0,
              "#0d0887"
             ],
             [
              0.1111111111111111,
              "#46039f"
             ],
             [
              0.2222222222222222,
              "#7201a8"
             ],
             [
              0.3333333333333333,
              "#9c179e"
             ],
             [
              0.4444444444444444,
              "#bd3786"
             ],
             [
              0.5555555555555556,
              "#d8576b"
             ],
             [
              0.6666666666666666,
              "#ed7953"
             ],
             [
              0.7777777777777778,
              "#fb9f3a"
             ],
             [
              0.8888888888888888,
              "#fdca26"
             ],
             [
              1,
              "#f0f921"
             ]
            ],
            "type": "heatmapgl"
           }
          ],
          "histogram": [
           {
            "marker": {
             "pattern": {
              "fillmode": "overlay",
              "size": 10,
              "solidity": 0.2
             }
            },
            "type": "histogram"
           }
          ],
          "histogram2d": [
           {
            "colorbar": {
             "outlinewidth": 0,
             "ticks": ""
            },
            "colorscale": [
             [
              0,
              "#0d0887"
             ],
             [
              0.1111111111111111,
              "#46039f"
             ],
             [
              0.2222222222222222,
              "#7201a8"
             ],
             [
              0.3333333333333333,
              "#9c179e"
             ],
             [
              0.4444444444444444,
              "#bd3786"
             ],
             [
              0.5555555555555556,
              "#d8576b"
             ],
             [
              0.6666666666666666,
              "#ed7953"
             ],
             [
              0.7777777777777778,
              "#fb9f3a"
             ],
             [
              0.8888888888888888,
              "#fdca26"
             ],
             [
              1,
              "#f0f921"
             ]
            ],
            "type": "histogram2d"
           }
          ],
          "histogram2dcontour": [
           {
            "colorbar": {
             "outlinewidth": 0,
             "ticks": ""
            },
            "colorscale": [
             [
              0,
              "#0d0887"
             ],
             [
              0.1111111111111111,
              "#46039f"
             ],
             [
              0.2222222222222222,
              "#7201a8"
             ],
             [
              0.3333333333333333,
              "#9c179e"
             ],
             [
              0.4444444444444444,
              "#bd3786"
             ],
             [
              0.5555555555555556,
              "#d8576b"
             ],
             [
              0.6666666666666666,
              "#ed7953"
             ],
             [
              0.7777777777777778,
              "#fb9f3a"
             ],
             [
              0.8888888888888888,
              "#fdca26"
             ],
             [
              1,
              "#f0f921"
             ]
            ],
            "type": "histogram2dcontour"
           }
          ],
          "mesh3d": [
           {
            "colorbar": {
             "outlinewidth": 0,
             "ticks": ""
            },
            "type": "mesh3d"
           }
          ],
          "parcoords": [
           {
            "line": {
             "colorbar": {
              "outlinewidth": 0,
              "ticks": ""
             }
            },
            "type": "parcoords"
           }
          ],
          "pie": [
           {
            "automargin": true,
            "type": "pie"
           }
          ],
          "scatter": [
           {
            "fillpattern": {
             "fillmode": "overlay",
             "size": 10,
             "solidity": 0.2
            },
            "type": "scatter"
           }
          ],
          "scatter3d": [
           {
            "line": {
             "colorbar": {
              "outlinewidth": 0,
              "ticks": ""
             }
            },
            "marker": {
             "colorbar": {
              "outlinewidth": 0,
              "ticks": ""
             }
            },
            "type": "scatter3d"
           }
          ],
          "scattercarpet": [
           {
            "marker": {
             "colorbar": {
              "outlinewidth": 0,
              "ticks": ""
             }
            },
            "type": "scattercarpet"
           }
          ],
          "scattergeo": [
           {
            "marker": {
             "colorbar": {
              "outlinewidth": 0,
              "ticks": ""
             }
            },
            "type": "scattergeo"
           }
          ],
          "scattergl": [
           {
            "marker": {
             "colorbar": {
              "outlinewidth": 0,
              "ticks": ""
             }
            },
            "type": "scattergl"
           }
          ],
          "scattermapbox": [
           {
            "marker": {
             "colorbar": {
              "outlinewidth": 0,
              "ticks": ""
             }
            },
            "type": "scattermapbox"
           }
          ],
          "scatterpolar": [
           {
            "marker": {
             "colorbar": {
              "outlinewidth": 0,
              "ticks": ""
             }
            },
            "type": "scatterpolar"
           }
          ],
          "scatterpolargl": [
           {
            "marker": {
             "colorbar": {
              "outlinewidth": 0,
              "ticks": ""
             }
            },
            "type": "scatterpolargl"
           }
          ],
          "scatterternary": [
           {
            "marker": {
             "colorbar": {
              "outlinewidth": 0,
              "ticks": ""
             }
            },
            "type": "scatterternary"
           }
          ],
          "surface": [
           {
            "colorbar": {
             "outlinewidth": 0,
             "ticks": ""
            },
            "colorscale": [
             [
              0,
              "#0d0887"
             ],
             [
              0.1111111111111111,
              "#46039f"
             ],
             [
              0.2222222222222222,
              "#7201a8"
             ],
             [
              0.3333333333333333,
              "#9c179e"
             ],
             [
              0.4444444444444444,
              "#bd3786"
             ],
             [
              0.5555555555555556,
              "#d8576b"
             ],
             [
              0.6666666666666666,
              "#ed7953"
             ],
             [
              0.7777777777777778,
              "#fb9f3a"
             ],
             [
              0.8888888888888888,
              "#fdca26"
             ],
             [
              1,
              "#f0f921"
             ]
            ],
            "type": "surface"
           }
          ],
          "table": [
           {
            "cells": {
             "fill": {
              "color": "#EBF0F8"
             },
             "line": {
              "color": "white"
             }
            },
            "header": {
             "fill": {
              "color": "#C8D4E3"
             },
             "line": {
              "color": "white"
             }
            },
            "type": "table"
           }
          ]
         },
         "layout": {
          "annotationdefaults": {
           "arrowcolor": "#2a3f5f",
           "arrowhead": 0,
           "arrowwidth": 1
          },
          "autotypenumbers": "strict",
          "coloraxis": {
           "colorbar": {
            "outlinewidth": 0,
            "ticks": ""
           }
          },
          "colorscale": {
           "diverging": [
            [
             0,
             "#8e0152"
            ],
            [
             0.1,
             "#c51b7d"
            ],
            [
             0.2,
             "#de77ae"
            ],
            [
             0.3,
             "#f1b6da"
            ],
            [
             0.4,
             "#fde0ef"
            ],
            [
             0.5,
             "#f7f7f7"
            ],
            [
             0.6,
             "#e6f5d0"
            ],
            [
             0.7,
             "#b8e186"
            ],
            [
             0.8,
             "#7fbc41"
            ],
            [
             0.9,
             "#4d9221"
            ],
            [
             1,
             "#276419"
            ]
           ],
           "sequential": [
            [
             0,
             "#0d0887"
            ],
            [
             0.1111111111111111,
             "#46039f"
            ],
            [
             0.2222222222222222,
             "#7201a8"
            ],
            [
             0.3333333333333333,
             "#9c179e"
            ],
            [
             0.4444444444444444,
             "#bd3786"
            ],
            [
             0.5555555555555556,
             "#d8576b"
            ],
            [
             0.6666666666666666,
             "#ed7953"
            ],
            [
             0.7777777777777778,
             "#fb9f3a"
            ],
            [
             0.8888888888888888,
             "#fdca26"
            ],
            [
             1,
             "#f0f921"
            ]
           ],
           "sequentialminus": [
            [
             0,
             "#0d0887"
            ],
            [
             0.1111111111111111,
             "#46039f"
            ],
            [
             0.2222222222222222,
             "#7201a8"
            ],
            [
             0.3333333333333333,
             "#9c179e"
            ],
            [
             0.4444444444444444,
             "#bd3786"
            ],
            [
             0.5555555555555556,
             "#d8576b"
            ],
            [
             0.6666666666666666,
             "#ed7953"
            ],
            [
             0.7777777777777778,
             "#fb9f3a"
            ],
            [
             0.8888888888888888,
             "#fdca26"
            ],
            [
             1,
             "#f0f921"
            ]
           ]
          },
          "colorway": [
           "#636efa",
           "#EF553B",
           "#00cc96",
           "#ab63fa",
           "#FFA15A",
           "#19d3f3",
           "#FF6692",
           "#B6E880",
           "#FF97FF",
           "#FECB52"
          ],
          "font": {
           "color": "#2a3f5f"
          },
          "geo": {
           "bgcolor": "white",
           "lakecolor": "white",
           "landcolor": "#E5ECF6",
           "showlakes": true,
           "showland": true,
           "subunitcolor": "white"
          },
          "hoverlabel": {
           "align": "left"
          },
          "hovermode": "closest",
          "mapbox": {
           "style": "light"
          },
          "paper_bgcolor": "white",
          "plot_bgcolor": "#E5ECF6",
          "polar": {
           "angularaxis": {
            "gridcolor": "white",
            "linecolor": "white",
            "ticks": ""
           },
           "bgcolor": "#E5ECF6",
           "radialaxis": {
            "gridcolor": "white",
            "linecolor": "white",
            "ticks": ""
           }
          },
          "scene": {
           "xaxis": {
            "backgroundcolor": "#E5ECF6",
            "gridcolor": "white",
            "gridwidth": 2,
            "linecolor": "white",
            "showbackground": true,
            "ticks": "",
            "zerolinecolor": "white"
           },
           "yaxis": {
            "backgroundcolor": "#E5ECF6",
            "gridcolor": "white",
            "gridwidth": 2,
            "linecolor": "white",
            "showbackground": true,
            "ticks": "",
            "zerolinecolor": "white"
           },
           "zaxis": {
            "backgroundcolor": "#E5ECF6",
            "gridcolor": "white",
            "gridwidth": 2,
            "linecolor": "white",
            "showbackground": true,
            "ticks": "",
            "zerolinecolor": "white"
           }
          },
          "shapedefaults": {
           "line": {
            "color": "#2a3f5f"
           }
          },
          "ternary": {
           "aaxis": {
            "gridcolor": "white",
            "linecolor": "white",
            "ticks": ""
           },
           "baxis": {
            "gridcolor": "white",
            "linecolor": "white",
            "ticks": ""
           },
           "bgcolor": "#E5ECF6",
           "caxis": {
            "gridcolor": "white",
            "linecolor": "white",
            "ticks": ""
           }
          },
          "title": {
           "x": 0.05
          },
          "xaxis": {
           "automargin": true,
           "gridcolor": "white",
           "linecolor": "white",
           "ticks": "",
           "title": {
            "standoff": 15
           },
           "zerolinecolor": "white",
           "zerolinewidth": 2
          },
          "yaxis": {
           "automargin": true,
           "gridcolor": "white",
           "linecolor": "white",
           "ticks": "",
           "title": {
            "standoff": 15
           },
           "zerolinecolor": "white",
           "zerolinewidth": 2
          }
         }
        },
        "title": {
         "text": "Distribución de Ingresos Brutos de los Top 10 Directores",
         "x": 0.5
        },
        "width": 600,
        "xaxis": {
         "anchor": "y",
         "categoryarray": [
          "James Cameron",
          "George Lucas",
          "Chris Buck",
          "Joss Whedon",
          "J.J. Abrams",
          "Anthony Russo",
          "David Yates",
          "Lee Unkrich",
          "Kyle Balda",
          "Josh Cooley"
         ],
         "categoryorder": "array",
         "domain": [
          0,
          1
         ],
         "tickangle": -45,
         "title": {
          "text": "Director"
         }
        },
        "yaxis": {
         "anchor": "x",
         "domain": [
          0,
          1
         ],
         "title": {
          "text": "Ingresos Brutos (USD)"
         }
        }
       }
      }
     },
     "metadata": {},
     "output_type": "display_data"
    }
   ],
   "source": [
    "# Agrupamos y calculamos el promedio de ingresos por director\n",
    "top_directors = (\n",
    "    df.groupby('director')['gross']\n",
    "    .mean()\n",
    "    .sort_values(ascending=False)\n",
    "    .head(10)\n",
    "    .reset_index()\n",
    ")\n",
    "\n",
    "# Creamos el boxplot para los directores con colores en blanco/negro\n",
    "fig_directors_box = px.box(\n",
    "    df[df['director'].isin(top_directors['director'])],  # Filtramos solo los top 10 directores\n",
    "    x='director',\n",
    "    y='gross',\n",
    "    title='Distribución de Ingresos Brutos de los Top 10 Directores',\n",
    "    labels={'gross': 'Ingresos Brutos', 'director': 'Director'},\n",
    "    color='director',  # Colorear las cajas por director\n",
    "    color_discrete_sequence=['black'] * len(top_directors)  # Asignar color negro a todas las cajas\n",
    ")\n",
    "\n",
    "# Personalizamos el diseño y ajustamos el tamaño de la figura\n",
    "fig_directors_box.update_layout(\n",
    "    width=600,  # Ancho de 600 píxeles\n",
    "    height=469,  # Alto de 469 píxeles\n",
    "    xaxis_title='Director',\n",
    "    yaxis_title='Ingresos Brutos (USD)',\n",
    "    title_x=0.5,  # Centrar el título\n",
    "    xaxis_tickangle=-45  # Rotar los nombres de los directores para mejor visualización\n",
    ")\n",
    "\n",
    "# Mostramos la gráfica\n",
    "fig_directors_box.show()\n"
   ]
  },
  {
   "cell_type": "code",
   "execution_count": 4,
   "metadata": {
    "colab": {
     "base_uri": "https://localhost:8080/",
     "height": 486
    },
    "id": "SBpBF1Tf9TVi",
    "outputId": "5fdcaae2-d652-4a73-ba0a-cca6797af4e0"
   },
   "outputs": [
    {
     "data": {
      "application/vnd.plotly.v1+json": {
       "config": {
        "plotlyServerURL": "https://plot.ly"
       },
       "data": [
        {
         "alignmentgroup": "True",
         "hovertemplate": "Actor/Actriz=%{x}<br>Ingresos Brutos=%{y}<extra></extra>",
         "legendgroup": "Tom Cruise",
         "marker": {
          "color": "black"
         },
         "name": "Tom Cruise",
         "notched": false,
         "offsetgroup": "Tom Cruise",
         "orientation": "v",
         "showlegend": true,
         "type": "box",
         "x": [
          "Tom Cruise",
          "Tom Cruise",
          "Tom Cruise",
          "Tom Cruise",
          "Tom Cruise",
          "Tom Cruise",
          "Tom Cruise",
          "Tom Cruise",
          "Tom Cruise",
          "Tom Cruise",
          "Tom Cruise",
          "Tom Cruise",
          "Tom Cruise",
          "Tom Cruise",
          "Tom Cruise",
          "Tom Cruise",
          "Tom Cruise",
          "Tom Cruise",
          "Tom Cruise",
          "Tom Cruise",
          "Tom Cruise",
          "Tom Cruise",
          "Tom Cruise",
          "Tom Cruise",
          "Tom Cruise",
          "Tom Cruise",
          "Tom Cruise",
          "Tom Cruise",
          "Tom Cruise",
          "Tom Cruise",
          "Tom Cruise",
          "Tom Cruise",
          "Tom Cruise"
         ],
         "x0": " ",
         "xaxis": "x",
         "y": [
          63541777,
          17233166,
          1246141,
          15502112,
          357288178,
          171504781,
          161001698,
          157920733,
          243240178,
          137783840,
          270248367,
          457696391,
          273552592,
          48451803,
          546388108,
          203388341,
          358372926,
          454627263,
          220239925,
          603873119,
          398479497,
          64811540,
          201545517,
          261989769,
          694713380,
          218340595,
          286168572,
          370541256,
          682716636,
          162146076,
          134866593,
          409231607,
          791657398
         ],
         "y0": " ",
         "yaxis": "y"
        },
        {
         "alignmentgroup": "True",
         "hovertemplate": "Actor/Actriz=%{x}<br>Ingresos Brutos=%{y}<extra></extra>",
         "legendgroup": "Tom Hanks",
         "marker": {
          "color": "black"
         },
         "name": "Tom Hanks",
         "notched": false,
         "offsetgroup": "Tom Hanks",
         "orientation": "v",
         "showlegend": true,
         "type": "box",
         "x": [
          "Tom Hanks",
          "Tom Hanks",
          "Tom Hanks",
          "Tom Hanks",
          "Tom Hanks",
          "Tom Hanks",
          "Tom Hanks",
          "Tom Hanks",
          "Tom Hanks",
          "Tom Hanks",
          "Tom Hanks",
          "Tom Hanks",
          "Tom Hanks",
          "Tom Hanks",
          "Tom Hanks",
          "Tom Hanks",
          "Tom Hanks",
          "Tom Hanks",
          "Tom Hanks",
          "Tom Hanks",
          "Tom Hanks",
          "Tom Hanks",
          "Tom Hanks",
          "Tom Hanks",
          "Tom Hanks",
          "Tom Hanks",
          "Tom Hanks",
          "Tom Hanks",
          "Tom Hanks",
          "Tom Hanks",
          "Tom Hanks",
          "Tom Hanks",
          "Tom Hanks",
          "Tom Hanks",
          "Tom Hanks",
          "Tom Hanks",
          "Tom Hanks",
          "Tom Hanks"
         ],
         "x0": " ",
         "xaxis": "x",
         "y": [
          69821334,
          38435947,
          8645411,
          54999651,
          151927281,
          71079915,
          49101993,
          15691192,
          39404261,
          132440069,
          206678440,
          227927165,
          678226133,
          355237933,
          394436586,
          34585416,
          482349603,
          250821495,
          286801374,
          497375381,
          429632142,
          181001478,
          219100084,
          76665191,
          314215454,
          760006945,
          119483446,
          485930816,
          1066970811,
          75055070,
          130482868,
          218791811,
          165478348,
          220021259,
          240797623,
          9169507,
          1073394593,
          67760877
         ],
         "y0": " ",
         "yaxis": "y"
        },
        {
         "alignmentgroup": "True",
         "hovertemplate": "Actor/Actriz=%{x}<br>Ingresos Brutos=%{y}<extra></extra>",
         "legendgroup": "Bruce Willis",
         "marker": {
          "color": "black"
         },
         "name": "Bruce Willis",
         "notched": false,
         "offsetgroup": "Bruce Willis",
         "orientation": "v",
         "showlegend": true,
         "type": "box",
         "x": [
          "Bruce Willis",
          "Bruce Willis",
          "Bruce Willis",
          "Bruce Willis",
          "Bruce Willis",
          "Bruce Willis",
          "Bruce Willis",
          "Bruce Willis",
          "Bruce Willis",
          "Bruce Willis",
          "Bruce Willis",
          "Bruce Willis",
          "Bruce Willis",
          "Bruce Willis",
          "Bruce Willis",
          "Bruce Willis",
          "Bruce Willis",
          "Bruce Willis",
          "Bruce Willis",
          "Bruce Willis",
          "Bruce Willis",
          "Bruce Willis",
          "Bruce Willis",
          "Bruce Willis",
          "Bruce Willis",
          "Bruce Willis",
          "Bruce Willis",
          "Bruce Willis",
          "Bruce Willis",
          "Bruce Willis",
          "Bruce Willis",
          "Bruce Willis",
          "Bruce Willis",
          "Bruce Willis"
         ],
         "x0": " ",
         "xaxis": "x",
         "y": [
          141603197,
          4594452,
          240031274,
          59509925,
          17218080,
          24107867,
          19726050,
          366101666,
          168839459,
          47267001,
          263920180,
          159330280,
          553709788,
          93107289,
          672806292,
          58900031,
          178278,
          248118121,
          106371651,
          110317580,
          67631903,
          32287044,
          86468162,
          26170671,
          77663556,
          339795890,
          65664721,
          388156011,
          122444772,
          199006387,
          55611001,
          304654182,
          148075565,
          49562710
         ],
         "y0": " ",
         "yaxis": "y"
        },
        {
         "alignmentgroup": "True",
         "hovertemplate": "Actor/Actriz=%{x}<br>Ingresos Brutos=%{y}<extra></extra>",
         "legendgroup": "Robert Downey Jr.",
         "marker": {
          "color": "black"
         },
         "name": "Robert Downey Jr.",
         "notched": false,
         "offsetgroup": "Robert Downey Jr.",
         "orientation": "v",
         "showlegend": true,
         "type": "box",
         "x": [
          "Robert Downey Jr.",
          "Robert Downey Jr.",
          "Robert Downey Jr.",
          "Robert Downey Jr.",
          "Robert Downey Jr.",
          "Robert Downey Jr.",
          "Robert Downey Jr.",
          "Robert Downey Jr.",
          "Robert Downey Jr.",
          "Robert Downey Jr.",
          "Robert Downey Jr.",
          "Robert Downey Jr.",
          "Robert Downey Jr.",
          "Robert Downey Jr.",
          "Robert Downey Jr.",
          "Robert Downey Jr.",
          "Robert Downey Jr.",
          "Robert Downey Jr.",
          "Robert Downey Jr."
         ],
         "x0": " ",
         "xaxis": "x",
         "y": [
          5979011,
          9493259,
          16589540,
          4005941,
          2057193,
          435625,
          15785148,
          585796247,
          524028679,
          623933331,
          211780824,
          543848418,
          1518815515,
          1214811252,
          84419388,
          1402809540,
          2048359754,
          2797501328,
          245487753
         ],
         "y0": " ",
         "yaxis": "y"
        },
        {
         "alignmentgroup": "True",
         "hovertemplate": "Actor/Actriz=%{x}<br>Ingresos Brutos=%{y}<extra></extra>",
         "legendgroup": "Johnny Depp",
         "marker": {
          "color": "black"
         },
         "name": "Johnny Depp",
         "notched": false,
         "offsetgroup": "Johnny Depp",
         "orientation": "v",
         "showlegend": true,
         "type": "box",
         "x": [
          "Johnny Depp",
          "Johnny Depp",
          "Johnny Depp",
          "Johnny Depp",
          "Johnny Depp",
          "Johnny Depp",
          "Johnny Depp",
          "Johnny Depp",
          "Johnny Depp",
          "Johnny Depp",
          "Johnny Depp",
          "Johnny Depp",
          "Johnny Depp",
          "Johnny Depp",
          "Johnny Depp",
          "Johnny Depp",
          "Johnny Depp",
          "Johnny Depp",
          "Johnny Depp",
          "Johnny Depp",
          "Johnny Depp",
          "Johnny Depp",
          "Johnny Depp",
          "Johnny Depp",
          "Johnny Depp",
          "Johnny Depp",
          "Johnny Depp",
          "Johnny Depp",
          "Johnny Depp",
          "Johnny Depp",
          "Johnny Depp"
         ],
         "x0": " ",
         "xaxis": "x",
         "y": [
          86024005,
          8266343,
          10032765,
          112547,
          5887457,
          68792531,
          1037847,
          8175346,
          10680275,
          206071502,
          58401898,
          83282296,
          74558115,
          654264015,
          92913171,
          116650613,
          474968763,
          118090836,
          1066179747,
          960996492,
          153383627,
          278780441,
          1045713802,
          245724603,
          30134958,
          245527149,
          260502115,
          103039258,
          99775678,
          47275717,
          794881442
         ],
         "y0": " ",
         "yaxis": "y"
        },
        {
         "alignmentgroup": "True",
         "hovertemplate": "Actor/Actriz=%{x}<br>Ingresos Brutos=%{y}<extra></extra>",
         "legendgroup": "Will Smith",
         "marker": {
          "color": "black"
         },
         "name": "Will Smith",
         "notched": false,
         "offsetgroup": "Will Smith",
         "orientation": "v",
         "showlegend": true,
         "type": "box",
         "x": [
          "Will Smith",
          "Will Smith",
          "Will Smith",
          "Will Smith",
          "Will Smith",
          "Will Smith",
          "Will Smith",
          "Will Smith",
          "Will Smith",
          "Will Smith",
          "Will Smith",
          "Will Smith",
          "Will Smith",
          "Will Smith",
          "Will Smith",
          "Will Smith",
          "Will Smith",
          "Will Smith",
          "Will Smith",
          "Will Smith",
          "Will Smith",
          "Will Smith",
          "Will Smith"
         ],
         "x0": " ",
         "xaxis": "x",
         "y": [
          6405918,
          141407024,
          817400891,
          250849789,
          222104681,
          39459427,
          87812729,
          273339556,
          353133898,
          374583879,
          371594210,
          307127625,
          585410052,
          169748929,
          629443428,
          624026776,
          158762963,
          48623572,
          746846894,
          88528280,
          173469516,
          1050693953,
          426505244
         ],
         "y0": " ",
         "yaxis": "y"
        },
        {
         "alignmentgroup": "True",
         "hovertemplate": "Actor/Actriz=%{x}<br>Ingresos Brutos=%{y}<extra></extra>",
         "legendgroup": "Leonardo DiCaprio",
         "marker": {
          "color": "black"
         },
         "name": "Leonardo DiCaprio",
         "notched": false,
         "offsetgroup": "Leonardo DiCaprio",
         "orientation": "v",
         "showlegend": true,
         "type": "box",
         "x": [
          "Leonardo DiCaprio",
          "Leonardo DiCaprio",
          "Leonardo DiCaprio",
          "Leonardo DiCaprio",
          "Leonardo DiCaprio",
          "Leonardo DiCaprio",
          "Leonardo DiCaprio",
          "Leonardo DiCaprio",
          "Leonardo DiCaprio",
          "Leonardo DiCaprio",
          "Leonardo DiCaprio",
          "Leonardo DiCaprio",
          "Leonardo DiCaprio",
          "Leonardo DiCaprio",
          "Leonardo DiCaprio",
          "Leonardo DiCaprio",
          "Leonardo DiCaprio",
          "Leonardo DiCaprio",
          "Leonardo DiCaprio",
          "Leonardo DiCaprio"
         ],
         "x0": " ",
         "xaxis": "x",
         "y": [
          2402438,
          340139,
          147554998,
          2201647264,
          182968902,
          144056873,
          352114312,
          193772504,
          213719942,
          291465373,
          171720398,
          75981180,
          115900897,
          836836967,
          294805697,
          84920539,
          392000694,
          353642274,
          532950503,
          374565754
         ],
         "y0": " ",
         "yaxis": "y"
        },
        {
         "alignmentgroup": "True",
         "hovertemplate": "Actor/Actriz=%{x}<br>Ingresos Brutos=%{y}<extra></extra>",
         "legendgroup": "Daniel Radcliffe",
         "marker": {
          "color": "black"
         },
         "name": "Daniel Radcliffe",
         "notched": false,
         "offsetgroup": "Daniel Radcliffe",
         "orientation": "v",
         "showlegend": true,
         "type": "box",
         "x": [
          "Daniel Radcliffe",
          "Daniel Radcliffe",
          "Daniel Radcliffe",
          "Daniel Radcliffe",
          "Daniel Radcliffe",
          "Daniel Radcliffe",
          "Daniel Radcliffe",
          "Daniel Radcliffe",
          "Daniel Radcliffe",
          "Daniel Radcliffe"
         ],
         "x0": " ",
         "xaxis": "x",
         "y": [
          1006968171,
          879602366,
          797361618,
          896678241,
          942172396,
          934454096,
          1342321665,
          128955898,
          8526288,
          34227298
         ],
         "y0": " ",
         "yaxis": "y"
        },
        {
         "alignmentgroup": "True",
         "hovertemplate": "Actor/Actriz=%{x}<br>Ingresos Brutos=%{y}<extra></extra>",
         "legendgroup": "Vin Diesel",
         "marker": {
          "color": "black"
         },
         "name": "Vin Diesel",
         "notched": false,
         "offsetgroup": "Vin Diesel",
         "orientation": "v",
         "showlegend": true,
         "type": "box",
         "x": [
          "Vin Diesel",
          "Vin Diesel",
          "Vin Diesel",
          "Vin Diesel",
          "Vin Diesel",
          "Vin Diesel",
          "Vin Diesel",
          "Vin Diesel",
          "Vin Diesel",
          "Vin Diesel",
          "Vin Diesel",
          "Vin Diesel",
          "Vin Diesel",
          "Vin Diesel",
          "Vin Diesel"
         ],
         "x0": " ",
         "xaxis": "x",
         "y": [
          207305509,
          277448382,
          44350926,
          115900534,
          198636868,
          2636637,
          72109200,
          360366870,
          626137675,
          788680968,
          98337295,
          1515341399,
          146936910,
          1236005118,
          346118277
         ],
         "y0": " ",
         "yaxis": "y"
        },
        {
         "alignmentgroup": "True",
         "hovertemplate": "Actor/Actriz=%{x}<br>Ingresos Brutos=%{y}<extra></extra>",
         "legendgroup": "Dwayne Johnson",
         "marker": {
          "color": "black"
         },
         "name": "Dwayne Johnson",
         "notched": false,
         "offsetgroup": "Dwayne Johnson",
         "orientation": "v",
         "showlegend": true,
         "type": "box",
         "x": [
          "Dwayne Johnson",
          "Dwayne Johnson",
          "Dwayne Johnson",
          "Dwayne Johnson",
          "Dwayne Johnson",
          "Dwayne Johnson",
          "Dwayne Johnson",
          "Dwayne Johnson",
          "Dwayne Johnson",
          "Dwayne Johnson",
          "Dwayne Johnson",
          "Dwayne Johnson",
          "Dwayne Johnson",
          "Dwayne Johnson",
          "Dwayne Johnson",
          "Dwayne Johnson",
          "Dwayne Johnson",
          "Dwayne Johnson",
          "Dwayne Johnson",
          "Dwayne Johnson",
          "Dwayne Johnson",
          "Dwayne Johnson"
         ],
         "x0": " ",
         "xaxis": "x",
         "y": [
          180630907,
          80981914,
          57223890,
          374743,
          41480851,
          147880543,
          106387141,
          105647102,
          35626958,
          112462508,
          375740705,
          57824674,
          244819862,
          473990832,
          216972543,
          962542945,
          177856751,
          428028233,
          304868961,
          40811919,
          759056935,
          800059707
         ],
         "y0": " ",
         "yaxis": "y"
        }
       ],
       "layout": {
        "boxmode": "overlay",
        "height": 469,
        "legend": {
         "title": {
          "text": "Actor/Actriz"
         },
         "tracegroupgap": 0
        },
        "template": {
         "data": {
          "bar": [
           {
            "error_x": {
             "color": "#2a3f5f"
            },
            "error_y": {
             "color": "#2a3f5f"
            },
            "marker": {
             "line": {
              "color": "#E5ECF6",
              "width": 0.5
             },
             "pattern": {
              "fillmode": "overlay",
              "size": 10,
              "solidity": 0.2
             }
            },
            "type": "bar"
           }
          ],
          "barpolar": [
           {
            "marker": {
             "line": {
              "color": "#E5ECF6",
              "width": 0.5
             },
             "pattern": {
              "fillmode": "overlay",
              "size": 10,
              "solidity": 0.2
             }
            },
            "type": "barpolar"
           }
          ],
          "carpet": [
           {
            "aaxis": {
             "endlinecolor": "#2a3f5f",
             "gridcolor": "white",
             "linecolor": "white",
             "minorgridcolor": "white",
             "startlinecolor": "#2a3f5f"
            },
            "baxis": {
             "endlinecolor": "#2a3f5f",
             "gridcolor": "white",
             "linecolor": "white",
             "minorgridcolor": "white",
             "startlinecolor": "#2a3f5f"
            },
            "type": "carpet"
           }
          ],
          "choropleth": [
           {
            "colorbar": {
             "outlinewidth": 0,
             "ticks": ""
            },
            "type": "choropleth"
           }
          ],
          "contour": [
           {
            "colorbar": {
             "outlinewidth": 0,
             "ticks": ""
            },
            "colorscale": [
             [
              0,
              "#0d0887"
             ],
             [
              0.1111111111111111,
              "#46039f"
             ],
             [
              0.2222222222222222,
              "#7201a8"
             ],
             [
              0.3333333333333333,
              "#9c179e"
             ],
             [
              0.4444444444444444,
              "#bd3786"
             ],
             [
              0.5555555555555556,
              "#d8576b"
             ],
             [
              0.6666666666666666,
              "#ed7953"
             ],
             [
              0.7777777777777778,
              "#fb9f3a"
             ],
             [
              0.8888888888888888,
              "#fdca26"
             ],
             [
              1,
              "#f0f921"
             ]
            ],
            "type": "contour"
           }
          ],
          "contourcarpet": [
           {
            "colorbar": {
             "outlinewidth": 0,
             "ticks": ""
            },
            "type": "contourcarpet"
           }
          ],
          "heatmap": [
           {
            "colorbar": {
             "outlinewidth": 0,
             "ticks": ""
            },
            "colorscale": [
             [
              0,
              "#0d0887"
             ],
             [
              0.1111111111111111,
              "#46039f"
             ],
             [
              0.2222222222222222,
              "#7201a8"
             ],
             [
              0.3333333333333333,
              "#9c179e"
             ],
             [
              0.4444444444444444,
              "#bd3786"
             ],
             [
              0.5555555555555556,
              "#d8576b"
             ],
             [
              0.6666666666666666,
              "#ed7953"
             ],
             [
              0.7777777777777778,
              "#fb9f3a"
             ],
             [
              0.8888888888888888,
              "#fdca26"
             ],
             [
              1,
              "#f0f921"
             ]
            ],
            "type": "heatmap"
           }
          ],
          "heatmapgl": [
           {
            "colorbar": {
             "outlinewidth": 0,
             "ticks": ""
            },
            "colorscale": [
             [
              0,
              "#0d0887"
             ],
             [
              0.1111111111111111,
              "#46039f"
             ],
             [
              0.2222222222222222,
              "#7201a8"
             ],
             [
              0.3333333333333333,
              "#9c179e"
             ],
             [
              0.4444444444444444,
              "#bd3786"
             ],
             [
              0.5555555555555556,
              "#d8576b"
             ],
             [
              0.6666666666666666,
              "#ed7953"
             ],
             [
              0.7777777777777778,
              "#fb9f3a"
             ],
             [
              0.8888888888888888,
              "#fdca26"
             ],
             [
              1,
              "#f0f921"
             ]
            ],
            "type": "heatmapgl"
           }
          ],
          "histogram": [
           {
            "marker": {
             "pattern": {
              "fillmode": "overlay",
              "size": 10,
              "solidity": 0.2
             }
            },
            "type": "histogram"
           }
          ],
          "histogram2d": [
           {
            "colorbar": {
             "outlinewidth": 0,
             "ticks": ""
            },
            "colorscale": [
             [
              0,
              "#0d0887"
             ],
             [
              0.1111111111111111,
              "#46039f"
             ],
             [
              0.2222222222222222,
              "#7201a8"
             ],
             [
              0.3333333333333333,
              "#9c179e"
             ],
             [
              0.4444444444444444,
              "#bd3786"
             ],
             [
              0.5555555555555556,
              "#d8576b"
             ],
             [
              0.6666666666666666,
              "#ed7953"
             ],
             [
              0.7777777777777778,
              "#fb9f3a"
             ],
             [
              0.8888888888888888,
              "#fdca26"
             ],
             [
              1,
              "#f0f921"
             ]
            ],
            "type": "histogram2d"
           }
          ],
          "histogram2dcontour": [
           {
            "colorbar": {
             "outlinewidth": 0,
             "ticks": ""
            },
            "colorscale": [
             [
              0,
              "#0d0887"
             ],
             [
              0.1111111111111111,
              "#46039f"
             ],
             [
              0.2222222222222222,
              "#7201a8"
             ],
             [
              0.3333333333333333,
              "#9c179e"
             ],
             [
              0.4444444444444444,
              "#bd3786"
             ],
             [
              0.5555555555555556,
              "#d8576b"
             ],
             [
              0.6666666666666666,
              "#ed7953"
             ],
             [
              0.7777777777777778,
              "#fb9f3a"
             ],
             [
              0.8888888888888888,
              "#fdca26"
             ],
             [
              1,
              "#f0f921"
             ]
            ],
            "type": "histogram2dcontour"
           }
          ],
          "mesh3d": [
           {
            "colorbar": {
             "outlinewidth": 0,
             "ticks": ""
            },
            "type": "mesh3d"
           }
          ],
          "parcoords": [
           {
            "line": {
             "colorbar": {
              "outlinewidth": 0,
              "ticks": ""
             }
            },
            "type": "parcoords"
           }
          ],
          "pie": [
           {
            "automargin": true,
            "type": "pie"
           }
          ],
          "scatter": [
           {
            "fillpattern": {
             "fillmode": "overlay",
             "size": 10,
             "solidity": 0.2
            },
            "type": "scatter"
           }
          ],
          "scatter3d": [
           {
            "line": {
             "colorbar": {
              "outlinewidth": 0,
              "ticks": ""
             }
            },
            "marker": {
             "colorbar": {
              "outlinewidth": 0,
              "ticks": ""
             }
            },
            "type": "scatter3d"
           }
          ],
          "scattercarpet": [
           {
            "marker": {
             "colorbar": {
              "outlinewidth": 0,
              "ticks": ""
             }
            },
            "type": "scattercarpet"
           }
          ],
          "scattergeo": [
           {
            "marker": {
             "colorbar": {
              "outlinewidth": 0,
              "ticks": ""
             }
            },
            "type": "scattergeo"
           }
          ],
          "scattergl": [
           {
            "marker": {
             "colorbar": {
              "outlinewidth": 0,
              "ticks": ""
             }
            },
            "type": "scattergl"
           }
          ],
          "scattermapbox": [
           {
            "marker": {
             "colorbar": {
              "outlinewidth": 0,
              "ticks": ""
             }
            },
            "type": "scattermapbox"
           }
          ],
          "scatterpolar": [
           {
            "marker": {
             "colorbar": {
              "outlinewidth": 0,
              "ticks": ""
             }
            },
            "type": "scatterpolar"
           }
          ],
          "scatterpolargl": [
           {
            "marker": {
             "colorbar": {
              "outlinewidth": 0,
              "ticks": ""
             }
            },
            "type": "scatterpolargl"
           }
          ],
          "scatterternary": [
           {
            "marker": {
             "colorbar": {
              "outlinewidth": 0,
              "ticks": ""
             }
            },
            "type": "scatterternary"
           }
          ],
          "surface": [
           {
            "colorbar": {
             "outlinewidth": 0,
             "ticks": ""
            },
            "colorscale": [
             [
              0,
              "#0d0887"
             ],
             [
              0.1111111111111111,
              "#46039f"
             ],
             [
              0.2222222222222222,
              "#7201a8"
             ],
             [
              0.3333333333333333,
              "#9c179e"
             ],
             [
              0.4444444444444444,
              "#bd3786"
             ],
             [
              0.5555555555555556,
              "#d8576b"
             ],
             [
              0.6666666666666666,
              "#ed7953"
             ],
             [
              0.7777777777777778,
              "#fb9f3a"
             ],
             [
              0.8888888888888888,
              "#fdca26"
             ],
             [
              1,
              "#f0f921"
             ]
            ],
            "type": "surface"
           }
          ],
          "table": [
           {
            "cells": {
             "fill": {
              "color": "#EBF0F8"
             },
             "line": {
              "color": "white"
             }
            },
            "header": {
             "fill": {
              "color": "#C8D4E3"
             },
             "line": {
              "color": "white"
             }
            },
            "type": "table"
           }
          ]
         },
         "layout": {
          "annotationdefaults": {
           "arrowcolor": "#2a3f5f",
           "arrowhead": 0,
           "arrowwidth": 1
          },
          "autotypenumbers": "strict",
          "coloraxis": {
           "colorbar": {
            "outlinewidth": 0,
            "ticks": ""
           }
          },
          "colorscale": {
           "diverging": [
            [
             0,
             "#8e0152"
            ],
            [
             0.1,
             "#c51b7d"
            ],
            [
             0.2,
             "#de77ae"
            ],
            [
             0.3,
             "#f1b6da"
            ],
            [
             0.4,
             "#fde0ef"
            ],
            [
             0.5,
             "#f7f7f7"
            ],
            [
             0.6,
             "#e6f5d0"
            ],
            [
             0.7,
             "#b8e186"
            ],
            [
             0.8,
             "#7fbc41"
            ],
            [
             0.9,
             "#4d9221"
            ],
            [
             1,
             "#276419"
            ]
           ],
           "sequential": [
            [
             0,
             "#0d0887"
            ],
            [
             0.1111111111111111,
             "#46039f"
            ],
            [
             0.2222222222222222,
             "#7201a8"
            ],
            [
             0.3333333333333333,
             "#9c179e"
            ],
            [
             0.4444444444444444,
             "#bd3786"
            ],
            [
             0.5555555555555556,
             "#d8576b"
            ],
            [
             0.6666666666666666,
             "#ed7953"
            ],
            [
             0.7777777777777778,
             "#fb9f3a"
            ],
            [
             0.8888888888888888,
             "#fdca26"
            ],
            [
             1,
             "#f0f921"
            ]
           ],
           "sequentialminus": [
            [
             0,
             "#0d0887"
            ],
            [
             0.1111111111111111,
             "#46039f"
            ],
            [
             0.2222222222222222,
             "#7201a8"
            ],
            [
             0.3333333333333333,
             "#9c179e"
            ],
            [
             0.4444444444444444,
             "#bd3786"
            ],
            [
             0.5555555555555556,
             "#d8576b"
            ],
            [
             0.6666666666666666,
             "#ed7953"
            ],
            [
             0.7777777777777778,
             "#fb9f3a"
            ],
            [
             0.8888888888888888,
             "#fdca26"
            ],
            [
             1,
             "#f0f921"
            ]
           ]
          },
          "colorway": [
           "#636efa",
           "#EF553B",
           "#00cc96",
           "#ab63fa",
           "#FFA15A",
           "#19d3f3",
           "#FF6692",
           "#B6E880",
           "#FF97FF",
           "#FECB52"
          ],
          "font": {
           "color": "#2a3f5f"
          },
          "geo": {
           "bgcolor": "white",
           "lakecolor": "white",
           "landcolor": "#E5ECF6",
           "showlakes": true,
           "showland": true,
           "subunitcolor": "white"
          },
          "hoverlabel": {
           "align": "left"
          },
          "hovermode": "closest",
          "mapbox": {
           "style": "light"
          },
          "paper_bgcolor": "white",
          "plot_bgcolor": "#E5ECF6",
          "polar": {
           "angularaxis": {
            "gridcolor": "white",
            "linecolor": "white",
            "ticks": ""
           },
           "bgcolor": "#E5ECF6",
           "radialaxis": {
            "gridcolor": "white",
            "linecolor": "white",
            "ticks": ""
           }
          },
          "scene": {
           "xaxis": {
            "backgroundcolor": "#E5ECF6",
            "gridcolor": "white",
            "gridwidth": 2,
            "linecolor": "white",
            "showbackground": true,
            "ticks": "",
            "zerolinecolor": "white"
           },
           "yaxis": {
            "backgroundcolor": "#E5ECF6",
            "gridcolor": "white",
            "gridwidth": 2,
            "linecolor": "white",
            "showbackground": true,
            "ticks": "",
            "zerolinecolor": "white"
           },
           "zaxis": {
            "backgroundcolor": "#E5ECF6",
            "gridcolor": "white",
            "gridwidth": 2,
            "linecolor": "white",
            "showbackground": true,
            "ticks": "",
            "zerolinecolor": "white"
           }
          },
          "shapedefaults": {
           "line": {
            "color": "#2a3f5f"
           }
          },
          "ternary": {
           "aaxis": {
            "gridcolor": "white",
            "linecolor": "white",
            "ticks": ""
           },
           "baxis": {
            "gridcolor": "white",
            "linecolor": "white",
            "ticks": ""
           },
           "bgcolor": "#E5ECF6",
           "caxis": {
            "gridcolor": "white",
            "linecolor": "white",
            "ticks": ""
           }
          },
          "title": {
           "x": 0.05
          },
          "xaxis": {
           "automargin": true,
           "gridcolor": "white",
           "linecolor": "white",
           "ticks": "",
           "title": {
            "standoff": 15
           },
           "zerolinecolor": "white",
           "zerolinewidth": 2
          },
          "yaxis": {
           "automargin": true,
           "gridcolor": "white",
           "linecolor": "white",
           "ticks": "",
           "title": {
            "standoff": 15
           },
           "zerolinecolor": "white",
           "zerolinewidth": 2
          }
         }
        },
        "title": {
         "text": "Distribución de Ingresos Brutos de los Top 10 Actores",
         "x": 0.5
        },
        "width": 600,
        "xaxis": {
         "anchor": "y",
         "categoryarray": [
          "Tom Cruise",
          "Tom Hanks",
          "Bruce Willis",
          "Robert Downey Jr.",
          "Johnny Depp",
          "Will Smith",
          "Leonardo DiCaprio",
          "Daniel Radcliffe",
          "Vin Diesel",
          "Dwayne Johnson"
         ],
         "categoryorder": "array",
         "domain": [
          0,
          1
         ],
         "tickangle": -45,
         "title": {
          "text": "Actor/Actriz"
         }
        },
        "yaxis": {
         "anchor": "x",
         "domain": [
          0,
          1
         ],
         "title": {
          "text": "Ingresos Brutos (USD)"
         }
        }
       }
      }
     },
     "metadata": {},
     "output_type": "display_data"
    }
   ],
   "source": [
    "# Agrupamos y calculamos el promedio de ingresos por actor\n",
    "top_actors = (\n",
    "    df.groupby('star')['gross']\n",
    "    .sum()\n",
    "    .sort_values(ascending=False)\n",
    "    .head(10)\n",
    "    .reset_index()\n",
    ")\n",
    "\n",
    "# Creamos el boxplot para los actores con colores en blanco/negro\n",
    "fig_actors_box = px.box(\n",
    "    df[df['star'].isin(top_actors['star'])],  # Filtramos solo los top 10 actores\n",
    "    x='star',\n",
    "    y='gross',\n",
    "    title='Distribución de Ingresos Brutos de los Top 10 Actores',\n",
    "    labels={'gross': 'Ingresos Brutos', 'star': 'Actor/Actriz'},\n",
    "    color='star',  # Colorear las cajas por actor\n",
    "    color_discrete_sequence=['black'] * len(top_actors)  # Asignar color negro a todas las cajas\n",
    ")\n",
    "\n",
    "# Personalizamos el diseño y ajustamos el tamaño de la figura\n",
    "fig_actors_box.update_layout(\n",
    "    width=600,  # Ancho de 600 píxeles\n",
    "    height=469,  # Alto de 469 píxeles\n",
    "    xaxis_title='Actor/Actriz',\n",
    "    yaxis_title='Ingresos Brutos (USD)',\n",
    "    title_x=0.5,  # Centrar el título\n",
    "    xaxis_tickangle=-45  # Rotar los nombres de los actores para mejor visualización\n",
    ")\n",
    "\n",
    "# Mostramos la gráfica\n",
    "fig_actors_box.show()\n"
   ]
  },
  {
   "cell_type": "code",
   "execution_count": 5,
   "metadata": {
    "colab": {
     "base_uri": "https://localhost:8080/",
     "height": 486
    },
    "id": "10z1Laqo9kdW",
    "outputId": "44accf92-fadb-4cb0-b253-96b62ad5b67e"
   },
   "outputs": [
    {
     "data": {
      "application/vnd.plotly.v1+json": {
       "config": {
        "plotlyServerURL": "https://plot.ly"
       },
       "data": [
        {
         "alignmentgroup": "True",
         "hovertemplate": "genre=Horror<br>ROI Promedio=%{x}<br>Director=%{y}<extra></extra>",
         "legendgroup": "Horror",
         "marker": {
          "color": "purple",
          "pattern": {
           "shape": ""
          }
         },
         "name": "Horror",
         "offsetgroup": "Horror",
         "orientation": "h",
         "showlegend": true,
         "textposition": "auto",
         "type": "bar",
         "x": [
          12889.3867,
          4142.985,
          428.6441,
          88.1758,
          61.8821
         ],
         "xaxis": "x",
         "y": [
          "Oren Peli",
          "Daniel Myrick",
          "Travis Cluff",
          "John Pogue",
          "Levan Gabriadze"
         ],
         "yaxis": "y"
        },
        {
         "alignmentgroup": "True",
         "hovertemplate": "genre=Comedy<br>ROI Promedio=%{x}<br>Director=%{y}<extra></extra>",
         "legendgroup": "Comedy",
         "marker": {
          "color": "yellow",
          "pattern": {
           "shape": ""
          }
         },
         "name": "Comedy",
         "offsetgroup": "Comedy",
         "orientation": "h",
         "showlegend": true,
         "textposition": "auto",
         "type": "bar",
         "x": [
          108.9813
         ],
         "xaxis": "x",
         "y": [
          "Niall Johnson"
         ],
         "yaxis": "y"
        },
        {
         "alignmentgroup": "True",
         "hovertemplate": "genre=Drama<br>ROI Promedio=%{x}<br>Director=%{y}<extra></extra>",
         "legendgroup": "Drama",
         "marker": {
          "color": "blue",
          "pattern": {
           "shape": ""
          }
         },
         "name": "Drama",
         "offsetgroup": "Drama",
         "orientation": "h",
         "showlegend": true,
         "textposition": "auto",
         "type": "bar",
         "x": [
          84.7523
         ],
         "xaxis": "x",
         "y": [
          "Aneesh Chaganty"
         ],
         "yaxis": "y"
        },
        {
         "alignmentgroup": "True",
         "hovertemplate": "genre=Comedy, Drama<br>ROI Promedio=%{x}<br>Director=%{y}<extra></extra>",
         "legendgroup": "Comedy, Drama",
         "marker": {
          "color": "#B6E880",
          "pattern": {
           "shape": ""
          }
         },
         "name": "Comedy, Drama",
         "offsetgroup": "Comedy, Drama",
         "orientation": "h",
         "showlegend": true,
         "textposition": "auto",
         "type": "bar",
         "x": [
          72.89235000000001
         ],
         "xaxis": "x",
         "y": [
          "John Carney"
         ],
         "yaxis": "y"
        },
        {
         "alignmentgroup": "True",
         "hovertemplate": "genre=Adventure, Drama<br>ROI Promedio=%{x}<br>Director=%{y}<extra></extra>",
         "legendgroup": "Adventure, Drama",
         "marker": {
          "color": "#FF97FF",
          "pattern": {
           "shape": ""
          }
         },
         "name": "Adventure, Drama",
         "offsetgroup": "Adventure, Drama",
         "orientation": "h",
         "showlegend": true,
         "textposition": "auto",
         "type": "bar",
         "x": [
          57.81545
         ],
         "xaxis": "x",
         "y": [
          "Chris Kentis"
         ],
         "yaxis": "y"
        },
        {
         "alignmentgroup": "True",
         "hovertemplate": "genre=Action<br>ROI Promedio=%{x}<br>Director=%{y}<extra></extra>",
         "legendgroup": "Action",
         "marker": {
          "color": "red",
          "pattern": {
           "shape": ""
          }
         },
         "name": "Action",
         "offsetgroup": "Action",
         "orientation": "h",
         "showlegend": true,
         "textposition": "auto",
         "type": "bar",
         "x": [
          49.3825
         ],
         "xaxis": "x",
         "y": [
          "Gérard Krawczyk"
         ],
         "yaxis": "y"
        }
       ],
       "layout": {
        "barmode": "relative",
        "height": 469,
        "legend": {
         "title": {
          "text": "genre"
         },
         "tracegroupgap": 0
        },
        "template": {
         "data": {
          "bar": [
           {
            "error_x": {
             "color": "#2a3f5f"
            },
            "error_y": {
             "color": "#2a3f5f"
            },
            "marker": {
             "line": {
              "color": "#E5ECF6",
              "width": 0.5
             },
             "pattern": {
              "fillmode": "overlay",
              "size": 10,
              "solidity": 0.2
             }
            },
            "type": "bar"
           }
          ],
          "barpolar": [
           {
            "marker": {
             "line": {
              "color": "#E5ECF6",
              "width": 0.5
             },
             "pattern": {
              "fillmode": "overlay",
              "size": 10,
              "solidity": 0.2
             }
            },
            "type": "barpolar"
           }
          ],
          "carpet": [
           {
            "aaxis": {
             "endlinecolor": "#2a3f5f",
             "gridcolor": "white",
             "linecolor": "white",
             "minorgridcolor": "white",
             "startlinecolor": "#2a3f5f"
            },
            "baxis": {
             "endlinecolor": "#2a3f5f",
             "gridcolor": "white",
             "linecolor": "white",
             "minorgridcolor": "white",
             "startlinecolor": "#2a3f5f"
            },
            "type": "carpet"
           }
          ],
          "choropleth": [
           {
            "colorbar": {
             "outlinewidth": 0,
             "ticks": ""
            },
            "type": "choropleth"
           }
          ],
          "contour": [
           {
            "colorbar": {
             "outlinewidth": 0,
             "ticks": ""
            },
            "colorscale": [
             [
              0,
              "#0d0887"
             ],
             [
              0.1111111111111111,
              "#46039f"
             ],
             [
              0.2222222222222222,
              "#7201a8"
             ],
             [
              0.3333333333333333,
              "#9c179e"
             ],
             [
              0.4444444444444444,
              "#bd3786"
             ],
             [
              0.5555555555555556,
              "#d8576b"
             ],
             [
              0.6666666666666666,
              "#ed7953"
             ],
             [
              0.7777777777777778,
              "#fb9f3a"
             ],
             [
              0.8888888888888888,
              "#fdca26"
             ],
             [
              1,
              "#f0f921"
             ]
            ],
            "type": "contour"
           }
          ],
          "contourcarpet": [
           {
            "colorbar": {
             "outlinewidth": 0,
             "ticks": ""
            },
            "type": "contourcarpet"
           }
          ],
          "heatmap": [
           {
            "colorbar": {
             "outlinewidth": 0,
             "ticks": ""
            },
            "colorscale": [
             [
              0,
              "#0d0887"
             ],
             [
              0.1111111111111111,
              "#46039f"
             ],
             [
              0.2222222222222222,
              "#7201a8"
             ],
             [
              0.3333333333333333,
              "#9c179e"
             ],
             [
              0.4444444444444444,
              "#bd3786"
             ],
             [
              0.5555555555555556,
              "#d8576b"
             ],
             [
              0.6666666666666666,
              "#ed7953"
             ],
             [
              0.7777777777777778,
              "#fb9f3a"
             ],
             [
              0.8888888888888888,
              "#fdca26"
             ],
             [
              1,
              "#f0f921"
             ]
            ],
            "type": "heatmap"
           }
          ],
          "heatmapgl": [
           {
            "colorbar": {
             "outlinewidth": 0,
             "ticks": ""
            },
            "colorscale": [
             [
              0,
              "#0d0887"
             ],
             [
              0.1111111111111111,
              "#46039f"
             ],
             [
              0.2222222222222222,
              "#7201a8"
             ],
             [
              0.3333333333333333,
              "#9c179e"
             ],
             [
              0.4444444444444444,
              "#bd3786"
             ],
             [
              0.5555555555555556,
              "#d8576b"
             ],
             [
              0.6666666666666666,
              "#ed7953"
             ],
             [
              0.7777777777777778,
              "#fb9f3a"
             ],
             [
              0.8888888888888888,
              "#fdca26"
             ],
             [
              1,
              "#f0f921"
             ]
            ],
            "type": "heatmapgl"
           }
          ],
          "histogram": [
           {
            "marker": {
             "pattern": {
              "fillmode": "overlay",
              "size": 10,
              "solidity": 0.2
             }
            },
            "type": "histogram"
           }
          ],
          "histogram2d": [
           {
            "colorbar": {
             "outlinewidth": 0,
             "ticks": ""
            },
            "colorscale": [
             [
              0,
              "#0d0887"
             ],
             [
              0.1111111111111111,
              "#46039f"
             ],
             [
              0.2222222222222222,
              "#7201a8"
             ],
             [
              0.3333333333333333,
              "#9c179e"
             ],
             [
              0.4444444444444444,
              "#bd3786"
             ],
             [
              0.5555555555555556,
              "#d8576b"
             ],
             [
              0.6666666666666666,
              "#ed7953"
             ],
             [
              0.7777777777777778,
              "#fb9f3a"
             ],
             [
              0.8888888888888888,
              "#fdca26"
             ],
             [
              1,
              "#f0f921"
             ]
            ],
            "type": "histogram2d"
           }
          ],
          "histogram2dcontour": [
           {
            "colorbar": {
             "outlinewidth": 0,
             "ticks": ""
            },
            "colorscale": [
             [
              0,
              "#0d0887"
             ],
             [
              0.1111111111111111,
              "#46039f"
             ],
             [
              0.2222222222222222,
              "#7201a8"
             ],
             [
              0.3333333333333333,
              "#9c179e"
             ],
             [
              0.4444444444444444,
              "#bd3786"
             ],
             [
              0.5555555555555556,
              "#d8576b"
             ],
             [
              0.6666666666666666,
              "#ed7953"
             ],
             [
              0.7777777777777778,
              "#fb9f3a"
             ],
             [
              0.8888888888888888,
              "#fdca26"
             ],
             [
              1,
              "#f0f921"
             ]
            ],
            "type": "histogram2dcontour"
           }
          ],
          "mesh3d": [
           {
            "colorbar": {
             "outlinewidth": 0,
             "ticks": ""
            },
            "type": "mesh3d"
           }
          ],
          "parcoords": [
           {
            "line": {
             "colorbar": {
              "outlinewidth": 0,
              "ticks": ""
             }
            },
            "type": "parcoords"
           }
          ],
          "pie": [
           {
            "automargin": true,
            "type": "pie"
           }
          ],
          "scatter": [
           {
            "fillpattern": {
             "fillmode": "overlay",
             "size": 10,
             "solidity": 0.2
            },
            "type": "scatter"
           }
          ],
          "scatter3d": [
           {
            "line": {
             "colorbar": {
              "outlinewidth": 0,
              "ticks": ""
             }
            },
            "marker": {
             "colorbar": {
              "outlinewidth": 0,
              "ticks": ""
             }
            },
            "type": "scatter3d"
           }
          ],
          "scattercarpet": [
           {
            "marker": {
             "colorbar": {
              "outlinewidth": 0,
              "ticks": ""
             }
            },
            "type": "scattercarpet"
           }
          ],
          "scattergeo": [
           {
            "marker": {
             "colorbar": {
              "outlinewidth": 0,
              "ticks": ""
             }
            },
            "type": "scattergeo"
           }
          ],
          "scattergl": [
           {
            "marker": {
             "colorbar": {
              "outlinewidth": 0,
              "ticks": ""
             }
            },
            "type": "scattergl"
           }
          ],
          "scattermapbox": [
           {
            "marker": {
             "colorbar": {
              "outlinewidth": 0,
              "ticks": ""
             }
            },
            "type": "scattermapbox"
           }
          ],
          "scatterpolar": [
           {
            "marker": {
             "colorbar": {
              "outlinewidth": 0,
              "ticks": ""
             }
            },
            "type": "scatterpolar"
           }
          ],
          "scatterpolargl": [
           {
            "marker": {
             "colorbar": {
              "outlinewidth": 0,
              "ticks": ""
             }
            },
            "type": "scatterpolargl"
           }
          ],
          "scatterternary": [
           {
            "marker": {
             "colorbar": {
              "outlinewidth": 0,
              "ticks": ""
             }
            },
            "type": "scatterternary"
           }
          ],
          "surface": [
           {
            "colorbar": {
             "outlinewidth": 0,
             "ticks": ""
            },
            "colorscale": [
             [
              0,
              "#0d0887"
             ],
             [
              0.1111111111111111,
              "#46039f"
             ],
             [
              0.2222222222222222,
              "#7201a8"
             ],
             [
              0.3333333333333333,
              "#9c179e"
             ],
             [
              0.4444444444444444,
              "#bd3786"
             ],
             [
              0.5555555555555556,
              "#d8576b"
             ],
             [
              0.6666666666666666,
              "#ed7953"
             ],
             [
              0.7777777777777778,
              "#fb9f3a"
             ],
             [
              0.8888888888888888,
              "#fdca26"
             ],
             [
              1,
              "#f0f921"
             ]
            ],
            "type": "surface"
           }
          ],
          "table": [
           {
            "cells": {
             "fill": {
              "color": "#EBF0F8"
             },
             "line": {
              "color": "white"
             }
            },
            "header": {
             "fill": {
              "color": "#C8D4E3"
             },
             "line": {
              "color": "white"
             }
            },
            "type": "table"
           }
          ]
         },
         "layout": {
          "annotationdefaults": {
           "arrowcolor": "#2a3f5f",
           "arrowhead": 0,
           "arrowwidth": 1
          },
          "autotypenumbers": "strict",
          "coloraxis": {
           "colorbar": {
            "outlinewidth": 0,
            "ticks": ""
           }
          },
          "colorscale": {
           "diverging": [
            [
             0,
             "#8e0152"
            ],
            [
             0.1,
             "#c51b7d"
            ],
            [
             0.2,
             "#de77ae"
            ],
            [
             0.3,
             "#f1b6da"
            ],
            [
             0.4,
             "#fde0ef"
            ],
            [
             0.5,
             "#f7f7f7"
            ],
            [
             0.6,
             "#e6f5d0"
            ],
            [
             0.7,
             "#b8e186"
            ],
            [
             0.8,
             "#7fbc41"
            ],
            [
             0.9,
             "#4d9221"
            ],
            [
             1,
             "#276419"
            ]
           ],
           "sequential": [
            [
             0,
             "#0d0887"
            ],
            [
             0.1111111111111111,
             "#46039f"
            ],
            [
             0.2222222222222222,
             "#7201a8"
            ],
            [
             0.3333333333333333,
             "#9c179e"
            ],
            [
             0.4444444444444444,
             "#bd3786"
            ],
            [
             0.5555555555555556,
             "#d8576b"
            ],
            [
             0.6666666666666666,
             "#ed7953"
            ],
            [
             0.7777777777777778,
             "#fb9f3a"
            ],
            [
             0.8888888888888888,
             "#fdca26"
            ],
            [
             1,
             "#f0f921"
            ]
           ],
           "sequentialminus": [
            [
             0,
             "#0d0887"
            ],
            [
             0.1111111111111111,
             "#46039f"
            ],
            [
             0.2222222222222222,
             "#7201a8"
            ],
            [
             0.3333333333333333,
             "#9c179e"
            ],
            [
             0.4444444444444444,
             "#bd3786"
            ],
            [
             0.5555555555555556,
             "#d8576b"
            ],
            [
             0.6666666666666666,
             "#ed7953"
            ],
            [
             0.7777777777777778,
             "#fb9f3a"
            ],
            [
             0.8888888888888888,
             "#fdca26"
            ],
            [
             1,
             "#f0f921"
            ]
           ]
          },
          "colorway": [
           "#636efa",
           "#EF553B",
           "#00cc96",
           "#ab63fa",
           "#FFA15A",
           "#19d3f3",
           "#FF6692",
           "#B6E880",
           "#FF97FF",
           "#FECB52"
          ],
          "font": {
           "color": "#2a3f5f"
          },
          "geo": {
           "bgcolor": "white",
           "lakecolor": "white",
           "landcolor": "#E5ECF6",
           "showlakes": true,
           "showland": true,
           "subunitcolor": "white"
          },
          "hoverlabel": {
           "align": "left"
          },
          "hovermode": "closest",
          "mapbox": {
           "style": "light"
          },
          "paper_bgcolor": "white",
          "plot_bgcolor": "#E5ECF6",
          "polar": {
           "angularaxis": {
            "gridcolor": "white",
            "linecolor": "white",
            "ticks": ""
           },
           "bgcolor": "#E5ECF6",
           "radialaxis": {
            "gridcolor": "white",
            "linecolor": "white",
            "ticks": ""
           }
          },
          "scene": {
           "xaxis": {
            "backgroundcolor": "#E5ECF6",
            "gridcolor": "white",
            "gridwidth": 2,
            "linecolor": "white",
            "showbackground": true,
            "ticks": "",
            "zerolinecolor": "white"
           },
           "yaxis": {
            "backgroundcolor": "#E5ECF6",
            "gridcolor": "white",
            "gridwidth": 2,
            "linecolor": "white",
            "showbackground": true,
            "ticks": "",
            "zerolinecolor": "white"
           },
           "zaxis": {
            "backgroundcolor": "#E5ECF6",
            "gridcolor": "white",
            "gridwidth": 2,
            "linecolor": "white",
            "showbackground": true,
            "ticks": "",
            "zerolinecolor": "white"
           }
          },
          "shapedefaults": {
           "line": {
            "color": "#2a3f5f"
           }
          },
          "ternary": {
           "aaxis": {
            "gridcolor": "white",
            "linecolor": "white",
            "ticks": ""
           },
           "baxis": {
            "gridcolor": "white",
            "linecolor": "white",
            "ticks": ""
           },
           "bgcolor": "#E5ECF6",
           "caxis": {
            "gridcolor": "white",
            "linecolor": "white",
            "ticks": ""
           }
          },
          "title": {
           "x": 0.05
          },
          "xaxis": {
           "automargin": true,
           "gridcolor": "white",
           "linecolor": "white",
           "ticks": "",
           "title": {
            "standoff": 15
           },
           "zerolinecolor": "white",
           "zerolinewidth": 2
          },
          "yaxis": {
           "automargin": true,
           "gridcolor": "white",
           "linecolor": "white",
           "ticks": "",
           "title": {
            "standoff": 15
           },
           "zerolinecolor": "white",
           "zerolinewidth": 2
          }
         }
        },
        "title": {
         "text": "Top 10 Directores por ROI Promedio",
         "x": 0.5
        },
        "width": 600,
        "xaxis": {
         "anchor": "y",
         "domain": [
          0,
          1
         ],
         "title": {
          "text": "ROI Promedio"
         }
        },
        "yaxis": {
         "anchor": "x",
         "autorange": "reversed",
         "domain": [
          0,
          1
         ],
         "title": {
          "text": ""
         }
        }
       }
      }
     },
     "metadata": {},
     "output_type": "display_data"
    }
   ],
   "source": [
    "# Agrupamos y calculamos el promedio de ROI por director\n",
    "top_directors_roi = (\n",
    "    df.groupby('director')['ROI']\n",
    "    .mean()\n",
    "    .sort_values(ascending=False)\n",
    "    .head(10)\n",
    "    .reset_index()\n",
    ")\n",
    "\n",
    "# Obtener los géneros asociados a cada director (tomando el género de sus películas)\n",
    "top_directors_genres = df[df['director'].isin(top_directors_roi['director'])]\n",
    "top_directors_genres = top_directors_genres.groupby('director')['genre'].apply(lambda x: ', '.join(set(x))).reset_index()\n",
    "\n",
    "# Unir el DataFrame de directores con los géneros\n",
    "top_directors_roi = top_directors_roi.merge(top_directors_genres, on='director', how='left')\n",
    "\n",
    "# Crear un mapeo de colores para los géneros\n",
    "genre_color_map = {\n",
    "    'Drama': 'blue',\n",
    "    'Comedy': 'yellow',\n",
    "    'Action': 'red',\n",
    "    'Adventure': 'green',\n",
    "    'Horror': 'purple',\n",
    "    'Romance': 'pink',\n",
    "    'Sci-Fi': 'cyan',\n",
    "}\n",
    "\n",
    "# Asignar un color basado en el género (en caso de que un director tenga múltiples géneros, se toma el primero)\n",
    "top_directors_roi['color'] = top_directors_roi['genre'].apply(lambda x: genre_color_map.get(x.split(', ')[0], 'gray'))\n",
    "\n",
    "# Crear un gráfico con un mapeo de colores basado en el género\n",
    "fig_directors_roi = px.bar(\n",
    "    top_directors_roi,\n",
    "    x='ROI',\n",
    "    y='director',\n",
    "    orientation='h',\n",
    "    title='Top 10 Directores por ROI Promedio',\n",
    "    labels={'ROI': 'ROI Promedio', 'director': 'Director', 'color': 'Género'},\n",
    "    color='genre',  # Usamos 'genre' para el color, para que aparezca en la leyenda\n",
    "    color_discrete_map=genre_color_map,  # Mapear colores a géneros\n",
    ")\n",
    "\n",
    "# Personalizar el diseño\n",
    "fig_directors_roi.update_layout(\n",
    "    xaxis_title='ROI Promedio',\n",
    "    yaxis_title='',\n",
    "    yaxis=dict(autorange='reversed'),  # Para que los valores más altos estén arriba\n",
    "    title_x=0.5,  # Centrar el título\n",
    ")\n",
    "\n",
    "# Ajustar el tamaño de la figura\n",
    "fig_directors_roi.update_layout(\n",
    "    width=600,  # Ancho de 600 píxeles\n",
    "    height=469  # Alto de 469 píxeles\n",
    ")\n",
    "\n",
    "# Mostrar la gráfica\n",
    "fig_directors_roi.show()\n"
   ]
  },
  {
   "cell_type": "code",
   "execution_count": 6,
   "metadata": {
    "colab": {
     "base_uri": "https://localhost:8080/",
     "height": 486
    },
    "id": "McLa5P7d9mIr",
    "outputId": "42ae7eff-def1-4c48-8f2b-e2ab290702d4"
   },
   "outputs": [
    {
     "data": {
      "application/vnd.plotly.v1+json": {
       "config": {
        "plotlyServerURL": "https://plot.ly"
       },
       "data": [
        {
         "alignmentgroup": "True",
         "hovertemplate": "genre=Horror<br>ROI Promedio=%{x}<br>Actor/Actriz=%{y}<extra></extra>",
         "legendgroup": "Horror",
         "marker": {
          "color": "purple",
          "pattern": {
           "shape": ""
          }
         },
         "name": "Horror",
         "offsetgroup": "Horror",
         "orientation": "h",
         "showlegend": true,
         "textposition": "auto",
         "type": "bar",
         "x": [
          6473.7787,
          4142.985,
          428.6441,
          100.7585,
          88.1758
         ],
         "xaxis": "x",
         "y": [
          "Katie Featherston",
          "Heather Donahue",
          "Reese Mishler",
          "Fernanda Andrade",
          "Jared Harris"
         ],
         "yaxis": "y"
        },
        {
         "alignmentgroup": "True",
         "hovertemplate": "genre=Action<br>ROI Promedio=%{x}<br>Actor/Actriz=%{y}<extra></extra>",
         "legendgroup": "Action",
         "marker": {
          "color": "red",
          "pattern": {
           "shape": ""
          }
         },
         "name": "Action",
         "offsetgroup": "Action",
         "orientation": "h",
         "showlegend": true,
         "textposition": "auto",
         "type": "bar",
         "x": [
          290.56
         ],
         "xaxis": "x",
         "y": [
          "Carlos Gallardo"
         ],
         "yaxis": "y"
        },
        {
         "alignmentgroup": "True",
         "hovertemplate": "genre=Drama<br>ROI Promedio=%{x}<br>Actor/Actriz=%{y}<extra></extra>",
         "legendgroup": "Drama",
         "marker": {
          "color": "blue",
          "pattern": {
           "shape": ""
          }
         },
         "name": "Drama",
         "offsetgroup": "Drama",
         "orientation": "h",
         "showlegend": true,
         "textposition": "auto",
         "type": "bar",
         "x": [
          138.5781,
          76.9194
         ],
         "xaxis": "x",
         "y": [
          "Glen Hansard",
          "Shane Carruth"
         ],
         "yaxis": "y"
        },
        {
         "alignmentgroup": "True",
         "hovertemplate": "genre=Comedy<br>ROI Promedio=%{x}<br>Actor/Actriz=%{y}<extra></extra>",
         "legendgroup": "Comedy",
         "marker": {
          "color": "yellow",
          "pattern": {
           "shape": ""
          }
         },
         "name": "Comedy",
         "offsetgroup": "Comedy",
         "orientation": "h",
         "showlegend": true,
         "textposition": "auto",
         "type": "bar",
         "x": [
          114.3472
         ],
         "xaxis": "x",
         "y": [
          "Jon Heder"
         ],
         "yaxis": "y"
        },
        {
         "alignmentgroup": "True",
         "hovertemplate": "genre=Adventure<br>ROI Promedio=%{x}<br>Actor/Actriz=%{y}<extra></extra>",
         "legendgroup": "Adventure",
         "marker": {
          "color": "green",
          "pattern": {
           "shape": ""
          }
         },
         "name": "Adventure",
         "offsetgroup": "Adventure",
         "orientation": "h",
         "showlegend": true,
         "textposition": "auto",
         "type": "bar",
         "x": [
          108.367
         ],
         "xaxis": "x",
         "y": [
          "Blanchard Ryan"
         ],
         "yaxis": "y"
        }
       ],
       "layout": {
        "barmode": "relative",
        "height": 469,
        "legend": {
         "title": {
          "text": "genre"
         },
         "tracegroupgap": 0
        },
        "template": {
         "data": {
          "bar": [
           {
            "error_x": {
             "color": "#2a3f5f"
            },
            "error_y": {
             "color": "#2a3f5f"
            },
            "marker": {
             "line": {
              "color": "#E5ECF6",
              "width": 0.5
             },
             "pattern": {
              "fillmode": "overlay",
              "size": 10,
              "solidity": 0.2
             }
            },
            "type": "bar"
           }
          ],
          "barpolar": [
           {
            "marker": {
             "line": {
              "color": "#E5ECF6",
              "width": 0.5
             },
             "pattern": {
              "fillmode": "overlay",
              "size": 10,
              "solidity": 0.2
             }
            },
            "type": "barpolar"
           }
          ],
          "carpet": [
           {
            "aaxis": {
             "endlinecolor": "#2a3f5f",
             "gridcolor": "white",
             "linecolor": "white",
             "minorgridcolor": "white",
             "startlinecolor": "#2a3f5f"
            },
            "baxis": {
             "endlinecolor": "#2a3f5f",
             "gridcolor": "white",
             "linecolor": "white",
             "minorgridcolor": "white",
             "startlinecolor": "#2a3f5f"
            },
            "type": "carpet"
           }
          ],
          "choropleth": [
           {
            "colorbar": {
             "outlinewidth": 0,
             "ticks": ""
            },
            "type": "choropleth"
           }
          ],
          "contour": [
           {
            "colorbar": {
             "outlinewidth": 0,
             "ticks": ""
            },
            "colorscale": [
             [
              0,
              "#0d0887"
             ],
             [
              0.1111111111111111,
              "#46039f"
             ],
             [
              0.2222222222222222,
              "#7201a8"
             ],
             [
              0.3333333333333333,
              "#9c179e"
             ],
             [
              0.4444444444444444,
              "#bd3786"
             ],
             [
              0.5555555555555556,
              "#d8576b"
             ],
             [
              0.6666666666666666,
              "#ed7953"
             ],
             [
              0.7777777777777778,
              "#fb9f3a"
             ],
             [
              0.8888888888888888,
              "#fdca26"
             ],
             [
              1,
              "#f0f921"
             ]
            ],
            "type": "contour"
           }
          ],
          "contourcarpet": [
           {
            "colorbar": {
             "outlinewidth": 0,
             "ticks": ""
            },
            "type": "contourcarpet"
           }
          ],
          "heatmap": [
           {
            "colorbar": {
             "outlinewidth": 0,
             "ticks": ""
            },
            "colorscale": [
             [
              0,
              "#0d0887"
             ],
             [
              0.1111111111111111,
              "#46039f"
             ],
             [
              0.2222222222222222,
              "#7201a8"
             ],
             [
              0.3333333333333333,
              "#9c179e"
             ],
             [
              0.4444444444444444,
              "#bd3786"
             ],
             [
              0.5555555555555556,
              "#d8576b"
             ],
             [
              0.6666666666666666,
              "#ed7953"
             ],
             [
              0.7777777777777778,
              "#fb9f3a"
             ],
             [
              0.8888888888888888,
              "#fdca26"
             ],
             [
              1,
              "#f0f921"
             ]
            ],
            "type": "heatmap"
           }
          ],
          "heatmapgl": [
           {
            "colorbar": {
             "outlinewidth": 0,
             "ticks": ""
            },
            "colorscale": [
             [
              0,
              "#0d0887"
             ],
             [
              0.1111111111111111,
              "#46039f"
             ],
             [
              0.2222222222222222,
              "#7201a8"
             ],
             [
              0.3333333333333333,
              "#9c179e"
             ],
             [
              0.4444444444444444,
              "#bd3786"
             ],
             [
              0.5555555555555556,
              "#d8576b"
             ],
             [
              0.6666666666666666,
              "#ed7953"
             ],
             [
              0.7777777777777778,
              "#fb9f3a"
             ],
             [
              0.8888888888888888,
              "#fdca26"
             ],
             [
              1,
              "#f0f921"
             ]
            ],
            "type": "heatmapgl"
           }
          ],
          "histogram": [
           {
            "marker": {
             "pattern": {
              "fillmode": "overlay",
              "size": 10,
              "solidity": 0.2
             }
            },
            "type": "histogram"
           }
          ],
          "histogram2d": [
           {
            "colorbar": {
             "outlinewidth": 0,
             "ticks": ""
            },
            "colorscale": [
             [
              0,
              "#0d0887"
             ],
             [
              0.1111111111111111,
              "#46039f"
             ],
             [
              0.2222222222222222,
              "#7201a8"
             ],
             [
              0.3333333333333333,
              "#9c179e"
             ],
             [
              0.4444444444444444,
              "#bd3786"
             ],
             [
              0.5555555555555556,
              "#d8576b"
             ],
             [
              0.6666666666666666,
              "#ed7953"
             ],
             [
              0.7777777777777778,
              "#fb9f3a"
             ],
             [
              0.8888888888888888,
              "#fdca26"
             ],
             [
              1,
              "#f0f921"
             ]
            ],
            "type": "histogram2d"
           }
          ],
          "histogram2dcontour": [
           {
            "colorbar": {
             "outlinewidth": 0,
             "ticks": ""
            },
            "colorscale": [
             [
              0,
              "#0d0887"
             ],
             [
              0.1111111111111111,
              "#46039f"
             ],
             [
              0.2222222222222222,
              "#7201a8"
             ],
             [
              0.3333333333333333,
              "#9c179e"
             ],
             [
              0.4444444444444444,
              "#bd3786"
             ],
             [
              0.5555555555555556,
              "#d8576b"
             ],
             [
              0.6666666666666666,
              "#ed7953"
             ],
             [
              0.7777777777777778,
              "#fb9f3a"
             ],
             [
              0.8888888888888888,
              "#fdca26"
             ],
             [
              1,
              "#f0f921"
             ]
            ],
            "type": "histogram2dcontour"
           }
          ],
          "mesh3d": [
           {
            "colorbar": {
             "outlinewidth": 0,
             "ticks": ""
            },
            "type": "mesh3d"
           }
          ],
          "parcoords": [
           {
            "line": {
             "colorbar": {
              "outlinewidth": 0,
              "ticks": ""
             }
            },
            "type": "parcoords"
           }
          ],
          "pie": [
           {
            "automargin": true,
            "type": "pie"
           }
          ],
          "scatter": [
           {
            "fillpattern": {
             "fillmode": "overlay",
             "size": 10,
             "solidity": 0.2
            },
            "type": "scatter"
           }
          ],
          "scatter3d": [
           {
            "line": {
             "colorbar": {
              "outlinewidth": 0,
              "ticks": ""
             }
            },
            "marker": {
             "colorbar": {
              "outlinewidth": 0,
              "ticks": ""
             }
            },
            "type": "scatter3d"
           }
          ],
          "scattercarpet": [
           {
            "marker": {
             "colorbar": {
              "outlinewidth": 0,
              "ticks": ""
             }
            },
            "type": "scattercarpet"
           }
          ],
          "scattergeo": [
           {
            "marker": {
             "colorbar": {
              "outlinewidth": 0,
              "ticks": ""
             }
            },
            "type": "scattergeo"
           }
          ],
          "scattergl": [
           {
            "marker": {
             "colorbar": {
              "outlinewidth": 0,
              "ticks": ""
             }
            },
            "type": "scattergl"
           }
          ],
          "scattermapbox": [
           {
            "marker": {
             "colorbar": {
              "outlinewidth": 0,
              "ticks": ""
             }
            },
            "type": "scattermapbox"
           }
          ],
          "scatterpolar": [
           {
            "marker": {
             "colorbar": {
              "outlinewidth": 0,
              "ticks": ""
             }
            },
            "type": "scatterpolar"
           }
          ],
          "scatterpolargl": [
           {
            "marker": {
             "colorbar": {
              "outlinewidth": 0,
              "ticks": ""
             }
            },
            "type": "scatterpolargl"
           }
          ],
          "scatterternary": [
           {
            "marker": {
             "colorbar": {
              "outlinewidth": 0,
              "ticks": ""
             }
            },
            "type": "scatterternary"
           }
          ],
          "surface": [
           {
            "colorbar": {
             "outlinewidth": 0,
             "ticks": ""
            },
            "colorscale": [
             [
              0,
              "#0d0887"
             ],
             [
              0.1111111111111111,
              "#46039f"
             ],
             [
              0.2222222222222222,
              "#7201a8"
             ],
             [
              0.3333333333333333,
              "#9c179e"
             ],
             [
              0.4444444444444444,
              "#bd3786"
             ],
             [
              0.5555555555555556,
              "#d8576b"
             ],
             [
              0.6666666666666666,
              "#ed7953"
             ],
             [
              0.7777777777777778,
              "#fb9f3a"
             ],
             [
              0.8888888888888888,
              "#fdca26"
             ],
             [
              1,
              "#f0f921"
             ]
            ],
            "type": "surface"
           }
          ],
          "table": [
           {
            "cells": {
             "fill": {
              "color": "#EBF0F8"
             },
             "line": {
              "color": "white"
             }
            },
            "header": {
             "fill": {
              "color": "#C8D4E3"
             },
             "line": {
              "color": "white"
             }
            },
            "type": "table"
           }
          ]
         },
         "layout": {
          "annotationdefaults": {
           "arrowcolor": "#2a3f5f",
           "arrowhead": 0,
           "arrowwidth": 1
          },
          "autotypenumbers": "strict",
          "coloraxis": {
           "colorbar": {
            "outlinewidth": 0,
            "ticks": ""
           }
          },
          "colorscale": {
           "diverging": [
            [
             0,
             "#8e0152"
            ],
            [
             0.1,
             "#c51b7d"
            ],
            [
             0.2,
             "#de77ae"
            ],
            [
             0.3,
             "#f1b6da"
            ],
            [
             0.4,
             "#fde0ef"
            ],
            [
             0.5,
             "#f7f7f7"
            ],
            [
             0.6,
             "#e6f5d0"
            ],
            [
             0.7,
             "#b8e186"
            ],
            [
             0.8,
             "#7fbc41"
            ],
            [
             0.9,
             "#4d9221"
            ],
            [
             1,
             "#276419"
            ]
           ],
           "sequential": [
            [
             0,
             "#0d0887"
            ],
            [
             0.1111111111111111,
             "#46039f"
            ],
            [
             0.2222222222222222,
             "#7201a8"
            ],
            [
             0.3333333333333333,
             "#9c179e"
            ],
            [
             0.4444444444444444,
             "#bd3786"
            ],
            [
             0.5555555555555556,
             "#d8576b"
            ],
            [
             0.6666666666666666,
             "#ed7953"
            ],
            [
             0.7777777777777778,
             "#fb9f3a"
            ],
            [
             0.8888888888888888,
             "#fdca26"
            ],
            [
             1,
             "#f0f921"
            ]
           ],
           "sequentialminus": [
            [
             0,
             "#0d0887"
            ],
            [
             0.1111111111111111,
             "#46039f"
            ],
            [
             0.2222222222222222,
             "#7201a8"
            ],
            [
             0.3333333333333333,
             "#9c179e"
            ],
            [
             0.4444444444444444,
             "#bd3786"
            ],
            [
             0.5555555555555556,
             "#d8576b"
            ],
            [
             0.6666666666666666,
             "#ed7953"
            ],
            [
             0.7777777777777778,
             "#fb9f3a"
            ],
            [
             0.8888888888888888,
             "#fdca26"
            ],
            [
             1,
             "#f0f921"
            ]
           ]
          },
          "colorway": [
           "#636efa",
           "#EF553B",
           "#00cc96",
           "#ab63fa",
           "#FFA15A",
           "#19d3f3",
           "#FF6692",
           "#B6E880",
           "#FF97FF",
           "#FECB52"
          ],
          "font": {
           "color": "#2a3f5f"
          },
          "geo": {
           "bgcolor": "white",
           "lakecolor": "white",
           "landcolor": "#E5ECF6",
           "showlakes": true,
           "showland": true,
           "subunitcolor": "white"
          },
          "hoverlabel": {
           "align": "left"
          },
          "hovermode": "closest",
          "mapbox": {
           "style": "light"
          },
          "paper_bgcolor": "white",
          "plot_bgcolor": "#E5ECF6",
          "polar": {
           "angularaxis": {
            "gridcolor": "white",
            "linecolor": "white",
            "ticks": ""
           },
           "bgcolor": "#E5ECF6",
           "radialaxis": {
            "gridcolor": "white",
            "linecolor": "white",
            "ticks": ""
           }
          },
          "scene": {
           "xaxis": {
            "backgroundcolor": "#E5ECF6",
            "gridcolor": "white",
            "gridwidth": 2,
            "linecolor": "white",
            "showbackground": true,
            "ticks": "",
            "zerolinecolor": "white"
           },
           "yaxis": {
            "backgroundcolor": "#E5ECF6",
            "gridcolor": "white",
            "gridwidth": 2,
            "linecolor": "white",
            "showbackground": true,
            "ticks": "",
            "zerolinecolor": "white"
           },
           "zaxis": {
            "backgroundcolor": "#E5ECF6",
            "gridcolor": "white",
            "gridwidth": 2,
            "linecolor": "white",
            "showbackground": true,
            "ticks": "",
            "zerolinecolor": "white"
           }
          },
          "shapedefaults": {
           "line": {
            "color": "#2a3f5f"
           }
          },
          "ternary": {
           "aaxis": {
            "gridcolor": "white",
            "linecolor": "white",
            "ticks": ""
           },
           "baxis": {
            "gridcolor": "white",
            "linecolor": "white",
            "ticks": ""
           },
           "bgcolor": "#E5ECF6",
           "caxis": {
            "gridcolor": "white",
            "linecolor": "white",
            "ticks": ""
           }
          },
          "title": {
           "x": 0.05
          },
          "xaxis": {
           "automargin": true,
           "gridcolor": "white",
           "linecolor": "white",
           "ticks": "",
           "title": {
            "standoff": 15
           },
           "zerolinecolor": "white",
           "zerolinewidth": 2
          },
          "yaxis": {
           "automargin": true,
           "gridcolor": "white",
           "linecolor": "white",
           "ticks": "",
           "title": {
            "standoff": 15
           },
           "zerolinecolor": "white",
           "zerolinewidth": 2
          }
         }
        },
        "title": {
         "text": "Top 10 Actores por ROI Promedio",
         "x": 0.5
        },
        "width": 600,
        "xaxis": {
         "anchor": "y",
         "domain": [
          0,
          1
         ],
         "title": {
          "text": "ROI Promedio"
         }
        },
        "yaxis": {
         "anchor": "x",
         "autorange": "reversed",
         "domain": [
          0,
          1
         ],
         "title": {
          "text": ""
         }
        }
       }
      }
     },
     "metadata": {},
     "output_type": "display_data"
    }
   ],
   "source": [
    "# Agrupar y calcular el promedio de ROI por actor\n",
    "top_actors_roi = (\n",
    "    df.groupby('star')['ROI']\n",
    "    .mean()\n",
    "    .sort_values(ascending=False)\n",
    "    .head(10)\n",
    "    .reset_index()\n",
    ")\n",
    "\n",
    "# Obtener los géneros asociados a cada actor (tomando el género de sus películas)\n",
    "top_actors_genres = df[df['star'].isin(top_actors_roi['star'])]\n",
    "top_actors_genres = top_actors_genres.groupby('star')['genre'].apply(lambda x: ', '.join(set(x))).reset_index()\n",
    "\n",
    "# Unir el DataFrame de actores con los géneros\n",
    "top_actors_roi = top_actors_roi.merge(top_actors_genres, on='star', how='left')\n",
    "\n",
    "# Crear un mapeo de colores para los géneros\n",
    "genre_color_map = {\n",
    "    'Drama': 'blue',\n",
    "    'Comedy': 'yellow',\n",
    "    'Action': 'red',\n",
    "    'Adventure': 'green',\n",
    "    'Horror': 'purple',\n",
    "    'Romance': 'pink',\n",
    "    'Sci-Fi': 'cyan',\n",
    "}\n",
    "\n",
    "# Asignar un color basado en el género (en caso de que un actor tenga múltiples géneros, se toma el primero)\n",
    "top_actors_roi['color'] = top_actors_roi['genre'].apply(lambda x: genre_color_map.get(x.split(', ')[0], 'gray'))\n",
    "\n",
    "# Crear un gráfico con un mapeo de colores basado en el género\n",
    "fig_actors_roi = px.bar(\n",
    "    top_actors_roi,\n",
    "    x='ROI',\n",
    "    y='star',\n",
    "    orientation='h',\n",
    "    title='Top 10 Actores por ROI Promedio',\n",
    "    labels={'ROI': 'ROI Promedio', 'star': 'Actor/Actriz', 'color': 'Género'},\n",
    "    color='genre',  # Usamos 'genre' para el color, para que aparezca en la leyenda\n",
    "    color_discrete_map=genre_color_map,  # Mapear colores a géneros\n",
    ")\n",
    "\n",
    "# Personalizar el diseño\n",
    "fig_actors_roi.update_layout(\n",
    "    xaxis_title='ROI Promedio',\n",
    "    yaxis_title='',\n",
    "    yaxis=dict(autorange='reversed'),  # Para que los valores más altos estén arriba\n",
    "    title_x=0.5,  # Centrar el título\n",
    ")\n",
    "\n",
    "# Ajustar el tamaño de la figura\n",
    "fig_actors_roi.update_layout(\n",
    "    width=600,  # Ancho de 600 píxeles\n",
    "    height=469  # Alto de 469 píxeles\n",
    ")\n",
    "\n",
    "# Mostrar la gráfica\n",
    "fig_actors_roi.show()\n"
   ]
  },
  {
   "cell_type": "code",
   "execution_count": 18,
   "metadata": {
    "colab": {
     "base_uri": "https://localhost:8080/",
     "height": 486
    },
    "id": "J5Zz_i7oZNMs",
    "outputId": "81d6d932-c96a-407c-9202-2791058fc561"
   },
   "outputs": [
    {
     "data": {
      "application/vnd.plotly.v1+json": {
       "config": {
        "plotlyServerURL": "https://plot.ly"
       },
       "data": [
        {
         "hovertemplate": "Año=%{x}<br>Número de Éxitos=%{y}<extra></extra>",
         "legendgroup": "",
         "line": {
          "color": "red",
          "dash": "solid"
         },
         "marker": {
          "symbol": "circle"
         },
         "mode": "lines",
         "name": "",
         "orientation": "v",
         "showlegend": false,
         "type": "scatter",
         "x": [
          1980,
          1981,
          1982,
          1983,
          1984,
          1985,
          1986,
          1987,
          1988,
          1989,
          1990,
          1991,
          1992,
          1993,
          1994,
          1995,
          1996,
          1997,
          1998,
          1999,
          2000,
          2001,
          2002,
          2003,
          2004,
          2005,
          2006,
          2007,
          2008,
          2009,
          2010,
          2011,
          2012,
          2013,
          2014,
          2015,
          2016,
          2017,
          2018,
          2019,
          2020
         ],
         "xaxis": "x",
         "y": [
          17,
          24,
          17,
          26,
          25,
          31,
          23,
          27,
          29,
          31,
          28,
          21,
          31,
          29,
          25,
          38,
          28,
          26,
          23,
          27,
          37,
          38,
          48,
          47,
          52,
          49,
          42,
          52,
          51,
          44,
          49,
          53,
          61,
          63,
          68,
          61,
          57,
          64,
          63,
          63,
          4
         ],
         "yaxis": "y"
        }
       ],
       "layout": {
        "height": 469,
        "legend": {
         "tracegroupgap": 0
        },
        "template": {
         "data": {
          "bar": [
           {
            "error_x": {
             "color": "#2a3f5f"
            },
            "error_y": {
             "color": "#2a3f5f"
            },
            "marker": {
             "line": {
              "color": "#E5ECF6",
              "width": 0.5
             },
             "pattern": {
              "fillmode": "overlay",
              "size": 10,
              "solidity": 0.2
             }
            },
            "type": "bar"
           }
          ],
          "barpolar": [
           {
            "marker": {
             "line": {
              "color": "#E5ECF6",
              "width": 0.5
             },
             "pattern": {
              "fillmode": "overlay",
              "size": 10,
              "solidity": 0.2
             }
            },
            "type": "barpolar"
           }
          ],
          "carpet": [
           {
            "aaxis": {
             "endlinecolor": "#2a3f5f",
             "gridcolor": "white",
             "linecolor": "white",
             "minorgridcolor": "white",
             "startlinecolor": "#2a3f5f"
            },
            "baxis": {
             "endlinecolor": "#2a3f5f",
             "gridcolor": "white",
             "linecolor": "white",
             "minorgridcolor": "white",
             "startlinecolor": "#2a3f5f"
            },
            "type": "carpet"
           }
          ],
          "choropleth": [
           {
            "colorbar": {
             "outlinewidth": 0,
             "ticks": ""
            },
            "type": "choropleth"
           }
          ],
          "contour": [
           {
            "colorbar": {
             "outlinewidth": 0,
             "ticks": ""
            },
            "colorscale": [
             [
              0,
              "#0d0887"
             ],
             [
              0.1111111111111111,
              "#46039f"
             ],
             [
              0.2222222222222222,
              "#7201a8"
             ],
             [
              0.3333333333333333,
              "#9c179e"
             ],
             [
              0.4444444444444444,
              "#bd3786"
             ],
             [
              0.5555555555555556,
              "#d8576b"
             ],
             [
              0.6666666666666666,
              "#ed7953"
             ],
             [
              0.7777777777777778,
              "#fb9f3a"
             ],
             [
              0.8888888888888888,
              "#fdca26"
             ],
             [
              1,
              "#f0f921"
             ]
            ],
            "type": "contour"
           }
          ],
          "contourcarpet": [
           {
            "colorbar": {
             "outlinewidth": 0,
             "ticks": ""
            },
            "type": "contourcarpet"
           }
          ],
          "heatmap": [
           {
            "colorbar": {
             "outlinewidth": 0,
             "ticks": ""
            },
            "colorscale": [
             [
              0,
              "#0d0887"
             ],
             [
              0.1111111111111111,
              "#46039f"
             ],
             [
              0.2222222222222222,
              "#7201a8"
             ],
             [
              0.3333333333333333,
              "#9c179e"
             ],
             [
              0.4444444444444444,
              "#bd3786"
             ],
             [
              0.5555555555555556,
              "#d8576b"
             ],
             [
              0.6666666666666666,
              "#ed7953"
             ],
             [
              0.7777777777777778,
              "#fb9f3a"
             ],
             [
              0.8888888888888888,
              "#fdca26"
             ],
             [
              1,
              "#f0f921"
             ]
            ],
            "type": "heatmap"
           }
          ],
          "heatmapgl": [
           {
            "colorbar": {
             "outlinewidth": 0,
             "ticks": ""
            },
            "colorscale": [
             [
              0,
              "#0d0887"
             ],
             [
              0.1111111111111111,
              "#46039f"
             ],
             [
              0.2222222222222222,
              "#7201a8"
             ],
             [
              0.3333333333333333,
              "#9c179e"
             ],
             [
              0.4444444444444444,
              "#bd3786"
             ],
             [
              0.5555555555555556,
              "#d8576b"
             ],
             [
              0.6666666666666666,
              "#ed7953"
             ],
             [
              0.7777777777777778,
              "#fb9f3a"
             ],
             [
              0.8888888888888888,
              "#fdca26"
             ],
             [
              1,
              "#f0f921"
             ]
            ],
            "type": "heatmapgl"
           }
          ],
          "histogram": [
           {
            "marker": {
             "pattern": {
              "fillmode": "overlay",
              "size": 10,
              "solidity": 0.2
             }
            },
            "type": "histogram"
           }
          ],
          "histogram2d": [
           {
            "colorbar": {
             "outlinewidth": 0,
             "ticks": ""
            },
            "colorscale": [
             [
              0,
              "#0d0887"
             ],
             [
              0.1111111111111111,
              "#46039f"
             ],
             [
              0.2222222222222222,
              "#7201a8"
             ],
             [
              0.3333333333333333,
              "#9c179e"
             ],
             [
              0.4444444444444444,
              "#bd3786"
             ],
             [
              0.5555555555555556,
              "#d8576b"
             ],
             [
              0.6666666666666666,
              "#ed7953"
             ],
             [
              0.7777777777777778,
              "#fb9f3a"
             ],
             [
              0.8888888888888888,
              "#fdca26"
             ],
             [
              1,
              "#f0f921"
             ]
            ],
            "type": "histogram2d"
           }
          ],
          "histogram2dcontour": [
           {
            "colorbar": {
             "outlinewidth": 0,
             "ticks": ""
            },
            "colorscale": [
             [
              0,
              "#0d0887"
             ],
             [
              0.1111111111111111,
              "#46039f"
             ],
             [
              0.2222222222222222,
              "#7201a8"
             ],
             [
              0.3333333333333333,
              "#9c179e"
             ],
             [
              0.4444444444444444,
              "#bd3786"
             ],
             [
              0.5555555555555556,
              "#d8576b"
             ],
             [
              0.6666666666666666,
              "#ed7953"
             ],
             [
              0.7777777777777778,
              "#fb9f3a"
             ],
             [
              0.8888888888888888,
              "#fdca26"
             ],
             [
              1,
              "#f0f921"
             ]
            ],
            "type": "histogram2dcontour"
           }
          ],
          "mesh3d": [
           {
            "colorbar": {
             "outlinewidth": 0,
             "ticks": ""
            },
            "type": "mesh3d"
           }
          ],
          "parcoords": [
           {
            "line": {
             "colorbar": {
              "outlinewidth": 0,
              "ticks": ""
             }
            },
            "type": "parcoords"
           }
          ],
          "pie": [
           {
            "automargin": true,
            "type": "pie"
           }
          ],
          "scatter": [
           {
            "fillpattern": {
             "fillmode": "overlay",
             "size": 10,
             "solidity": 0.2
            },
            "type": "scatter"
           }
          ],
          "scatter3d": [
           {
            "line": {
             "colorbar": {
              "outlinewidth": 0,
              "ticks": ""
             }
            },
            "marker": {
             "colorbar": {
              "outlinewidth": 0,
              "ticks": ""
             }
            },
            "type": "scatter3d"
           }
          ],
          "scattercarpet": [
           {
            "marker": {
             "colorbar": {
              "outlinewidth": 0,
              "ticks": ""
             }
            },
            "type": "scattercarpet"
           }
          ],
          "scattergeo": [
           {
            "marker": {
             "colorbar": {
              "outlinewidth": 0,
              "ticks": ""
             }
            },
            "type": "scattergeo"
           }
          ],
          "scattergl": [
           {
            "marker": {
             "colorbar": {
              "outlinewidth": 0,
              "ticks": ""
             }
            },
            "type": "scattergl"
           }
          ],
          "scattermapbox": [
           {
            "marker": {
             "colorbar": {
              "outlinewidth": 0,
              "ticks": ""
             }
            },
            "type": "scattermapbox"
           }
          ],
          "scatterpolar": [
           {
            "marker": {
             "colorbar": {
              "outlinewidth": 0,
              "ticks": ""
             }
            },
            "type": "scatterpolar"
           }
          ],
          "scatterpolargl": [
           {
            "marker": {
             "colorbar": {
              "outlinewidth": 0,
              "ticks": ""
             }
            },
            "type": "scatterpolargl"
           }
          ],
          "scatterternary": [
           {
            "marker": {
             "colorbar": {
              "outlinewidth": 0,
              "ticks": ""
             }
            },
            "type": "scatterternary"
           }
          ],
          "surface": [
           {
            "colorbar": {
             "outlinewidth": 0,
             "ticks": ""
            },
            "colorscale": [
             [
              0,
              "#0d0887"
             ],
             [
              0.1111111111111111,
              "#46039f"
             ],
             [
              0.2222222222222222,
              "#7201a8"
             ],
             [
              0.3333333333333333,
              "#9c179e"
             ],
             [
              0.4444444444444444,
              "#bd3786"
             ],
             [
              0.5555555555555556,
              "#d8576b"
             ],
             [
              0.6666666666666666,
              "#ed7953"
             ],
             [
              0.7777777777777778,
              "#fb9f3a"
             ],
             [
              0.8888888888888888,
              "#fdca26"
             ],
             [
              1,
              "#f0f921"
             ]
            ],
            "type": "surface"
           }
          ],
          "table": [
           {
            "cells": {
             "fill": {
              "color": "#EBF0F8"
             },
             "line": {
              "color": "white"
             }
            },
            "header": {
             "fill": {
              "color": "#C8D4E3"
             },
             "line": {
              "color": "white"
             }
            },
            "type": "table"
           }
          ]
         },
         "layout": {
          "annotationdefaults": {
           "arrowcolor": "#2a3f5f",
           "arrowhead": 0,
           "arrowwidth": 1
          },
          "autotypenumbers": "strict",
          "coloraxis": {
           "colorbar": {
            "outlinewidth": 0,
            "ticks": ""
           }
          },
          "colorscale": {
           "diverging": [
            [
             0,
             "#8e0152"
            ],
            [
             0.1,
             "#c51b7d"
            ],
            [
             0.2,
             "#de77ae"
            ],
            [
             0.3,
             "#f1b6da"
            ],
            [
             0.4,
             "#fde0ef"
            ],
            [
             0.5,
             "#f7f7f7"
            ],
            [
             0.6,
             "#e6f5d0"
            ],
            [
             0.7,
             "#b8e186"
            ],
            [
             0.8,
             "#7fbc41"
            ],
            [
             0.9,
             "#4d9221"
            ],
            [
             1,
             "#276419"
            ]
           ],
           "sequential": [
            [
             0,
             "#0d0887"
            ],
            [
             0.1111111111111111,
             "#46039f"
            ],
            [
             0.2222222222222222,
             "#7201a8"
            ],
            [
             0.3333333333333333,
             "#9c179e"
            ],
            [
             0.4444444444444444,
             "#bd3786"
            ],
            [
             0.5555555555555556,
             "#d8576b"
            ],
            [
             0.6666666666666666,
             "#ed7953"
            ],
            [
             0.7777777777777778,
             "#fb9f3a"
            ],
            [
             0.8888888888888888,
             "#fdca26"
            ],
            [
             1,
             "#f0f921"
            ]
           ],
           "sequentialminus": [
            [
             0,
             "#0d0887"
            ],
            [
             0.1111111111111111,
             "#46039f"
            ],
            [
             0.2222222222222222,
             "#7201a8"
            ],
            [
             0.3333333333333333,
             "#9c179e"
            ],
            [
             0.4444444444444444,
             "#bd3786"
            ],
            [
             0.5555555555555556,
             "#d8576b"
            ],
            [
             0.6666666666666666,
             "#ed7953"
            ],
            [
             0.7777777777777778,
             "#fb9f3a"
            ],
            [
             0.8888888888888888,
             "#fdca26"
            ],
            [
             1,
             "#f0f921"
            ]
           ]
          },
          "colorway": [
           "#636efa",
           "#EF553B",
           "#00cc96",
           "#ab63fa",
           "#FFA15A",
           "#19d3f3",
           "#FF6692",
           "#B6E880",
           "#FF97FF",
           "#FECB52"
          ],
          "font": {
           "color": "#2a3f5f"
          },
          "geo": {
           "bgcolor": "white",
           "lakecolor": "white",
           "landcolor": "#E5ECF6",
           "showlakes": true,
           "showland": true,
           "subunitcolor": "white"
          },
          "hoverlabel": {
           "align": "left"
          },
          "hovermode": "closest",
          "mapbox": {
           "style": "light"
          },
          "paper_bgcolor": "white",
          "plot_bgcolor": "#E5ECF6",
          "polar": {
           "angularaxis": {
            "gridcolor": "white",
            "linecolor": "white",
            "ticks": ""
           },
           "bgcolor": "#E5ECF6",
           "radialaxis": {
            "gridcolor": "white",
            "linecolor": "white",
            "ticks": ""
           }
          },
          "scene": {
           "xaxis": {
            "backgroundcolor": "#E5ECF6",
            "gridcolor": "white",
            "gridwidth": 2,
            "linecolor": "white",
            "showbackground": true,
            "ticks": "",
            "zerolinecolor": "white"
           },
           "yaxis": {
            "backgroundcolor": "#E5ECF6",
            "gridcolor": "white",
            "gridwidth": 2,
            "linecolor": "white",
            "showbackground": true,
            "ticks": "",
            "zerolinecolor": "white"
           },
           "zaxis": {
            "backgroundcolor": "#E5ECF6",
            "gridcolor": "white",
            "gridwidth": 2,
            "linecolor": "white",
            "showbackground": true,
            "ticks": "",
            "zerolinecolor": "white"
           }
          },
          "shapedefaults": {
           "line": {
            "color": "#2a3f5f"
           }
          },
          "ternary": {
           "aaxis": {
            "gridcolor": "white",
            "linecolor": "white",
            "ticks": ""
           },
           "baxis": {
            "gridcolor": "white",
            "linecolor": "white",
            "ticks": ""
           },
           "bgcolor": "#E5ECF6",
           "caxis": {
            "gridcolor": "white",
            "linecolor": "white",
            "ticks": ""
           }
          },
          "title": {
           "x": 0.05
          },
          "xaxis": {
           "automargin": true,
           "gridcolor": "white",
           "linecolor": "white",
           "ticks": "",
           "title": {
            "standoff": 15
           },
           "zerolinecolor": "white",
           "zerolinewidth": 2
          },
          "yaxis": {
           "automargin": true,
           "gridcolor": "white",
           "linecolor": "white",
           "ticks": "",
           "title": {
            "standoff": 15
           },
           "zerolinecolor": "white",
           "zerolinewidth": 2
          }
         }
        },
        "title": {
         "text": "Número de Éxitos por Año"
        },
        "width": 600,
        "xaxis": {
         "anchor": "y",
         "domain": [
          0,
          1
         ],
         "title": {
          "text": "Año"
         }
        },
        "yaxis": {
         "anchor": "x",
         "domain": [
          0,
          1
         ],
         "title": {
          "text": "Número de Éxitos"
         }
        }
       }
      }
     },
     "metadata": {},
     "output_type": "display_data"
    }
   ],
   "source": [
    "# Filtrar las películas exitosas (ROI > 2.25)\n",
    "peliculas_exitosas = df[df['ROI'] > 2.25]\n",
    "\n",
    "# Contar el número de éxitos por año\n",
    "exitos_por_ano = peliculas_exitosas['year'].value_counts().sort_index()\n",
    "\n",
    "# Crear un DataFrame para usar en Plotly\n",
    "exitos_df = pd.DataFrame({\n",
    "    'Año': exitos_por_ano.index,\n",
    "    'Número de Éxitos': exitos_por_ano.values\n",
    "})\n",
    "\n",
    "# Crear el gráfico de líneas\n",
    "fig = px.line(exitos_df, x='Año', y='Número de Éxitos',\n",
    "              title='Número de Éxitos por Año',\n",
    "              labels={'Año': 'Año', 'Número de Éxitos': 'Número de Éxitos'})\n",
    "\n",
    "# Cambiar el color de la línea a rojo\n",
    "fig.update_traces(line=dict(color='red'))\n",
    "\n",
    "# Ajustar el tamaño de la figura\n",
    "fig.update_layout(\n",
    "    width=600,  # Ancho de 600 píxeles\n",
    "    height=469,  # Alto de 469 píxeles\n",
    ")\n",
    "\n",
    "# Mostrar la gráfica interactiva\n",
    "fig.show()"
   ]
  },
  {
   "cell_type": "code",
   "execution_count": 8,
   "metadata": {
    "colab": {
     "base_uri": "https://localhost:8080/",
     "height": 486
    },
    "id": "G_q-ZebWeiGm",
    "outputId": "b4368136-3507-4af2-ddd3-699b80042e5f"
   },
   "outputs": [
    {
     "data": {
      "application/vnd.plotly.v1+json": {
       "config": {
        "plotlyServerURL": "https://plot.ly"
       },
       "data": [
        {
         "customdata": [
          [
           "The Blue Lagoon",
           "Adventure",
           "R",
           65000,
           4500000,
           58853106
          ],
          [
           "Caddyshack",
           "Comedy",
           "R",
           108000,
           6000000,
           39846344
          ],
          [
           "The Blues Brothers",
           "Action",
           "R",
           188000,
           27000000,
           115229890
          ],
          [
           "Any Which Way You Can",
           "Action",
           "PG",
           18000,
           15000000,
           70687344
          ],
          [
           "The Gods Must Be Crazy",
           "Adventure",
           "PG",
           54000,
           5000000,
           30031783
          ],
          [
           "Ordinary People",
           "Drama",
           "R",
           49000,
           6000000,
           54766923
          ],
          [
           "Dressed to Kill",
           "Crime",
           "R",
           37000,
           6500000,
           31899000
          ],
          [
           "9 to 5",
           "Comedy",
           "PG",
           29000,
           10000000,
           103300686
          ],
          [
           "Brubaker",
           "Crime",
           "R",
           17000,
           9000000,
           37121708
          ],
          [
           "American Gigolo",
           "Crime",
           "R",
           22000,
           4800000,
           22743674
          ],
          [
           "Private Benjamin",
           "Comedy",
           "R",
           24000,
           10000000,
           69847348
          ],
          [
           "Bronco Billy",
           "Action",
           "PG",
           11000,
           6500000,
           24265659
          ],
          [
           "The Octagon",
           "Action",
           "R",
           5200,
           4000000,
           18971000
          ],
          [
           "Escape from New York",
           "Action",
           "R",
           131000,
           6000000,
           25244626
          ],
          [
           "The Evil Dead",
           "Horror",
           "NC-17",
           192000,
           350000,
           2956630
          ],
          [
           "Mad Max 2",
           "Action",
           "R",
           170000,
           3000000,
           23668369
          ],
          [
           "Stripes",
           "Comedy",
           "R",
           68000,
           10000000,
           85297000
          ],
          [
           "The Cannonball Run",
           "Action",
           "PG",
           34000,
           18000000,
           72179579
          ],
          [
           "Time Bandits",
           "Adventure",
           "PG",
           60000,
           5000000,
           42368025
          ],
          [
           "Halloween II",
           "Horror",
           "R",
           77000,
           2500000,
           25533818
          ],
          [
           "The Fox and the Hound",
           "Animation",
           "G",
           87000,
           12000000,
           63456988
          ],
          [
           "Chariots of Fire",
           "Biography",
           "PG",
           56000,
           5500000,
           59303359
          ],
          [
           "Absence of Malice",
           "Drama",
           "PG",
           12000,
           12000000,
           40716963
          ],
          [
           "Tarzan the Ape Man",
           "Adventure",
           "G",
           5300,
           6500000,
           36565280
          ],
          [
           "Arthur",
           "Comedy",
           "PG",
           27000,
           7000000,
           95461682
          ],
          [
           "The Final Conflict",
           "Horror",
           "R",
           19000,
           5000000,
           20471382
          ],
          [
           "Mommie Dearest",
           "Biography",
           "R",
           15000,
           5000000,
           19032261
          ],
          [
           "Private Lessons",
           "Comedy",
           "R",
           3400,
           2800000,
           26279000
          ],
          [
           "Deadly Blessing",
           "Horror",
           "R",
           5200,
           2500000,
           8279042
          ],
          [
           "Nighthawks",
           "Action",
           "R",
           18000,
           5000000,
           19905359
          ],
          [
           "Neighbors",
           "Comedy",
           "R",
           7600,
           8500000,
           29916207
          ],
          [
           "Modern Problems",
           "Comedy",
           "PG",
           4900,
           8000000,
           26154211
          ],
          [
           "Take This Job and Shove It",
           "Comedy",
           "PG",
           761,
           3500000,
           17569027
          ],
          [
           "Fast Times at Ridgemont High",
           "Comedy",
           "R",
           98000,
           4500000,
           27092880
          ],
          [
           "Conan the Barbarian",
           "Action",
           "R",
           141000,
           20000000,
           68851475
          ],
          [
           "First Blood",
           "Action",
           "R",
           234000,
           15000000,
           125212904
          ],
          [
           "Poltergeist",
           "Horror",
           "PG",
           148000,
           10700000,
           77142388
          ],
          [
           "48 Hrs.",
           "Action",
           "R",
           73000,
           12000000,
           78868508
          ],
          [
           "Star Trek II: The Wrath of Khan",
           "Action",
           "PG",
           115000,
           11200000,
           78912963
          ],
          [
           "Tootsie",
           "Comedy",
           "PG",
           100000,
           21000000,
           177200000
          ],
          [
           "Rocky III",
           "Drama",
           "PG",
           179000,
           17000000,
           125052686
          ],
          [
           "The Man from Snowy River",
           "Adventure",
           "PG",
           8200,
           3500000,
           20659423
          ],
          [
           "Halloween III: Season of the Witch",
           "Horror",
           "R",
           45000,
           2500000,
           14400000
          ],
          [
           "The Verdict",
           "Drama",
           "R",
           37000,
           16000000,
           53993738
          ],
          [
           "Pieces",
           "Horror",
           "G",
           9300,
           300000,
           2032311
          ],
          [
           "Death Wish II",
           "Action",
           "R",
           15000,
           2000000,
           16100000
          ],
          [
           "Star Wars: Episode VI - Return of the Jedi",
           "Action",
           "PG",
           973000,
           32500000,
           475106177
          ],
          [
           "Risky Business",
           "Comedy",
           "R",
           83000,
           6200000,
           63541777
          ],
          [
           "National Lampoon's Vacation",
           "Adventure",
           "R",
           100000,
           15000000,
           61399552
          ],
          [
           "Trading Places",
           "Comedy",
           "R",
           141000,
           15000000,
           90404800
          ],
          [
           "The Big Chill",
           "Comedy",
           "R",
           34000,
           8000000,
           56399659
          ],
          [
           "Jaws 3-D",
           "Adventure",
           "PG",
           41000,
           20500000,
           87987055
          ],
          [
           "WarGames",
           "Action",
           "PG",
           93000,
           12000000,
           79567667
          ],
          [
           "Private School",
           "Comedy",
           "R",
           6100,
           3500000,
           14049540
          ],
          [
           "Terms of Endearment",
           "Comedy",
           "PG",
           57000,
           8000000,
           108423749
          ],
          [
           "A Christmas Story",
           "Comedy",
           "PG",
           134000,
           3300000,
           20653717
          ],
          [
           "Cujo",
           "Horror",
           "R",
           41000,
           5000000,
           21156152
          ],
          [
           "Psycho II",
           "Crime",
           "R",
           25000,
           5000000,
           34725000
          ],
          [
           "Silkwood",
           "Biography",
           "R",
           19000,
           10000000,
           35615609
          ],
          [
           "Yentl",
           "Drama",
           "PG",
           13000,
           12000000,
           40218899
          ],
          [
           "Porky's II: The Next Day",
           "Comedy",
           "R",
           11000,
           6500000,
           33759266
          ],
          [
           "Angel",
           "Action",
           "R",
           2900,
           3000000,
           17488564
          ],
          [
           "Chained Heat",
           "Action",
           "R",
           2100,
           1250000,
           6149983
          ],
          [
           "Hercules",
           "Adventure",
           "PG",
           3600,
           2500000,
           10676194
          ],
          [
           "Love Letters",
           "Drama",
           "R",
           701,
           550000,
           5269990
          ],
          [
           "Getting It on",
           "Comedy",
           "R",
           208,
           220000,
           975414
          ],
          [
           "Lianna",
           "Drama",
           "R",
           1600,
           300000,
           1530839
          ],
          [
           "The Terminator",
           "Action",
           "R",
           812000,
           6400000,
           78371200
          ],
          [
           "Ghostbusters",
           "Action",
           "PG",
           365000,
           30000000,
           296187079
          ],
          [
           "The Karate Kid",
           "Action",
           "PG",
           205000,
           8000000,
           91119319
          ],
          [
           "Indiana Jones and the Temple of Doom",
           "Action",
           "PG",
           459000,
           28000000,
           333107271
          ],
          [
           "A Nightmare on Elm Street",
           "Horror",
           "R",
           212000,
           1800000,
           25507137
          ],
          [
           "Footloose",
           "Drama",
           "PG",
           73000,
           8200000,
           80039064
          ],
          [
           "Revenge of the Nerds",
           "Comedy",
           "R",
           50000,
           8000000,
           40874452
          ],
          [
           "Gremlins",
           "Comedy",
           "PG",
           204000,
           11000000,
           153633143
          ],
          [
           "Romancing the Stone",
           "Action",
           "PG",
           86000,
           10000000,
           86572238
          ],
          [
           "Sixteen Candles",
           "Comedy",
           "PG",
           108000,
           6500000,
           23686027
          ],
          [
           "Splash",
           "Comedy",
           "PG",
           71000,
           8000000,
           69821334
          ],
          [
           "Bachelor Party",
           "Comedy",
           "R",
           36000,
           5000000,
           38435947
          ],
          [
           "Friday the 13th: the Final Chapter",
           "Horror",
           "R",
           47000,
           2600000,
           32980880
          ],
          [
           "C.H.U.D.",
           "Horror",
           "R",
           11000,
           1250000,
           4654423
          ],
          [
           "Star Trek III: The Search for Spock",
           "Action",
           "PG",
           76000,
           17000000,
           76471046
          ],
          [
           "Purple Rain",
           "Drama",
           "R",
           20000,
           7200000,
           70263155
          ],
          [
           "Missing in Action",
           "Action",
           "R",
           14000,
           2550000,
           22812411
          ],
          [
           "A Soldier's Story",
           "Crime",
           "PG",
           9300,
           6000000,
           21821347
          ],
          [
           "The Brother from Another Planet",
           "Comedy",
           "R",
           5700,
           350000,
           3677209
          ],
          [
           "Choose Me",
           "Comedy",
           "R",
           2600,
           700000,
           2490233
          ],
          [
           "Weird Science",
           "Comedy",
           "PG-13",
           83000,
           7500000,
           38934048
          ],
          [
           "The Goonies",
           "Adventure",
           "PG",
           252000,
           19000000,
           63980721
          ],
          [
           "Cocoon",
           "Comedy",
           "PG-13",
           59000,
           17500000,
           85313124
          ],
          [
           "Rambo: First Blood Part II",
           "Action",
           "R",
           159000,
           44000000,
           300400432
          ],
          [
           "Mask",
           "Biography",
           "PG-13",
           27000,
           8000000,
           48230162
          ],
          [
           "The Return of the Living Dead",
           "Comedy",
           "R",
           56000,
           4000000,
           14237880
          ],
          [
           "St. Elmo's Fire",
           "Drama",
           "R",
           38000,
           10000000,
           37803872
          ],
          [
           "Pale Rider",
           "Drama",
           "R",
           55000,
           6900000,
           41410568
          ],
          [
           "Commando",
           "Action",
           "R",
           150000,
           10000000,
           57491000
          ],
          [
           "Witness",
           "Crime",
           "R",
           89000,
           12000000,
           68706993
          ],
          [
           "The Color Purple",
           "Drama",
           "PG-13",
           81000,
           15000000,
           98467863
          ],
          [
           "Rocky IV",
           "Drama",
           "PG",
           192000,
           30000000,
           300473716
          ],
          [
           "A Room with a View",
           "Drama",
           "G",
           41000,
           3000000,
           21041453
          ],
          [
           "Mad Max Beyond Thunderdome",
           "Action",
           "PG-13",
           129000,
           10000000,
           36230219
          ],
          [
           "Fletch",
           "Comedy",
           "PG",
           49000,
           8000000,
           59612888
          ],
          [
           "A Nightmare on Elm Street 2: Freddy's Revenge",
           "Horror",
           "R",
           63000,
           3000000,
           29999213
          ],
          [
           "Pee-wee's Big Adventure",
           "Adventure",
           "PG",
           50000,
           6000000,
           40940662
          ],
          [
           "Out of Africa",
           "Biography",
           "PG",
           75000,
           31000000,
           227514205
          ],
          [
           "House",
           "Comedy",
           "R",
           24000,
           3000000,
           19444631
          ],
          [
           "Police Academy 2: Their First Assignment",
           "Comedy",
           "PG-13",
           53000,
           7600000,
           55600000
          ],
          [
           "Friday the 13th: A New Beginning",
           "Horror",
           "R",
           35000,
           2200000,
           21930418
          ],
          [
           "Desperately Seeking Susan",
           "Comedy",
           "PG-13",
           22000,
           4500000,
           27398584
          ],
          [
           "The Jewel of the Nile",
           "Action",
           "PG",
           53000,
           25000000,
           96773200
          ],
          [
           "The Sure Thing",
           "Comedy",
           "PG-13",
           20000,
           4500000,
           18135531
          ],
          [
           "American Warrior",
           "Action",
           "R",
           14000,
           1000000,
           10499694
          ],
          [
           "Missing in Action 2: The Beginning",
           "Action",
           "R",
           7900,
           2410000,
           10755447
          ],
          [
           "Krush Groove",
           "Comedy",
           "R",
           2900,
           3000000,
           11052713
          ],
          [
           "He-Man and She-Ra: The Secret of the Sword",
           "Animation",
           "G",
           2600,
           2000000,
           7660857
          ],
          [
           "The Care Bears Movie",
           "Animation",
           "G",
           5200,
           2000000,
           22934622
          ],
          [
           "Aliens",
           "Action",
           "R",
           668000,
           18500000,
           131060248
          ],
          [
           "Stand by Me",
           "Adventure",
           "R",
           374000,
           8000000,
           52287414
          ],
          [
           "Ferris Bueller's Day Off",
           "Comedy",
           "PG-13",
           330000,
           6000000,
           70720215
          ],
          [
           "Pretty in Pink",
           "Comedy",
           "PG-13",
           76000,
           9000000,
           40479480
          ],
          [
           "The Fly",
           "Drama",
           "R",
           165000,
           15000000,
           60629159
          ],
          [
           "Star Trek IV: The Voyage Home",
           "Action",
           "PG",
           81000,
           25000000,
           109713132
          ],
          [
           "The Color of Money",
           "Drama",
           "R",
           77000,
           13800000,
           52293982
          ],
          [
           "Hoosiers",
           "Drama",
           "PG",
           44000,
           6000000,
           28607524
          ],
          [
           "Friday the 13th Part VI: Jason Lives",
           "Horror",
           "R",
           40000,
           3000000,
           19472057
          ],
          [
           "The Money Pit",
           "Comedy",
           "PG",
           54000,
           10000000,
           54999651
          ],
          [
           "Back to School",
           "Comedy",
           "PG-13",
           29000,
           11000000,
           91258000
          ],
          [
           "About Last Night",
           "Comedy",
           "R",
           15000,
           8500000,
           38702310
          ],
          [
           "Critters",
           "Comedy",
           "PG-13",
           32000,
           2000000,
           13167232
          ],
          [
           "Henry: Portrait of a Serial Killer",
           "Biography",
           "NC-17",
           33000,
           111000,
           609939
          ],
          [
           "Hannah and Her Sisters",
           "Comedy",
           "PG-13",
           68000,
           6400000,
           40084041
          ],
          [
           "Ruthless People",
           "Comedy",
           "R",
           27000,
           13000000,
           71624879
          ],
          [
           "Troll",
           "Comedy",
           "PG-13",
           9500,
           1100000,
           5450815
          ],
          [
           "Down and Out in Beverly Hills",
           "Comedy",
           "R",
           16000,
           14000000,
           62134225
          ],
          [
           "Witchboard",
           "Horror",
           "R",
           6600,
           2000000,
           7369373
          ],
          [
           "Predator",
           "Action",
           "R",
           381000,
           15000000,
           98268458
          ],
          [
           "RoboCop",
           "Action",
           "R",
           240000,
           13000000,
           53424681
          ],
          [
           "Adventures in Babysitting",
           "Adventure",
           "PG-13",
           40000,
           7000000,
           34368475
          ],
          [
           "Raising Arizona",
           "Comedy",
           "PG-13",
           130000,
           6000000,
           29180280
          ],
          [
           "Lethal Weapon",
           "Action",
           "R",
           243000,
           15000000,
           120207127
          ],
          [
           "Mannequin",
           "Comedy",
           "PG",
           30000,
           6000000,
           42721196
          ],
          [
           "Moonstruck",
           "Comedy",
           "PG",
           53000,
           15000000,
           80642217
          ],
          [
           "Good Morning, Vietnam",
           "Biography",
           "R",
           131000,
           13000000,
           123922370
          ],
          [
           "A Nightmare on Elm Street 3: Dream Warriors",
           "Fantasy",
           "R",
           73000,
           4500000,
           44793222
          ],
          [
           "Beverly Hills Cop II",
           "Action",
           "R",
           111000,
           28000000,
           299965036
          ],
          [
           "The Secret of My Success",
           "Comedy",
           "PG-13",
           31000,
           12000000,
           110996879
          ],
          [
           "La Bamba",
           "Biography",
           "PG-13",
           30000,
           6500000,
           54215416
          ],
          [
           "Prince of Darkness",
           "Horror",
           "R",
           39000,
           3000000,
           14182492
          ],
          [
           "Broadcast News",
           "Comedy",
           "R",
           28000,
           20000000,
           67331309
          ],
          [
           "Harry and the Hendersons",
           "Comedy",
           "PG",
           32000,
           10000000,
           49998613
          ],
          [
           "Creepshow 2",
           "Fantasy",
           "R",
           23000,
           3500000,
           14000000
          ],
          [
           "Roxanne",
           "Comedy",
           "PG",
           42000,
           12000000,
           40050884
          ],
          [
           "Dragnet",
           "Comedy",
           "PG-13",
           33000,
           20000000,
           66673516
          ],
          [
           "Throw Momma from the Train",
           "Comedy",
           "PG-13",
           35000,
           14000000,
           57915972
          ],
          [
           "Ernest Goes to Camp",
           "Comedy",
           "PG",
           11000,
           3500000,
           23509382
          ],
          [
           "Maid to Order",
           "Fantasy",
           "PG",
           3300,
           3000000,
           9868521
          ],
          [
           "Like Father Like Son",
           "Comedy",
           "PG-13",
           5700,
           10500000,
           34377585
          ],
          [
           "American Ninja 2: The Confrontation",
           "Action",
           "R",
           8200,
           350000,
           4000000
          ],
          [
           "Die Hard",
           "Action",
           "R",
           810000,
           28000000,
           141603197
          ],
          [
           "Beetlejuice",
           "Comedy",
           "PG",
           270000,
           15000000,
           74270074
          ],
          [
           "Big",
           "Comedy",
           "PG",
           205000,
           18000000,
           151927281
          ],
          [
           "Rain Man",
           "Drama",
           "R",
           483000,
           25000000,
           354825435
          ],
          [
           "They Live",
           "Action",
           "R",
           117000,
           4000000,
           13008928
          ],
          [
           "Coming to America",
           "Comedy",
           "R",
           196000,
           39000000,
           288752301
          ],
          [
           "Who Framed Roger Rabbit",
           "Animation",
           "PG",
           187000,
           70000000,
           329803958
          ],
          [
           "Child's Play",
           "Fantasy",
           "R",
           91000,
           9000000,
           44196684
          ],
          [
           "Twins",
           "Comedy",
           "PG",
           117000,
           15000000,
           216614388
          ],
          [
           "The Naked Gun: from the Files of Police Squad!",
           "Comedy",
           "PG-13",
           158000,
           12000000,
           78756177
          ],
          [
           "Cocktail",
           "Comedy",
           "R",
           81000,
           20000000,
           171504781
          ],
          [
           "My Neighbor Totoro",
           "Animation",
           "G",
           304000,
           3700000,
           30550920
          ],
          [
           "Young Guns",
           "Action",
           "R",
           57000,
           13000000,
           45661556
          ],
          [
           "A Fish Called Wanda",
           "Comedy",
           "R",
           135000,
           7500000,
           62493712
          ],
          [
           "Working Girl",
           "Comedy",
           "R",
           54000,
           28000000,
           102953112
          ],
          [
           "Bloodsport",
           "Action",
           "R",
           79000,
           1100000,
           11806119
          ],
          [
           "The Land Before Time",
           "Animation",
           "G",
           82000,
           12500000,
           84460846
          ],
          [
           "Hairspray",
           "Comedy",
           "PG",
           20000,
           2000000,
           6673032
          ],
          [
           "Bull Durham",
           "Comedy",
           "R",
           49000,
           7000000,
           50888729
          ],
          [
           "A Nightmare on Elm Street 4: The Dream Master",
           "Horror",
           "R",
           51000,
           13000000,
           49369899
          ],
          [
           "Halloween 4: The Return of Michael Myers",
           "Horror",
           "R",
           45000,
           5000000,
           17768757
          ],
          [
           "I'm Gonna Git You Sucka",
           "Action",
           "R",
           13000,
           3000000,
           13030057
          ],
          [
           "Friday the 13th Part VII: the New Blood",
           "Horror",
           "R",
           34000,
           2800000,
           19170001
          ],
          [
           "Hellbound: Hellraiser II",
           "Horror",
           "R",
           44000,
           3000000,
           12090735
          ],
          [
           "Colors",
           "Action",
           "R",
           25000,
           6000000,
           46616067
          ],
          [
           "Women on the Verge of a Nervous Breakdown",
           "Comedy",
           "R",
           37000,
           700000,
           7263129
          ],
          [
           "Crossing Delancey",
           "Comedy",
           "PG",
           3900,
           4000000,
           16262415
          ],
          [
           "Ernest Saves Christmas",
           "Comedy",
           "PG",
           10000,
           6000000,
           28202109
          ],
          [
           "Indiana Jones and the Last Crusade",
           "Action",
           "PG-13",
           707000,
           48000000,
           474171806
          ],
          [
           "Batman",
           "Action",
           "PG-13",
           346000,
           35000000,
           411508343
          ],
          [
           "Bill & Ted's Excellent Adventure",
           "Adventure",
           "PG",
           123000,
           10000000,
           40508994
          ],
          [
           "Dead Poets Society",
           "Comedy",
           "PG",
           442000,
           16400000,
           235860116
          ],
          [
           "The Little Mermaid",
           "Animation",
           "G",
           244000,
           40000000,
           211343479
          ],
          [
           "Back to the Future Part II",
           "Adventure",
           "PG",
           494000,
           40000000,
           332500002
          ],
          [
           "Do the Right Thing",
           "Comedy",
           "R",
           94000,
           6500000,
           37295445
          ],
          [
           "Honey, I Shrunk the Kids",
           "Adventure",
           "PG",
           146000,
           18000000,
           222724172
          ],
          [
           "Turner & Hooch",
           "Comedy",
           "PG",
           66000,
           13000000,
           71079915
          ],
          [
           "When Harry Met Sally...",
           "Comedy",
           "R",
           201000,
           16000000,
           93232006
          ],
          [
           "Major League",
           "Comedy",
           "R",
           64000,
           11000000,
           49797148
          ],
          [
           "Steel Magnolias",
           "Comedy",
           "PG",
           50000,
           15000000,
           96759512
          ],
          [
           "Pet Sematary",
           "Fantasy",
           "R",
           97000,
           11500000,
           57470138
          ],
          [
           "Uncle Buck",
           "Comedy",
           "PG",
           88000,
           15000000,
           79258538
          ],
          [
           "Ghostbusters II",
           "Action",
           "PG",
           187000,
           37000000,
           215394738
          ],
          [
           "Born on the Fourth of July",
           "Biography",
           "R",
           101000,
           14000000,
           161001698
          ],
          [
           "Parenthood",
           "Comedy",
           "PG-13",
           46000,
           20000000,
           126297830
          ],
          [
           "Lethal Weapon 2",
           "Action",
           "R",
           166000,
           28000000,
           227853986
          ],
          [
           "License to Kill",
           "Action",
           "PG-13",
           97000,
           32000000,
           156167015
          ],
          [
           "The War of the Roses",
           "Comedy",
           "R",
           50000,
           26000000,
           160188546
          ],
          [
           "Kickboxer",
           "Action",
           "R",
           52000,
           1500000,
           14697005
          ],
          [
           "Black Rain",
           "Action",
           "R",
           51000,
           30000000,
           134212055
          ],
          [
           "A Nightmare on Elm Street 5: The Dream Child",
           "Fantasy",
           "R",
           42000,
           6000000,
           22168359
          ],
          [
           "Sea of Love",
           "Crime",
           "R",
           39000,
           19000000,
           110879513
          ],
          [
           "K-9",
           "Action",
           "PG-13",
           32000,
           17000000,
           78247647
          ],
          [
           "Shocker",
           "Comedy",
           "R",
           15000,
           5000000,
           16554699
          ],
          [
           "Fletch Lives",
           "Comedy",
           "PG",
           20000,
           8000000,
           39450960
          ],
          [
           "Total Recall",
           "Action",
           "R",
           310000,
           65000000,
           261317921
          ],
          [
           "Die Hard 2",
           "Action",
           "R",
           344000,
           70000000,
           240031274
          ],
          [
           "Kindergarten Cop",
           "Action",
           "PG-13",
           140000,
           15000000,
           201957688
          ],
          [
           "Teenage Mutant Ninja Turtles",
           "Action",
           "PG",
           88000,
           13500000,
           201965915
          ],
          [
           "Edward Scissorhands",
           "Drama",
           "PG-13",
           456000,
           20000000,
           86024005
          ],
          [
           "The Hunt for Red October",
           "Action",
           "PG",
           186000,
           30000000,
           200512643
          ],
          [
           "Dick Tracy",
           "Action",
           "PG",
           59000,
           47000000,
           162738726
          ],
          [
           "Back to the Future Part III",
           "Adventure",
           "PG",
           416000,
           40000000,
           245077583
          ],
          [
           "Darkman",
           "Action",
           "R",
           60000,
           14000000,
           48878502
          ],
          [
           "Presumed Innocent",
           "Mystery",
           "R",
           39000,
           22000000,
           221303188
          ],
          [
           "Lionheart",
           "Action",
           "R",
           34000,
           6000000,
           24271196
          ],
          [
           "Problem Child",
           "Comedy",
           "PG",
           29000,
           10000000,
           72270891
          ],
          [
           "House Party",
           "Comedy",
           "R",
           14000,
           2500000,
           26385627
          ],
          [
           "Another 48 Hrs.",
           "Action",
           "R",
           40000,
           38000000,
           153518974
          ],
          [
           "Hard to Kill",
           "Action",
           "R",
           28000,
           10000000,
           47410827
          ],
          [
           "Bird on a Wire",
           "Action",
           "PG-13",
           42000,
           20000000,
           138697012
          ],
          [
           "Marked for Death",
           "Action",
           "R",
           21000,
           12000000,
           57968936
          ],
          [
           "Slumber Party Massacre III",
           "Comedy",
           "R",
           2500,
           350000,
           1242995
          ],
          [
           "Death Warrant",
           "Action",
           "R",
           18000,
           4000000,
           16853487
          ],
          [
           "Hardware",
           "Sci-Fi",
           "R",
           13000,
           1500000,
           5728953
          ],
          [
           "Tales from the Darkside: The Movie",
           "Comedy",
           "R",
           16000,
           3500000,
           16324573
          ],
          [
           "Metropolitan",
           "Comedy",
           "PG-13",
           10000,
           230000,
           2960492
          ],
          [
           "Spaced Invaders",
           "Adventure",
           "PG",
           3300,
           3000000,
           15369573
          ],
          [
           "Terminator 2: Judgment Day",
           "Action",
           "R",
           1000000,
           102000000,
           520881154
          ],
          [
           "Point Break",
           "Action",
           "R",
           166000,
           24000000,
           83531958
          ],
          [
           "The Silence of the Lambs",
           "Crime",
           "R",
           1300000,
           19000000,
           272742922
          ],
          [
           "Hook",
           "Adventure",
           "PG",
           240000,
           70000000,
           300854823
          ],
          [
           "Boyz n the Hood",
           "Crime",
           "R",
           130000,
           6500000,
           57529070
          ],
          [
           "Cape Fear",
           "Crime",
           "R",
           180000,
           35000000,
           182291969
          ],
          [
           "The Addams Family",
           "Comedy",
           "PG-13",
           140000,
           30000000,
           191502426
          ],
          [
           "Robin Hood: Prince of Thieves",
           "Action",
           "PG-13",
           182000,
           48000000,
           390493908
          ],
          [
           "Fried Green Tomatoes",
           "Drama",
           "PG-13",
           69000,
           11000000,
           119418501
          ],
          [
           "JFK",
           "Drama",
           "R",
           146000,
           40000000,
           205405498
          ],
          [
           "My Girl",
           "Comedy",
           "PG",
           75000,
           17000000,
           59489799
          ],
          [
           "Backdraft",
           "Action",
           "R",
           74000,
           40000000,
           152368585
          ],
          [
           "City Slickers",
           "Comedy",
           "PG-13",
           51000,
           27000000,
           179033791
          ],
          [
           "Sleeping with the Enemy",
           "Drama",
           "R",
           52000,
           19000000,
           174999005
          ],
          [
           "Hot Shots!",
           "Action",
           "PG-13",
           102000,
           26000000,
           181096164
          ],
          [
           "The Naked Gun 2½: The Smell of Fear",
           "Comedy",
           "PG-13",
           108000,
           23000000,
           86930411
          ],
          [
           "New Jack City",
           "Action",
           "R",
           33000,
           8000000,
           47624353
          ],
          [
           "The People Under the Stairs",
           "Comedy",
           "R",
           32000,
           6000000,
           31347154
          ],
          [
           "Dying Young",
           "Drama",
           "R",
           15000,
           18000000,
           82264675
          ],
          [
           "House Party 2",
           "Comedy",
           "R",
           6100,
           5000000,
           19438638
          ],
          [
           "Basic Instinct",
           "Drama",
           "R",
           186000,
           49000000,
           352927224
          ],
          [
           "Candyman",
           "Horror",
           "R",
           74000,
           6000000,
           25795897
          ],
          [
           "My Cousin Vinny",
           "Comedy",
           "R",
           112000,
           11000000,
           64088552
          ],
          [
           "Dracula",
           "Horror",
           "R",
           199000,
           40000000,
           215862692
          ],
          [
           "Unforgiven",
           "Drama",
           "R",
           385000,
           14400000,
           159157447
          ],
          [
           "A Few Good Men",
           "Drama",
           "R",
           242000,
           41000000,
           243240178
          ],
          [
           "A League of Their Own",
           "Comedy",
           "PG",
           97000,
           40000000,
           132440069
          ],
          [
           "Scent of a Woman",
           "Drama",
           "R",
           274000,
           31000000,
           134095253
          ],
          [
           "Batman Returns",
           "Action",
           "PG-13",
           280000,
           80000000,
           266892996
          ],
          [
           "The Mighty Ducks",
           "Comedy",
           "PG",
           62000,
           10000000,
           50752337
          ],
          [
           "Sister Act",
           "Comedy",
           "PG",
           91000,
           31000000,
           231605150
          ],
          [
           "Under Siege",
           "Action",
           "R",
           80000,
           35000000,
           156563139
          ],
          [
           "Wayne's World",
           "Comedy",
           "PG-13",
           148000,
           20000000,
           183097323
          ],
          [
           "A River Runs Through It",
           "Drama",
           "PG",
           55000,
           12000000,
           43440294
          ],
          [
           "Home Alone 2: Lost in New York",
           "Adventure",
           "PG",
           318000,
           28000000,
           358994850
          ],
          [
           "The Hand That Rocks the Cradle",
           "Drama",
           "R",
           40000,
           11700000,
           88036683
          ],
          [
           "Patriot Games",
           "Action",
           "R",
           106000,
           45000000,
           178051587
          ],
          [
           "Sneakers",
           "Comedy",
           "PG-13",
           54000,
           23000000,
           105232691
          ],
          [
           "Encino Man",
           "Comedy",
           "PG",
           38000,
           7000000,
           40693477
          ],
          [
           "Lethal Weapon 3",
           "Action",
           "R",
           160000,
           35000000,
           321731527
          ],
          [
           "HouseSitter",
           "Comedy",
           "PG",
           23000,
           26000000,
           94900635
          ],
          [
           "Juice",
           "Action",
           "R",
           25000,
           5000000,
           20146880
          ],
          [
           "3 Ninjas",
           "Action",
           "PG",
           21000,
           6500000,
           29000301
          ],
          [
           "Children of the Corn II: the Final Sacrifice",
           "Horror",
           "R",
           7900,
           900000,
           6980986
          ],
          [
           "Como agua para chocolate",
           "Drama",
           "R",
           17000,
           2000000,
           21744201
          ],
          [
           "Mo' Money",
           "Action",
           "R",
           7200,
           10000000,
           40227006
          ],
          [
           "Schindler's List",
           "Biography",
           "R",
           1200000,
           22000000,
           322161245
          ],
          [
           "The Fugitive",
           "Action",
           "PG-13",
           275000,
           44000000,
           368875760
          ],
          [
           "The Pelican Brief",
           "Crime",
           "PG-13",
           81000,
           45000000,
           195268056
          ],
          [
           "The Firm",
           "Drama",
           "R",
           124000,
           42000000,
           270248367
          ],
          [
           "Groundhog Day",
           "Comedy",
           "PG",
           589000,
           14600000,
           71074049
          ],
          [
           "Philadelphia",
           "Drama",
           "PG-13",
           229000,
           26000000,
           206678440
          ],
          [
           "Sleepless in Seattle",
           "Comedy",
           "PG",
           165000,
           21000000,
           227927165
          ],
          [
           "Cliffhanger",
           "Action",
           "R",
           122000,
           70000000,
           255000211
          ],
          [
           "The Piano",
           "Drama",
           "R",
           81000,
           7000000,
           40185556
          ],
          [
           "The Nightmare Before Christmas",
           "Animation",
           "PG",
           306000,
           18000000,
           91491247
          ],
          [
           "Rookie of the Year",
           "Comedy",
           "PG",
           26000,
           10000000,
           56500758
          ],
          [
           "In the Name of the Father",
           "Biography",
           "R",
           163000,
           13000000,
           65796862
          ],
          [
           "Indecent Proposal",
           "Drama",
           "R",
           66000,
           38000000,
           266614059
          ],
          [
           "In the Line of Fire",
           "Action",
           "R",
           96000,
           40000000,
           176997168
          ],
          [
           "Menace II Society",
           "Crime",
           "R",
           54000,
           3500000,
           27912072
          ],
          [
           "Free Willy",
           "Adventure",
           "PG",
           71000,
           20000000,
           153698625
          ],
          [
           "Hard Target",
           "Action",
           "R",
           46000,
           18000000,
           74189677
          ],
          [
           "Cool Runnings",
           "Adventure",
           "PG",
           96000,
           14000000,
           154856263
          ],
          [
           "Hot Shots! Part Deux",
           "Action",
           "PG-13",
           86000,
           25000000,
           133752825
          ],
          [
           "A Perfect World",
           "Crime",
           "PG-13",
           76000,
           30000000,
           135130999
          ],
          [
           "Leprechaun",
           "Comedy",
           "R",
           25000,
           900000,
           8556940
          ],
          [
           "The Good Son",
           "Drama",
           "R",
           37000,
           17000000,
           60613008
          ],
          [
           "Beethoven's 2nd",
           "Comedy",
           "PG",
           26000,
           15000000,
           118243066
          ],
          [
           "Dragon",
           "Action",
           "PG-13",
           29000,
           14000000,
           63513743
          ],
          [
           "The Adventures of Huck Finn",
           "Adventure",
           "PG",
           8000,
           6500000,
           24103594
          ],
          [
           "Made in America",
           "Comedy",
           "PG-13",
           16000,
           22000000,
           104942695
          ],
          [
           "The Wedding Banquet",
           "Comedy",
           "R",
           14000,
           1000000,
           6933459
          ],
          [
           "Forrest Gump",
           "Drama",
           "PG-13",
           1900000,
           55000000,
           678226133
          ],
          [
           "True Lies",
           "Action",
           "R",
           243000,
           115000000,
           378882411
          ],
          [
           "Speed",
           "Action",
           "R",
           339000,
           30000000,
           350448145
          ],
          [
           "Stargate",
           "Action",
           "PG-13",
           180000,
           55000000,
           196567262
          ],
          [
           "Dumb and Dumber",
           "Comedy",
           "PG-13",
           361000,
           17000000,
           247275374
          ],
          [
           "Legends of the Fall",
           "Drama",
           "R",
           154000,
           30000000,
           160638883
          ],
          [
           "Interview with the Vampire: the Vampire Chronicles",
           "Drama",
           "R",
           301000,
           60000000,
           223664608
          ],
          [
           "The Flintstones",
           "Comedy",
           "PG",
           77000,
           46000000,
           341631208
          ],
          [
           "Ace Ventura: Pet Detective",
           "Comedy",
           "PG-13",
           284000,
           15000000,
           107217396
          ],
          [
           "Clear and Present Danger",
           "Action",
           "PG-13",
           93000,
           62000000,
           215887717
          ],
          [
           "Star Trek: Generations",
           "Action",
           "PG",
           78000,
           35000000,
           118071125
          ],
          [
           "Disclosure",
           "Drama",
           "R",
           48000,
           55000000,
           214015089
          ],
          [
           "Timecop",
           "Action",
           "R",
           57000,
           27000000,
           101646581
          ],
          [
           "The Santa Clause",
           "Comedy",
           "PG",
           102000,
           22000000,
           190539357
          ],
          [
           "The Specialist",
           "Action",
           "R",
           63000,
           45000000,
           170362582
          ],
          [
           "Nell",
           "Drama",
           "PG-13",
           28000,
           24500000,
           106683817
          ],
          [
           "The Postman",
           "Biography",
           "PG",
           34000,
           3000000,
           21898920
          ],
          [
           "Above the Rim",
           "Crime",
           "R",
           15000,
           3500000,
           16192320
          ],
          [
           "Spanking the Monkey",
           "Comedy",
           "NC-17",
           6000,
           200000,
           1359736
          ],
          [
           "The Paper",
           "Comedy",
           "R",
           13000,
           6000000,
           48424341
          ],
          [
           "Clueless",
           "Comedy",
           "PG-13",
           193000,
           12000000,
           56631572
          ],
          [
           "Se7en",
           "Crime",
           "R",
           1500000,
           33000000,
           327333559
          ],
          [
           "Apollo 13",
           "Adventure",
           "PG",
           277000,
           52000000,
           355237933
          ],
          [
           "The Usual Suspects",
           "Crime",
           "R",
           1000000,
           6000000,
           23341568
          ],
          [
           "Jumanji",
           "Adventure",
           "PG",
           318000,
           65000000,
           262821940
          ],
          [
           "Batman Forever",
           "Action",
           "PG-13",
           239000,
           100000000,
           336567158
          ],
          [
           "Kids",
           "Drama",
           "NC-17",
           75000,
           1500000,
           7412216
          ],
          [
           "Toy Story",
           "Animation",
           "G",
           913000,
           30000000,
           394436586
          ],
          [
           "Desperado",
           "Action",
           "R",
           175000,
           7000000,
           25405445
          ],
          [
           "Die Hard with a Vengeance",
           "Action",
           "R",
           370000,
           90000000,
           366101666
          ],
          [
           "Mortal Kombat",
           "Action",
           "PG-13",
           112000,
           18000000,
           122195920
          ],
          [
           "12 Monkeys",
           "Mystery",
           "R",
           589000,
           29000001,
           168839459
          ],
          [
           "Leaving Las Vegas",
           "Drama",
           "R",
           117000,
           3600000,
           32029928
          ],
          [
           "Friday",
           "Comedy",
           "R",
           103000,
           3500000,
           28215918
          ],
          [
           "Sense and Sensibility",
           "Drama",
           "PG",
           106000,
           16000000,
           134582776
          ],
          [
           "Bad Boys",
           "Action",
           "R",
           247000,
           19000000,
           141407024
          ],
          [
           "Mighty Morphin Power Rangers: The Movie",
           "Action",
           "PG",
           26000,
           20000000,
           66433194
          ],
          [
           "GoldenEye",
           "Action",
           "PG-13",
           243000,
           60000000,
           352194034
          ],
          [
           "Outbreak",
           "Action",
           "R",
           123000,
           50000000,
           189859560
          ],
          [
           "Casper",
           "Comedy",
           "PG",
           125000,
           50000000,
           287928194
          ],
          [
           "Pocahontas",
           "Animation",
           "G",
           175000,
           55000000,
           346079773
          ],
          [
           "Dangerous Minds",
           "Biography",
           "R",
           50000,
           23000000,
           179519401
          ],
          [
           "While You Were Sleeping",
           "Comedy",
           "PG",
           95000,
           17000000,
           182057016
          ],
          [
           "Get Shorty",
           "Comedy",
           "R",
           78000,
           30250000,
           115101622
          ],
          [
           "Babe",
           "Comedy",
           "G",
           119000,
           30000000,
           254134910
          ],
          [
           "Dead Man Walking",
           "Crime",
           "R",
           90000,
           11000000,
           39363635
          ],
          [
           "The Brady Bunch Movie",
           "Comedy",
           "PG-13",
           21000,
           12000000,
           46576136
          ],
          [
           "The Bridges of Madison County",
           "Drama",
           "PG-13",
           76000,
           24000000,
           182016617
          ],
          [
           "Mr. Holland's Opus",
           "Drama",
           "PG",
           36000,
           23000000,
           106269971
          ],
          [
           "Ace Ventura: When Nature Calls",
           "Adventure",
           "PG-13",
           206000,
           30000000,
           212385533
          ],
          [
           "Waiting to Exhale",
           "Comedy",
           "R",
           10000,
           16000000,
           81452156
          ],
          [
           "Welcome to the Dollhouse",
           "Comedy",
           "R",
           33000,
           800000,
           4569019
          ],
          [
           "Rumble in the Bronx",
           "Action",
           "R",
           40000,
           7500000,
           32392047
          ],
          [
           "How to Make an American Quilt",
           "Comedy",
           "PG-13",
           11000,
           10000000,
           41200020
          ],
          [
           "The Net",
           "Action",
           "PG-13",
           62000,
           22000000,
           110627965
          ],
          [
           "The White Balloon",
           "Drama",
           "NC-17",
           6900,
           150000,
           924940
          ],
          [
           "The Incredibly True Adventure of Two Girls in Love",
           "Comedy",
           "R",
           4400,
           250000,
           2210408
          ],
          [
           "Independence Day",
           "Action",
           "PG-13",
           543000,
           75000000,
           817400891
          ],
          [
           "Romeo + Juliet",
           "Drama",
           "PG-13",
           216000,
           14500000,
           147554998
          ],
          [
           "Scream",
           "Horror",
           "R",
           295000,
           14000000,
           173046663
          ],
          [
           "Sleepers",
           "Crime",
           "R",
           202000,
           44000000,
           165615285
          ],
          [
           "Fargo",
           "Crime",
           "R",
           634000,
           7000000,
           60611975
          ],
          [
           "Mission: Impossible",
           "Action",
           "PG-13",
           398000,
           80000000,
           457696391
          ],
          [
           "Twister",
           "Action",
           "PG-13",
           183000,
           92000000,
           494471524
          ],
          [
           "Happy Gilmore",
           "Comedy",
           "PG-13",
           205000,
           12000000,
           41205099
          ],
          [
           "101 Dalmatians",
           "Adventure",
           "G",
           105000,
           75000000,
           320689294
          ],
          [
           "Jerry Maguire",
           "Comedy",
           "R",
           249000,
           50000000,
           273552592
          ],
          [
           "The Rock",
           "Action",
           "R",
           319000,
           75000000,
           335062621
          ],
          [
           "A Time to Kill",
           "Crime",
           "R",
           138000,
           40000000,
           152266007
          ],
          [
           "Primal Fear",
           "Crime",
           "R",
           196000,
           30000000,
           102616183
          ],
          [
           "The English Patient",
           "Drama",
           "R",
           182000,
           27000000,
           231976425
          ],
          [
           "The Birdcage",
           "Comedy",
           "R",
           83000,
           31000000,
           185260553
          ],
          [
           "The Hunchback of Notre Dame",
           "Animation",
           "G",
           146000,
           100000000,
           325338851
          ],
          [
           "Don't Be a Menace to South Central While Drinking Your Juice in the Hood",
           "Comedy",
           "R",
           50000,
           3800000,
           20949601
          ],
          [
           "The Nutty Professor",
           "Comedy",
           "PG-13",
           112000,
           54000000,
           273961019
          ],
          [
           "The First Wives Club",
           "Comedy",
           "PG",
           45000,
           26000000,
           181489203
          ],
          [
           "Set It Off",
           "Action",
           "R",
           15000,
           9000000,
           41590886
          ],
          [
           "Emma",
           "Comedy",
           "PG",
           37000,
           6000000,
           22231658
          ],
          [
           "Ransom",
           "Action",
           "R",
           121000,
           80000000,
           309492681
          ],
          [
           "Beavis and Butt-Head Do America",
           "Animation",
           "PG-13",
           53000,
           12000000,
           63118386
          ],
          [
           "Shine",
           "Biography",
           "PG-13",
           52000,
           5500000,
           35999081
          ],
          [
           "Phenomenon",
           "Drama",
           "PG",
           76000,
           32000000,
           152036382
          ],
          [
           "A Thin Line Between Love and Hate",
           "Comedy",
           "R",
           4600,
           8000000,
           35599803
          ],
          [
           "Titanic",
           "Drama",
           "PG-13",
           1100000,
           200000000,
           2201647264
          ],
          [
           "Austin Powers: International Man of Mystery",
           "Adventure",
           "PG-13",
           227000,
           16500000,
           67683989
          ],
          [
           "Jackie Brown",
           "Crime",
           "R",
           325000,
           12000000,
           39673807
          ],
          [
           "L.A. Confidential",
           "Crime",
           "R",
           544000,
           35000000,
           126216940
          ],
          [
           "Life Is Beautiful",
           "Comedy",
           "PG-13",
           642000,
           20000000,
           230098753
          ],
          [
           "Men in Black",
           "Action",
           "PG-13",
           529000,
           90000000,
           589390539
          ],
          [
           "Air Force One",
           "Action",
           "R",
           185000,
           85000000,
           315156409
          ],
          [
           "The Lost World: Jurassic Park",
           "Action",
           "PG-13",
           388000,
           73000000,
           618638999
          ],
          [
           "Scream 2",
           "Horror",
           "R",
           161000,
           24000000,
           172363301
          ],
          [
           "As Good as It Gets",
           "Comedy",
           "PG-13",
           282000,
           50000000,
           314178011
          ],
          [
           "I Know What You Did Last Summer",
           "Horror",
           "R",
           136000,
           17000000,
           125586134
          ],
          [
           "Liar Liar",
           "Comedy",
           "PG-13",
           289000,
           45000000,
           302710615
          ],
          [
           "Donnie Brasco",
           "Biography",
           "R",
           287000,
           35000000,
           124909762
          ],
          [
           "My Best Friend's Wedding",
           "Comedy",
           "PG-13",
           134000,
           38000000,
           299288605
          ],
          [
           "Soul Food",
           "Comedy",
           "R",
           7400,
           7500000,
           43700855
          ],
          [
           "Children of Heaven",
           "Drama",
           "PG",
           68000,
           180000,
           933933
          ],
          [
           "Bean",
           "Adventure",
           "PG-13",
           100000,
           18000000,
           251212670
          ],
          [
           "Wag the Dog",
           "Comedy",
           "R",
           80000,
           15000000,
           64256513
          ],
          [
           "Picture Perfect",
           "Comedy",
           "PG-13",
           19000,
           10000000,
           44332015
          ],
          [
           "Air Bud",
           "Comedy",
           "PG",
           17000,
           3000000,
           23144499
          ],
          [
           "The Apostle",
           "Drama",
           "PG-13",
           14000,
           5000000,
           19868354
          ],
          [
           "Ulee's Gold",
           "Drama",
           "R",
           6800,
           2700000,
           9161691
          ],
          [
           "Saving Private Ryan",
           "Drama",
           "R",
           1300000,
           70000000,
           482349603
          ],
          [
           "The Truman Show",
           "Comedy",
           "PG",
           972000,
           60000000,
           264118201
          ],
          [
           "Armageddon",
           "Action",
           "PG-13",
           403000,
           140000000,
           553709788
          ],
          [
           "The Wedding Singer",
           "Comedy",
           "PG-13",
           139000,
           18000000,
           123306987
          ],
          [
           "Rush Hour",
           "Action",
           "PG-13",
           247000,
           33000000,
           244721064
          ],
          [
           "Deep Impact",
           "Action",
           "PG-13",
           168000,
           75000000,
           349464664
          ],
          [
           "Mulan",
           "Animation",
           "G",
           265000,
           90000000,
           304320254
          ],
          [
           "You've Got Mail",
           "Comedy",
           "PG",
           200000,
           65000000,
           250821495
          ],
          [
           "Ever After: A Cinderella Story",
           "Comedy",
           "PG-13",
           71000,
           26000000,
           98005666
          ],
          [
           "Shakespeare in Love",
           "Comedy",
           "R",
           217000,
           25000000,
           289317794
          ],
          [
           "The Waterboy",
           "Comedy",
           "PG-13",
           153000,
           23000000,
           185991646
          ],
          [
           "The Man in the Iron Mask",
           "Action",
           "PG-13",
           160000,
           35000000,
           182968902
          ],
          [
           "Urban Legend",
           "Horror",
           "R",
           62000,
           14000000,
           72527595
          ],
          [
           "City of Angels",
           "Drama",
           "PG-13",
           116000,
           55000000,
           198685114
          ],
          [
           "Following",
           "Crime",
           "R",
           89000,
           6000,
           48482
          ],
          [
           "Doctor Dolittle",
           "Comedy",
           "PG-13",
           93000,
           71500000,
           294456605
          ],
          [
           "Pokémon: The First Movie - Mewtwo Strikes Back",
           "Animation",
           "G",
           41000,
           30000000,
           163644662
          ],
          [
           "The Rugrats Movie",
           "Animation",
           "G",
           18000,
           24000000,
           140894675
          ],
          [
           "The Players Club",
           "Comedy",
           "R",
           6400,
           4500000,
           23261485
          ],
          [
           "Smoke Signals",
           "Comedy",
           "PG-13",
           9900,
           2000000,
           6745362
          ],
          [
           "The Matrix",
           "Action",
           "R",
           1700000,
           63000000,
           466364845
          ],
          [
           "The Mummy",
           "Action",
           "PG-13",
           401000,
           80000000,
           415933406
          ],
          [
           "The Green Mile",
           "Crime",
           "R",
           1200000,
           60000000,
           286801374
          ],
          [
           "Star Wars: Episode I - The Phantom Menace",
           "Action",
           "PG",
           748000,
           115000000,
           1027082707
          ],
          [
           "Austin Powers: the Spy Who Shagged Me",
           "Action",
           "PG-13",
           221000,
           33000000,
           312016928
          ],
          [
           "Notting Hill",
           "Comedy",
           "PG-13",
           286000,
           42000000,
           363889678
          ],
          [
           "Cruel Intentions",
           "Drama",
           "R",
           183000,
           10500000,
           76347426
          ],
          [
           "Varsity Blues",
           "Comedy",
           "R",
           43000,
           16000000,
           54294169
          ],
          [
           "She's All That",
           "Comedy",
           "PG-13",
           86000,
           10000000,
           103166989
          ],
          [
           "Toy Story 2",
           "Animation",
           "G",
           540000,
           90000000,
           497375381
          ],
          [
           "Tarzan",
           "Animation",
           "G",
           210000,
           130000000,
           448191819
          ],
          [
           "Big Daddy",
           "Comedy",
           "PG-13",
           205000,
           34200000,
           234801895
          ],
          [
           "Deuce Bigalow: Male Gigolo",
           "Comedy",
           "R",
           72000,
           17000000,
           92938755
          ],
          [
           "Boys Don't Cry",
           "Biography",
           "R",
           94000,
           2000000,
           11540607
          ],
          [
           "Never Been Kissed",
           "Comedy",
           "PG-13",
           85000,
           25000000,
           84565230
          ],
          [
           "The Cider House Rules",
           "Drama",
           "PG-13",
           95000,
           24000000,
           88545092
          ],
          [
           "South Park: Bigger, Longer & Uncut",
           "Animation",
           "R",
           195000,
           21000000,
           83137603
          ],
          [
           "Ratcatcher",
           "Drama",
           "G",
           9200,
           30000,
           217244
          ],
          [
           "Runaway Bride",
           "Comedy",
           "PG",
           95000,
           70000000,
           309460292
          ],
          [
           "The Best Man",
           "Comedy",
           "R",
           9700,
           9000000,
           34573780
          ],
          [
           "The Wood",
           "Comedy",
           "R",
           8700,
           6000000,
           25059640
          ],
          [
           "Pokémon the Movie 2000",
           "Animation",
           "G",
           21000,
           30000000,
           133949270
          ],
          [
           "Trick",
           "Comedy",
           "R",
           8400,
           450000,
           2087228
          ],
          [
           "American Psycho",
           "Comedy",
           "R",
           514000,
           7000000,
           34266564
          ],
          [
           "Gladiator",
           "Action",
           "R",
           1400000,
           103000000,
           465380802
          ],
          [
           "Memento",
           "Mystery",
           "R",
           1200000,
           9000000,
           40047078
          ],
          [
           "Cast Away",
           "Adventure",
           "PG-13",
           542000,
           90000000,
           429632142
          ],
          [
           "Scary Movie",
           "Comedy",
           "R",
           238000,
           19000000,
           278019771
          ],
          [
           "X-Men",
           "Action",
           "PG-13",
           582000,
           75000000,
           296339528
          ],
          [
           "Erin Brockovich",
           "Biography",
           "R",
           182000,
           52000000,
           256271286
          ],
          [
           "Unbreakable",
           "Drama",
           "PG-13",
           396000,
           75000000,
           248118121
          ],
          [
           "Road Trip",
           "Comedy",
           "R",
           161000,
           16000000,
           119754278
          ],
          [
           "Bring It on",
           "Comedy",
           "PG-13",
           90000,
           11000000,
           90449929
          ],
          [
           "Remember the Titans",
           "Biography",
           "PG",
           202000,
           30000000,
           136771683
          ],
          [
           "Mission: Impossible II",
           "Action",
           "PG-13",
           322000,
           125000000,
           546388108
          ],
          [
           "Chicken Run",
           "Animation",
           "G",
           181000,
           45000000,
           224834564
          ],
          [
           "Final Destination",
           "Horror",
           "R",
           236000,
           23000000,
           112880294
          ],
          [
           "Traffic",
           "Crime",
           "R",
           199000,
           48000000,
           207515725
          ],
          [
           "Crouching Tiger, Hidden Dragon",
           "Action",
           "PG-13",
           258000,
           17000000,
           213525736
          ],
          [
           "Dude, Where's My Car?",
           "Comedy",
           "PG-13",
           136000,
           13000000,
           73180723
          ],
          [
           "Meet the Parents",
           "Comedy",
           "PG-13",
           317000,
           55000000,
           330444045
          ],
          [
           "Miss Congeniality",
           "Action",
           "PG-13",
           194000,
           45000000,
           212742720
          ],
          [
           "Scream 3",
           "Horror",
           "R",
           126000,
           40000000,
           161834276
          ],
          [
           "Chocolat",
           "Drama",
           "PG-13",
           181000,
           25000000,
           152699976
          ],
          [
           "Amores Perros",
           "Drama",
           "R",
           228000,
           2000000,
           20908467
          ],
          [
           "What Women Want",
           "Comedy",
           "PG-13",
           197000,
           70000000,
           374111707
          ],
          [
           "The Gift",
           "Drama",
           "R",
           65000,
           10000000,
           44567606
          ],
          [
           "Next Friday",
           "Comedy",
           "R",
           38000,
           11000000,
           59827328
          ],
          [
           "Boiler Room",
           "Crime",
           "R",
           51000,
           7000000,
           28780255
          ],
          [
           "Snow Day",
           "Adventure",
           "PG",
           12000,
           13000000,
           62464731
          ],
          [
           "Romeo Must Die",
           "Action",
           "R",
           68000,
           25000000,
           91036760
          ],
          [
           "Big Momma's House",
           "Action",
           "PG-13",
           82000,
           30000000,
           173959438
          ],
          [
           "You Can Count on Me",
           "Drama",
           "R",
           29000,
           1200000,
           11242521
          ],
          [
           "The Crimson Rivers",
           "Crime",
           "R",
           59000,
           14000000,
           60103680
          ],
          [
           "Chuck & Buck",
           "Comedy",
           "R",
           5300,
           250000,
           1182065
          ],
          [
           "Nine Queens",
           "Crime",
           "R",
           51000,
           1500000,
           12413888
          ],
          [
           "My Dog Skip",
           "Comedy",
           "PG",
           20000,
           6000000,
           35547761
          ],
          [
           "Rugrats in Paris",
           "Animation",
           "G",
           12000,
           30000000,
           103291131
          ],
          [
           "Digimon: The Movie",
           "Animation",
           "PG",
           7000,
           5000000,
           16643191
          ],
          [
           "Harry Potter and the Sorcerer's Stone",
           "Adventure",
           "PG",
           685000,
           125000000,
           1006968171
          ],
          [
           "The Fast and the Furious",
           "Action",
           "PG-13",
           362000,
           38000000,
           207305509
          ],
          [
           "The Lord of the Rings: The Fellowship of the Ring",
           "Action",
           "PG-13",
           1700000,
           93000000,
           897690072
          ],
          [
           "Legally Blonde",
           "Comedy",
           "PG-13",
           195000,
           18000000,
           141774679
          ],
          [
           "Monsters, Inc.",
           "Animation",
           "G",
           838000,
           115000000,
           579707738
          ],
          [
           "Not Another Teen Movie",
           "Comedy",
           "R",
           100000,
           15000000,
           66468985
          ],
          [
           "Ocean's Eleven",
           "Crime",
           "PG-13",
           531000,
           85000000,
           450717150
          ],
          [
           "Shrek",
           "Animation",
           "PG",
           630000,
           60000000,
           487853320
          ],
          [
           "A Beautiful Mind",
           "Biography",
           "PG-13",
           871000,
           58000000,
           316791257
          ],
          [
           "The Mummy Returns",
           "Action",
           "PG-13",
           307000,
           98000000,
           443280904
          ],
          [
           "The Royal Tenenbaums",
           "Comedy",
           "R",
           273000,
           21000000,
           71444482
          ],
          [
           "Super Troopers",
           "Comedy",
           "R",
           98000,
           3000000,
           23182223
          ],
          [
           "Hannibal",
           "Crime",
           "R",
           261000,
           87000000,
           351692268
          ],
          [
           "The Princess Diaries",
           "Comedy",
           "G",
           133000,
           26000000,
           165335153
          ],
          [
           "Moulin Rouge!",
           "Drama",
           "PG-13",
           271000,
           50000000,
           184935320
          ],
          [
           "Planet of the Apes",
           "Action",
           "PG-13",
           213000,
           100000000,
           362211740
          ],
          [
           "The Others",
           "Horror",
           "PG-13",
           346000,
           17000000,
           209947037
          ],
          [
           "Shallow Hal",
           "Comedy",
           "PG-13",
           129000,
           40000000,
           141069860
          ],
          [
           "Jurassic Park III",
           "Action",
           "PG-13",
           301000,
           93000000,
           368780809
          ],
          [
           "Gosford Park",
           "Comedy",
           "R",
           82000,
           19800000,
           87754044
          ],
          [
           "Jeepers Creepers",
           "Horror",
           "R",
           115000,
           10000000,
           59371303
          ],
          [
           "Spy Kids",
           "Action",
           "PG",
           111000,
           35000000,
           147934180
          ],
          [
           "Bridget Jones's Diary",
           "Comedy",
           "R",
           232000,
           25000000,
           281995610
          ],
          [
           "I Am Sam",
           "Drama",
           "PG-13",
           145000,
           22000000,
           97818139
          ],
          [
           "American Pie 2",
           "Comedy",
           "R",
           244000,
           30000000,
           287553595
          ],
          [
           "Rush Hour 2",
           "Action",
           "PG-13",
           205000,
           90000000,
           347325802
          ],
          [
           "Save the Last Dance",
           "Drama",
           "PG-13",
           59000,
           13000000,
           131706809
          ],
          [
           "Shaolin Soccer",
           "Action",
           "PG",
           76000,
           10000000,
           42776760
          ],
          [
           "Jimmy Neutron: Boy Genius",
           "Animation",
           "G",
           32000,
           30000000,
           102992536
          ],
          [
           "Cats & Dogs",
           "Action",
           "PG",
           57000,
           60000000,
           200687492
          ],
          [
           "O",
           "Drama",
           "R",
           19000,
           5000000,
           19260537
          ],
          [
           "The Deep End",
           "Crime",
           "R",
           11000,
           3000000,
           10031529
          ],
          [
           "Kissing Jessica Stein",
           "Comedy",
           "R",
           16000,
           1000000,
           10013424
          ],
          [
           "Tape",
           "Drama",
           "R",
           19000,
           100000,
           515900
          ],
          [
           "Spider-Man",
           "Action",
           "PG-13",
           706000,
           139000000,
           825025036
          ],
          [
           "8 Mile",
           "Drama",
           "R",
           259000,
           41000000,
           242875078
          ],
          [
           "The Pianist",
           "Biography",
           "R",
           756000,
           35000000,
           120072577
          ],
          [
           "Harry Potter and the Chamber of Secrets",
           "Adventure",
           "PG",
           572000,
           100000000,
           879602366
          ],
          [
           "The Lord of the Rings: The Two Towers",
           "Action",
           "PG-13",
           1500000,
           94000000,
           947495095
          ],
          [
           "Catch Me If You Can",
           "Biography",
           "PG-13",
           866000,
           52000000,
           352114312
          ],
          [
           "28 Days Later...",
           "Drama",
           "R",
           386000,
           8000000,
           85720385
          ],
          [
           "The Ring",
           "Horror",
           "PG-13",
           328000,
           48000000,
           249348933
          ],
          [
           "Signs",
           "Drama",
           "PG-13",
           344000,
           72000000,
           408247917
          ],
          [
           "The Bourne Identity",
           "Action",
           "PG-13",
           519000,
           60000000,
           214034224
          ],
          [
           "Star Wars: Episode II - Attack of the Clones",
           "Action",
           "PG",
           658000,
           115000000,
           653779970
          ],
          [
           "Scooby-Doo",
           "Adventure",
           "PG",
           103000,
           84000000,
           275650703
          ],
          [
           "Minority Report",
           "Action",
           "PG-13",
           519000,
           102000000,
           358372926
          ],
          [
           "Austin Powers in Goldmember",
           "Action",
           "PG-13",
           199000,
           63000000,
           296938801
          ],
          [
           "Sweet Home Alabama",
           "Comedy",
           "PG-13",
           105000,
           30000000,
           180622424
          ],
          [
           "Ice Age",
           "Animation",
           "PG",
           452000,
           59000000,
           383257136
          ],
          [
           "Panic Room",
           "Crime",
           "R",
           266000,
           48000000,
           197079546
          ],
          [
           "Lilo & Stitch",
           "Animation",
           "PG",
           174000,
           80000000,
           273144151
          ],
          [
           "Chicago",
           "Comedy",
           "PG-13",
           220000,
           45000000,
           306776732
          ],
          [
           "A Walk to Remember",
           "Drama",
           "PG",
           203000,
           11800000,
           47494916
          ],
          [
           "xXx",
           "Action",
           "PG-13",
           175000,
           70000000,
           277448382
          ],
          [
           "Ghost Ship",
           "Horror",
           "R",
           96000,
           20000000,
           68349884
          ],
          [
           "Van Wilder",
           "Comedy",
           "R",
           105000,
           5000000,
           38275483
          ],
          [
           "Frida",
           "Biography",
           "R",
           83000,
           12000000,
           56298474
          ],
          [
           "Phone Booth",
           "Crime",
           "R",
           255000,
           13000000,
           97837138
          ],
          [
           "About a Boy",
           "Comedy",
           "PG-13",
           176000,
           30000000,
           130549455
          ],
          [
           "Hero",
           "Action",
           "PG-13",
           176000,
           31000000,
           177395557
          ],
          [
           "The Hours",
           "Drama",
           "PG-13",
           127000,
           25000000,
           108846072
          ],
          [
           "40 Days and 40 Nights",
           "Comedy",
           "R",
           72000,
           17000000,
           95146283
          ],
          [
           "One Hour Photo",
           "Drama",
           "R",
           117000,
           12000000,
           52223306
          ],
          [
           "Mr. Deeds",
           "Comedy",
           "PG-13",
           138000,
           50000000,
           171269535
          ],
          [
           "Crossroads",
           "Comedy",
           "PG-13",
           39000,
           12000000,
           61141030
          ],
          [
           "25th Hour",
           "Drama",
           "R",
           172000,
           5000000,
           23932055
          ],
          [
           "Two Weeks Notice",
           "Comedy",
           "PG-13",
           111000,
           60000000,
           199043471
          ],
          [
           "Big Fat Liar",
           "Adventure",
           "PG",
           36000,
           15000000,
           52970014
          ],
          [
           "About Schmidt",
           "Comedy",
           "R",
           124000,
           30000000,
           105834556
          ],
          [
           "Friday After Next",
           "Comedy",
           "R",
           26000,
           10000000,
           33526835
          ],
          [
           "The Rookie",
           "Drama",
           "G",
           33000,
           22000000,
           80693537
          ],
          [
           "Swimfan",
           "Drama",
           "PG-13",
           19000,
           10000000,
           34411240
          ],
          [
           "Barbershop",
           "Comedy",
           "PG-13",
           30000,
           12000000,
           77063924
          ],
          [
           "Whale Rider",
           "Drama",
           "PG-13",
           40000,
           3500000,
           41062976
          ],
          [
           "Snow Dogs",
           "Adventure",
           "PG",
           26000,
           33000000,
           115035090
          ],
          [
           "Peter Pan 2: Return to Never Land",
           "Animation",
           "G",
           19000,
           20000000,
           115121981
          ],
          [
           "The Banger Sisters",
           "Comedy",
           "R",
           15000,
           10000000,
           38068353
          ],
          [
           "Brown Sugar",
           "Comedy",
           "PG-13",
           8700,
           8000000,
           28316451
          ],
          [
           "Kill Bill: Vol. 1",
           "Action",
           "R",
           1000000,
           30000000,
           180906076
          ],
          [
           "Pirates of the Caribbean: the Curse of the Black Pearl",
           "Action",
           "PG-13",
           1000000,
           140000000,
           654264015
          ],
          [
           "The Lord of the Rings: The Return of the King",
           "Action",
           "PG-13",
           1700000,
           94000000,
           1146030912
          ],
          [
           "Old School",
           "Comedy",
           "R",
           219000,
           24000000,
           87135520
          ],
          [
           "Mystic River",
           "Crime",
           "R",
           430000,
           25000000,
           156595191
          ],
          [
           "Love Actually",
           "Comedy",
           "R",
           444000,
           40000000,
           245203167
          ],
          [
           "Underworld",
           "Action",
           "R",
           258000,
           22000000,
           95708457
          ],
          [
           "Oldboy",
           "Action",
           "R",
           532000,
           3000000,
           15189934
          ],
          [
           "The Matrix Reloaded",
           "Action",
           "R",
           529000,
           150000000,
           741847937
          ],
          [
           "Finding Nemo",
           "Animation",
           "G",
           972000,
           94000000,
           940352645
          ],
          [
           "School of Rock",
           "Comedy",
           "PG-13",
           283000,
           35000000,
           131095990
          ],
          [
           "Thirteen",
           "Drama",
           "R",
           81000,
           2000000,
           10128960
          ],
          [
           "Monster",
           "Biography",
           "R",
           140000,
           8000000,
           58469210
          ],
          [
           "The Texas Chainsaw Massacre",
           "Crime",
           "R",
           133000,
           9500000,
           107363905
          ],
          [
           "Holes",
           "Adventure",
           "PG",
           81000,
           20000000,
           71406573
          ],
          [
           "X2: X-Men United",
           "Action",
           "PG-13",
           521000,
           110000000,
           407711549
          ],
          [
           "Once Upon a Time in Mexico",
           "Action",
           "R",
           156000,
           29000000,
           98769390
          ],
          [
           "Cheaper by the Dozen",
           "Comedy",
           "PG",
           96000,
           40000000,
           190538630
          ],
          [
           "Scary Movie 3",
           "Comedy",
           "PG-13",
           140000,
           48000000,
           220673217
          ],
          [
           "How to Lose a Guy in 10 Days",
           "Comedy",
           "PG-13",
           218000,
           50000000,
           177502387
          ],
          [
           "Freddy vs. Jason",
           "Action",
           "R",
           113000,
           30000000,
           116632628
          ],
          [
           "Bruce Almighty",
           "Comedy",
           "PG-13",
           380000,
           81000000,
           484592874
          ],
          [
           "Elf",
           "Adventure",
           "PG",
           235000,
           33000000,
           223853736
          ],
          [
           "Freaky Friday",
           "Comedy",
           "PG",
           129000,
           20000000,
           160846332
          ],
          [
           "Something's Gotta Give",
           "Comedy",
           "PG-13",
           115000,
           80000000,
           265328738
          ],
          [
           "Final Destination 2",
           "Horror",
           "R",
           156000,
           26000000,
           90941129
          ],
          [
           "Johnny English",
           "Action",
           "PG",
           152000,
           40000000,
           160466000
          ],
          [
           "Under the Tuscan Sun",
           "Comedy",
           "PG-13",
           49000,
           18000000,
           58878723
          ],
          [
           "American Wedding",
           "Comedy",
           "R",
           198000,
           55000000,
           232722935
          ],
          [
           "Just Married",
           "Comedy",
           "PG-13",
           69000,
           18000000,
           101564935
          ],
          [
           "Elephant",
           "Crime",
           "R",
           88000,
           3000000,
           10012022
          ],
          [
           "Darkness Falls",
           "Fantasy",
           "PG-13",
           31000,
           11000000,
           47488536
          ],
          [
           "Spy Kids 3-D: Game Over",
           "Action",
           "PG",
           57000,
           38000000,
           197101678
          ],
          [
           "Jeepers Creepers 2",
           "Horror",
           "R",
           60000,
           17000000,
           63102666
          ],
          [
           "Honey",
           "Drama",
           "PG-13",
           44000,
           18000000,
           62228395
          ],
          [
           "Gothika",
           "Horror",
           "R",
           108000,
           40000000,
           141591324
          ],
          [
           "Bad Santa",
           "Comedy",
           "R",
           137000,
           23000000,
           76490720
          ],
          [
           "The Lizzie McGuire Movie",
           "Adventure",
           "PG",
           37000,
           17000000,
           55534455
          ],
          [
           "The Cooler",
           "Drama",
           "R",
           33000,
           3200000,
           10464788
          ],
          [
           "Calendar Girls",
           "Comedy",
           "PG-13",
           24000,
           10000000,
           93400759
          ],
          [
           "Bringing Down the House",
           "Comedy",
           "PG-13",
           35000,
           33000000,
           164729679
          ],
          [
           "The Jungle Book 2",
           "Animation",
           "G",
           15000,
           20000000,
           186303759
          ],
          [
           "Pieces of April",
           "Comedy",
           "PG-13",
           20000,
           300000,
           3282321
          ],
          [
           "Dodgeball: A True Underdog Story",
           "Comedy",
           "PG-13",
           235000,
           20000000,
           168423227
          ],
          [
           "Mean Girls",
           "Comedy",
           "PG-13",
           347000,
           17000000,
           130126277
          ],
          [
           "Harry Potter and the Prisoner of Azkaban",
           "Adventure",
           "PG",
           570000,
           130000000,
           797361618
          ],
          [
           "Eternal Sunshine of the Spotless Mind",
           "Drama",
           "R",
           935000,
           20000000,
           74036715
          ],
          [
           "Kill Bill: Vol. 2",
           "Action",
           "R",
           702000,
           30000000,
           154118820
          ],
          [
           "The Notebook",
           "Drama",
           "PG-13",
           534000,
           29000000,
           117815157
          ],
          [
           "The Terminal",
           "Comedy",
           "PG-13",
           421000,
           60000000,
           219100084
          ],
          [
           "The Incredibles",
           "Animation",
           "PG",
           673000,
           92000000,
           631607053
          ],
          [
           "Collateral",
           "Crime",
           "R",
           373000,
           65000000,
           220239925
          ],
          [
           "Spider-Man 2",
           "Action",
           "PG-13",
           559000,
           200000000,
           788976453
          ],
          [
           "Howl's Moving Castle",
           "Animation",
           "PG",
           350000,
           24000000,
           236214446
          ],
          [
           "Million Dollar Baby",
           "Drama",
           "PG-13",
           650000,
           30000000,
           216763646
          ],
          [
           "The Village",
           "Drama",
           "PG-13",
           247000,
           60000000,
           256697520
          ],
          [
           "The Butterfly Effect",
           "Drama",
           "R",
           460000,
           13000000,
           96822421
          ],
          [
           "The Day After Tomorrow",
           "Action",
           "PG-13",
           424000,
           125000000,
           552639571
          ],
          [
           "Shrek 2",
           "Animation",
           "PG",
           431000,
           150000000,
           928760770
          ],
          [
           "The Bourne Supremacy",
           "Action",
           "PG-13",
           443000,
           75000000,
           290835269
          ],
          [
           "Dawn of the Dead",
           "Action",
           "R",
           243000,
           26000000,
           102278712
          ],
          [
           "Anchorman: The Legend of Ron Burgundy",
           "Comedy",
           "PG-13",
           337000,
           26000000,
           90709367
          ],
          [
           "Closer",
           "Drama",
           "R",
           207000,
           27000000,
           115505027
          ],
          [
           "National Treasure",
           "Action",
           "PG",
           311000,
           100000000,
           347512318
          ],
          [
           "Ocean's Twelve",
           "Crime",
           "PG-13",
           367000,
           110000000,
           362744280
          ],
          [
           "Meet the Fockers",
           "Comedy",
           "PG-13",
           257000,
           80000000,
           522657936
          ],
          [
           "Sideways",
           "Comedy",
           "R",
           183000,
           16000000,
           109706931
          ],
          [
           "Shark Tale",
           "Animation",
           "PG",
           171000,
           75000000,
           374583879
          ],
          [
           "Before Sunset",
           "Drama",
           "R",
           244000,
           2700000,
           15936507
          ],
          [
           "A Cinderella Story",
           "Comedy",
           "PG",
           83000,
           19000000,
           70067909
          ],
          [
           "Along Came Polly",
           "Comedy",
           "PG-13",
           129000,
           42000000,
           178311729
          ],
          [
           "The SpongeBob SquarePants Movie",
           "Animation",
           "PG",
           82000,
           30000000,
           141067127
          ],
          [
           "Kung Fu Hustle",
           "Action",
           "R",
           130000,
           20000000,
           104882445
          ],
          [
           "Garden State",
           "Comedy",
           "R",
           209000,
           2500000,
           35825316
          ],
          [
           "The Princess Diaries 2: Royal Engagement",
           "Comedy",
           "G",
           76000,
           40000000,
           134734481
          ],
          [
           "Bride & Prejudice",
           "Comedy",
           "PG-13",
           20000,
           7000000,
           24716440
          ],
          [
           "Finding Neverland",
           "Biography",
           "PG",
           201000,
           25000000,
           116650613
          ],
          [
           "Without a Paddle",
           "Adventure",
           "PG-13",
           45000,
           19000000,
           73029190
          ],
          [
           "Anacondas: The Hunt for the Blood Orchid",
           "Action",
           "PG-13",
           30000,
           20000000,
           70992898
          ],
          [
           "Shall We Dance",
           "Comedy",
           "PG-13",
           45000,
           50000000,
           170128460
          ],
          [
           "Garfield",
           "Animation",
           "PG",
           81000,
           50000000,
           203172417
          ],
          [
           "Bridget Jones: The Edge of Reason",
           "Comedy",
           "R",
           109000,
           40000000,
           265126918
          ],
          [
           "Bad Education",
           "Crime",
           "NC-17",
           57000,
           5000000,
           40423279
          ],
          [
           "3-Iron",
           "Crime",
           "R",
           52000,
           1000000,
           3403957
          ],
          [
           "Night Watch",
           "Action",
           "R",
           53000,
           4200000,
           50336279
          ],
          [
           "You Got Served",
           "Drama",
           "PG-13",
           26000,
           8000000,
           50576805
          ],
          [
           "Maria Full of Grace",
           "Crime",
           "R",
           34000,
           3000000,
           12594630
          ],
          [
           "Tae Guk Gi: The Brotherhood of War",
           "Action",
           "R",
           38000,
           12800000,
           76287982
          ],
          [
           "Harry Potter and the Goblet of Fire",
           "Adventure",
           "PG-13",
           566000,
           150000000,
           896678241
          ],
          [
           "The 40-Year-Old Virgin",
           "Comedy",
           "R",
           407000,
           26000000,
           177378645
          ],
          [
           "Pride & Prejudice",
           "Drama",
           "PG",
           269000,
           28000000,
           121616555
          ],
          [
           "Brokeback Mountain",
           "Drama",
           "R",
           333000,
           14000000,
           178062759
          ],
          [
           "Sin City",
           "Crime",
           "R",
           745000,
           40000000,
           158733820
          ],
          [
           "The Chronicles of Narnia: The Lion, the Witch and the Wardrobe",
           "Adventure",
           "PG",
           375000,
           180000000,
           745013115
          ],
          [
           "Wedding Crashers",
           "Comedy",
           "R",
           339000,
           40000000,
           288467645
          ],
          [
           "War of the Worlds",
           "Adventure",
           "PG-13",
           424000,
           132000000,
           603873119
          ],
          [
           "Star Wars: Episode III - Revenge of the Sith",
           "Action",
           "PG-13",
           729000,
           113000000,
           868390560
          ],
          [
           "Fantastic Four",
           "Action",
           "PG-13",
           316000,
           100000000,
           333535934
          ],
          [
           "Mr. & Mrs. Smith",
           "Action",
           "PG-13",
           461000,
           110000000,
           487287646
          ],
          [
           "Waiting...",
           "Comedy",
           "R",
           93000,
           3000000,
           18637690
          ],
          [
           "Match Point",
           "Drama",
           "R",
           209000,
           15000000,
           85638656
          ],
          [
           "Madagascar",
           "Animation",
           "PG",
           376000,
           75000000,
           542063846
          ],
          [
           "Hard Candy",
           "Drama",
           "R",
           156000,
           950000,
           7022209
          ],
          [
           "Red Eye",
           "Thriller",
           "PG-13",
           115000,
           26000000,
           96258201
          ],
          [
           "Walk the Line",
           "Biography",
           "PG-13",
           239000,
           28000000,
           186797986
          ],
          [
           "The Constant Gardener",
           "Drama",
           "R",
           135000,
           25000000,
           82468097
          ],
          [
           "The Pacifier",
           "Action",
           "PG",
           90000,
           56000000,
           198636868
          ],
          [
           "Hitch",
           "Comedy",
           "PG-13",
           301000,
           70000000,
           371594210
          ],
          [
           "Robots",
           "Animation",
           "PG",
           137000,
           75000000,
           262511490
          ],
          [
           "Flightplan",
           "Drama",
           "PG-13",
           155000,
           55000000,
           223387299
          ],
          [
           "The Amityville Horror",
           "Horror",
           "R",
           107000,
           19000000,
           107516369
          ],
          [
           "Nanny McPhee",
           "Comedy",
           "PG",
           70000,
           25000000,
           123276807
          ],
          [
           "Brick",
           "Action",
           "R",
           103000,
           475000,
           3947579
          ],
          [
           "The Exorcism of Emily Rose",
           "Drama",
           "PG-13",
           122000,
           19000000,
           145166804
          ],
          [
           "Broken Flowers",
           "Comedy",
           "R",
           100000,
           10000000,
           47329961
          ],
          [
           "The Family Stone",
           "Comedy",
           "PG-13",
           63000,
           18000000,
           92884429
          ],
          [
           "Capote",
           "Biography",
           "R",
           128000,
           7000000,
           49327405
          ],
          [
           "The Squid and the Whale",
           "Comedy",
           "R",
           80000,
           1500000,
           11098131
          ],
          [
           "Monster-in-Law",
           "Comedy",
           "PG-13",
           58000,
           43000000,
           155457327
          ],
          [
           "The Ring Two",
           "Horror",
           "PG-13",
           93000,
           50000000,
           163995949
          ],
          [
           "Diary of a Mad Black Woman",
           "Comedy",
           "PG-13",
           14000,
           5500000,
           50652203
          ],
          [
           "Wallace & Gromit: The Curse of the Were-Rabbit",
           "Animation",
           "G",
           128000,
           30000000,
           194137091
          ],
          [
           "Thank You for Smoking",
           "Comedy",
           "R",
           215000,
           6500000,
           39323027
          ],
          [
           "Hide and Seek",
           "Drama",
           "R",
           83000,
           30000000,
           127369981
          ],
          [
           "Hoodwinked",
           "Animation",
           "PG",
           58000,
           30000000,
           110013167
          ],
          [
           "Good Night, and Good Luck.",
           "Biography",
           "PG",
           95000,
           7000000,
           54641191
          ],
          [
           "Hustle & Flow",
           "Crime",
           "R",
           39000,
           2800000,
           23563727
          ],
          [
           "White Noise",
           "Drama",
           "PG-13",
           48000,
           10000000,
           91196419
          ],
          [
           "Boogeyman",
           "Drama",
           "PG-13",
           30000,
           20000000,
           67192859
          ],
          [
           "Me and You and Everyone We Know",
           "Comedy",
           "R",
           36000,
           800000,
           8012838
          ],
          [
           "Junebug",
           "Comedy",
           "R",
           22000,
           1000000,
           3399228
          ],
          [
           "Cars",
           "Animation",
           "G",
           381000,
           120000000,
           461991867
          ],
          [
           "300",
           "Action",
           "R",
           750000,
           65000000,
           456068181
          ],
          [
           "The Devil Wears Prada",
           "Comedy",
           "PG-13",
           385000,
           35000000,
           326706115
          ],
          [
           "Casino Royale",
           "Action",
           "PG-13",
           594000,
           150000000,
           616502912
          ],
          [
           "Pan's Labyrinth",
           "Drama",
           "R",
           631000,
           19000000,
           83850267
          ],
          [
           "Pirates of the Caribbean: Dead Man's Chest",
           "Action",
           "PG-13",
           668000,
           225000000,
           1066179747
          ],
          [
           "The Da Vinci Code",
           "Mystery",
           "PG-13",
           410000,
           125000000,
           760006945
          ],
          [
           "The Pursuit of Happyness",
           "Biography",
           "PG-13",
           465000,
           55000000,
           307127625
          ],
          [
           "Little Miss Sunshine",
           "Comedy",
           "R",
           450000,
           8000000,
           101058954
          ],
          [
           "The Last King of Scotland",
           "Biography",
           "R",
           179000,
           6000000,
           48618191
          ],
          [
           "Night at the Museum",
           "Adventure",
           "PG",
           323000,
           110000000,
           574481229
          ],
          [
           "Inside Man",
           "Crime",
           "R",
           350000,
           45000000,
           186003591
          ],
          [
           "The Hills Have Eyes",
           "Horror",
           "R",
           162000,
           15000000,
           70009308
          ],
          [
           "Smokin' Aces",
           "Action",
           "R",
           140000,
           17000000,
           57232879
          ],
          [
           "Step Up",
           "Crime",
           "PG-13",
           113000,
           12000000,
           114197742
          ],
          [
           "Borat: Cultural Learnings of America for Make Benefit Glorious Nation of Kazakhstan",
           "Comedy",
           "R",
           387000,
           18000000,
           262552893
          ],
          [
           "Crank",
           "Action",
           "R",
           239000,
           12000000,
           42931041
          ],
          [
           "The Illusionist",
           "Drama",
           "PG-13",
           360000,
           16500000,
           87892388
          ],
          [
           "Over the Hedge",
           "Animation",
           "PG",
           164000,
           80000000,
           339795890
          ],
          [
           "Final Destination 3",
           "Horror",
           "R",
           133000,
           25000000,
           118890272
          ],
          [
           "Scary Movie 4",
           "Comedy",
           "PG-13",
           116000,
           45000000,
           178262620
          ],
          [
           "John Tucker Must Die",
           "Comedy",
           "PG-13",
           81000,
           18000000,
           68844775
          ],
          [
           "Rocky Balboa",
           "Action",
           "PG",
           208000,
           24000000,
           155929020
          ],
          [
           "Babel",
           "Drama",
           "R",
           293000,
           25000000,
           135330182
          ],
          [
           "Happy Feet",
           "Animation",
           "PG",
           174000,
           100000000,
           384336108
          ],
          [
           "When a Stranger Calls",
           "Horror",
           "PG-13",
           44000,
           15000000,
           67062123
          ],
          [
           "The Break-Up",
           "Comedy",
           "PG-13",
           128000,
           52000000,
           205668210
          ],
          [
           "United 93",
           "Action",
           "R",
           100000,
           15000000,
           76700659
          ],
          [
           "Letters from Iwo Jima",
           "Action",
           "R",
           156000,
           19000000,
           68673228
          ],
          [
           "Clerks II",
           "Comedy",
           "R",
           131000,
           5000000,
           26986174
          ],
          [
           "The Omen",
           "Action",
           "R",
           57000,
           25000000,
           119974972
          ],
          [
           "Ice Age: the Meltdown",
           "Animation",
           "PG",
           262000,
           80000000,
           667094506
          ],
          [
           "Stay Alive",
           "Fantasy",
           "PG-13",
           31000,
           7000000,
           27298695
          ],
          [
           "Notes on a Scandal",
           "Crime",
           "R",
           76000,
           15000000,
           49814392
          ],
          [
           "Madea's Family Reunion",
           "Comedy",
           "PG-13",
           11000,
           6000000,
           63368939
          ],
          [
           "Date Movie",
           "Comedy",
           "PG-13",
           58000,
           20000000,
           85749034
          ],
          [
           "Half Nelson",
           "Drama",
           "R",
           85000,
           700000,
           4660481
          ],
          [
           "The Santa Clause 3: The Escape Clause",
           "Adventure",
           "G",
           34000,
           12000000,
           110768122
          ],
          [
           "Big Momma's House 2",
           "Comedy",
           "PG-13",
           41000,
           40000000,
           141522961
          ],
          [
           "The Grudge 2",
           "Horror",
           "PG-13",
           48000,
           20000000,
           70711175
          ],
          [
           "No Country for Old Men",
           "Crime",
           "R",
           886000,
           25000000,
           171627166
          ],
          [
           "Disturbia",
           "Crime",
           "PG-13",
           226000,
           20000000,
           118114220
          ],
          [
           "Superbad",
           "Comedy",
           "R",
           535000,
           20000000,
           170812526
          ],
          [
           "Transformers",
           "Action",
           "PG-13",
           607000,
           150000000,
           709709780
          ],
          [
           "Harry Potter and the Order of the Phoenix",
           "Action",
           "PG-13",
           527000,
           150000000,
           942172396
          ],
          [
           "Into the Wild",
           "Adventure",
           "R",
           588000,
           15000000,
           56675895
          ],
          [
           "Ratatouille",
           "Animation",
           "G",
           660000,
           150000000,
           623726085
          ],
          [
           "Atonement",
           "Drama",
           "R",
           259000,
           30000000,
           131016624
          ],
          [
           "Spider-Man 3",
           "Action",
           "PG-13",
           513000,
           258000000,
           894983373
          ],
          [
           "Live Free or Die Hard",
           "Action",
           "PG-13",
           394000,
           110000000,
           388156011
          ],
          [
           "I Am Legend",
           "Action",
           "PG-13",
           704000,
           150000000,
           585410052
          ],
          [
           "28 Weeks Later",
           "Horror",
           "R",
           263000,
           15000000,
           65048678
          ],
          [
           "Hitman",
           "Action",
           "R",
           163000,
           24000000,
           101276318
          ],
          [
           "Enchanted",
           "Comedy",
           "PG",
           181000,
           85000000,
           340487836
          ],
          [
           "Knocked Up",
           "Comedy",
           "R",
           356000,
           30000000,
           219922417
          ],
          [
           "Bridge to Terabithia",
           "Drama",
           "PG",
           147000,
           17000000,
           137587063
          ],
          [
           "Halloween",
           "Horror",
           "R",
           111000,
           15000000,
           80460948
          ],
          [
           "The Bourne Ultimatum",
           "Action",
           "PG-13",
           612000,
           110000000,
           444100035
          ],
          [
           "Ocean's Thirteen",
           "Crime",
           "PG-13",
           328000,
           85000000,
           311312624
          ],
          [
           "Resident Evil: Extinction",
           "Action",
           "R",
           187000,
           45000000,
           147717833
          ],
          [
           "Awake",
           "Crime",
           "R",
           73000,
           8600000,
           32730062
          ],
          [
           "Aliens vs. Predator: Requiem",
           "Action",
           "R",
           118000,
           40000000,
           130290885
          ],
          [
           "Shrek the Third",
           "Animation",
           "PG",
           288000,
           160000000,
           813367380
          ],
          [
           "1408",
           "Fantasy",
           "PG-13",
           260000,
           25000000,
           132963417
          ],
          [
           "Hostel: Part II",
           "Horror",
           "R",
           87000,
           10200000,
           35728183
          ],
          [
           "Epic Movie",
           "Adventure",
           "PG-13",
           103000,
           20000000,
           87238158
          ],
          [
           "Michael Clayton",
           "Crime",
           "R",
           159000,
           25000000,
           92991835
          ],
          [
           "The Bucket List",
           "Adventure",
           "PG-13",
           235000,
           45000000,
           175372502
          ],
          [
           "Lust, Caution",
           "Drama",
           "NC-17",
           38000,
           15000000,
           67091915
          ],
          [
           "Alvin and the Chipmunks",
           "Animation",
           "PG",
           79000,
           60000000,
           365352546
          ],
          [
           "P.S. I Love You",
           "Comedy",
           "PG-13",
           203000,
           30000000,
           156835339
          ],
          [
           "National Treasure: Book of Secrets",
           "Action",
           "PG",
           223000,
           130000000,
           459242249
          ],
          [
           "The Game Plan",
           "Comedy",
           "PG",
           61000,
           22000000,
           147880543
          ],
          [
           "Saw IV",
           "Crime",
           "R",
           144000,
           10000000,
           139352633
          ],
          [
           "Premonition",
           "Drama",
           "PG-13",
           74000,
           20000000,
           84297309
          ],
          [
           "The Simpsons Movie",
           "Animation",
           "PG-13",
           314000,
           75000000,
           536414293
          ],
          [
           "Death at a Funeral",
           "Comedy",
           "R",
           111000,
           9000000,
           46789413
          ],
          [
           "Mr. Bean's Holiday",
           "Comedy",
           "G",
           119000,
           25000000,
           232225908
          ],
          [
           "Music and Lyrics",
           "Comedy",
           "PG-13",
           99000,
           40000000,
           145896422
          ],
          [
           "La Vie En Rose",
           "Biography",
           "PG-13",
           84000,
           25000000,
           86274793
          ],
          [
           "The Visitor",
           "Drama",
           "PG-13",
           42000,
           4000000,
           18197518
          ],
          [
           "Waitress",
           "Comedy",
           "PG-13",
           44000,
           1500000,
           22240529
          ],
          [
           "No Reservations",
           "Comedy",
           "PG",
           72000,
           28000000,
           92601050
          ],
          [
           "The Kite Runner",
           "Drama",
           "PG-13",
           78000,
           20000000,
           75011029
          ],
          [
           "Elite Squad",
           "Action",
           "R",
           100000,
           4000000,
           14759148
          ],
          [
           "The Messengers",
           "Drama",
           "PG-13",
           39000,
           16000000,
           55060212
          ],
          [
           "Tyler Perry's Why Did I Get Married?",
           "Comedy",
           "PG-13",
           12000,
           15000000,
           55862886
          ],
          [
           "Hotel for Dogs",
           "Comedy",
           "PG",
           22000,
           35000000,
           117252578
          ],
          [
           "Stomp the Yard",
           "Drama",
           "PG-13",
           22000,
           13000000,
           75511123
          ],
          [
           "The Dark Knight",
           "Action",
           "PG-13",
           2400000,
           185000000,
           1005973645
          ],
          [
           "Twilight",
           "Drama",
           "PG-13",
           435000,
           37000000,
           408430415
          ],
          [
           "Iron Man",
           "Action",
           "PG-13",
           969000,
           140000000,
           585796247
          ],
          [
           "Kung Fu Panda",
           "Animation",
           "PG",
           432000,
           130000000,
           631746197
          ],
          [
           "Mamma Mia!",
           "Comedy",
           "PG-13",
           224000,
           52000000,
           611257819
          ],
          [
           "The Strangers",
           "Horror",
           "R",
           121000,
           9000000,
           82410456
          ],
          [
           "Indiana Jones and the Kingdom of the Crystal Skull",
           "Action",
           "PG-13",
           433000,
           185000000,
           790653942
          ],
          [
           "Taken",
           "Action",
           "PG-13",
           575000,
           25000000,
           226837760
          ],
          [
           "Wanted",
           "Action",
           "R",
           369000,
           75000000,
           342463063
          ],
          [
           "Burn After Reading",
           "Comedy",
           "R",
           317000,
           37000000,
           163728902
          ],
          [
           "Forgetting Sarah Marshall",
           "Comedy",
           "R",
           271000,
           30000000,
           105833257
          ],
          [
           "Vicky Cristina Barcelona",
           "Comedy",
           "PG-13",
           246000,
           15500000,
           96409300
          ],
          [
           "Sex and the City",
           "Comedy",
           "R",
           117000,
           65000000,
           418765519
          ],
          [
           "Gran Torino",
           "Drama",
           "R",
           734000,
           33000000,
           269958228
          ],
          [
           "The Reader",
           "Drama",
           "R",
           234000,
           32000000,
           108902486
          ],
          [
           "The Hurt Locker",
           "Drama",
           "R",
           430000,
           15000000,
           49259766
          ],
          [
           "The Happening",
           "Drama",
           "R",
           199000,
           48000000,
           163403799
          ],
          [
           "The Wrestler",
           "Drama",
           "R",
           294000,
           6000000,
           44734660
          ],
          [
           "Cloverfield",
           "Action",
           "PG-13",
           379000,
           25000000,
           172394180
          ],
          [
           "21",
           "Crime",
           "PG-13",
           235000,
           35000000,
           159808370
          ],
          [
           "Hancock",
           "Action",
           "PG-13",
           454000,
           150000000,
           629443428
          ],
          [
           "Journey to the Center of the Earth",
           "Action",
           "PG",
           116000,
           60000000,
           244232688
          ],
          [
           "Pineapple Express",
           "Action",
           "R",
           322000,
           27000000,
           101624843
          ],
          [
           "27 Dresses",
           "Comedy",
           "PG-13",
           157000,
           30000000,
           162655351
          ],
          [
           "Role Models",
           "Comedy",
           "R",
           223000,
           28000000,
           92649419
          ],
          [
           "Bronson",
           "Action",
           "R",
           123000,
           230000,
           2260712
          ],
          [
           "Ponyo",
           "Animation",
           "G",
           131000,
           34000000,
           204826668
          ],
          [
           "Street Kings",
           "Action",
           "R",
           109000,
           20000000,
           66476363
          ],
          [
           "Marley & Me",
           "Comedy",
           "PG",
           150000,
           60000000,
           255743093
          ],
          [
           "The Secret Life of Bees",
           "Drama",
           "PG-13",
           25000,
           11000000,
           39952437
          ],
          [
           "Nick and Norah's Infinite Playlist",
           "Comedy",
           "PG-13",
           90000,
           10000000,
           33556631
          ],
          [
           "Madagascar: Escape 2 Africa",
           "Animation",
           "PG",
           211000,
           150000000,
           603900354
          ],
          [
           "Step Up 2: the Streets",
           "Drama",
           "PG-13",
           81000,
           17500000,
           150988382
          ],
          [
           "Saw V",
           "Crime",
           "R",
           118000,
           10800000,
           113864059
          ],
          [
           "Horton Hears a Who!",
           "Animation",
           "G",
           132000,
           85000000,
           298572799
          ],
          [
           "What Happens in Vegas",
           "Comedy",
           "PG-13",
           168000,
           35000000,
           219375562
          ],
          [
           "Vantage Point",
           "Action",
           "PG-13",
           146000,
           40000000,
           152039882
          ],
          [
           "Transporter 3",
           "Action",
           "PG-13",
           160000,
           30000000,
           108979549
          ],
          [
           "Star Wars: The Clone Wars",
           "Animation",
           "PG",
           61000,
           8500000,
           68282844
          ],
          [
           "Harold & Kumar Escape from Guantanamo Bay",
           "Adventure",
           "R",
           132000,
           12000000,
           43495888
          ],
          [
           "Quarantine",
           "Horror",
           "R",
           71000,
           12000000,
           41319906
          ],
          [
           "The Good the Bad the Weird",
           "Action",
           "R",
           34000,
           10000000,
           44261209
          ],
          [
           "Shutter",
           "Horror",
           "PG-13",
           33000,
           8000000,
           48555306
          ],
          [
           "The Eye",
           "Drama",
           "PG-13",
           52000,
           12000000,
           58010320
          ],
          [
           "Wendy and Lucy",
           "Drama",
           "R",
           17000,
           200000,
           1192995
          ],
          [
           "Beverly Hills Chihuahua",
           "Adventure",
           "PG",
           23000,
           20000000,
           149292488
          ],
          [
           "Waltz with Bashir",
           "Animation",
           "R",
           56000,
           1500000,
           11179372
          ],
          [
           "Frozen River",
           "Crime",
           "R",
           25000,
           1000000,
           5457664
          ],
          [
           "Inglourious Basterds",
           "Adventure",
           "R",
           1300000,
           70000000,
           321457747
          ],
          [
           "Avatar",
           "Action",
           "PG-13",
           1100000,
           237000000,
           2847246203
          ],
          [
           "Fast & Furious",
           "Action",
           "PG-13",
           271000,
           85000000,
           360366870
          ],
          [
           "The Hangover",
           "Comedy",
           "R",
           733000,
           35000000,
           469310836
          ],
          [
           "Harry Potter and the Half-Blood Prince",
           "Action",
           "PG",
           492000,
           250000000,
           934454096
          ],
          [
           "He's Just Not That Into You",
           "Comedy",
           "PG-13",
           165000,
           40000000,
           178866158
          ],
          [
           "2012",
           "Action",
           "PG-13",
           360000,
           200000000,
           791217826
          ],
          [
           "Zombieland",
           "Adventure",
           "R",
           534000,
           23600000,
           102392080
          ],
          [
           "500 Days of Summer",
           "Comedy",
           "PG-13",
           483000,
           7500000,
           60800444
          ],
          [
           "Sherlock Holmes",
           "Action",
           "PG-13",
           596000,
           90000000,
           524028679
          ],
          [
           "District 9",
           "Action",
           "R",
           648000,
           30000000,
           210888950
          ],
          [
           "The Blind Side",
           "Biography",
           "PG-13",
           303000,
           29000000,
           309208309
          ],
          [
           "Up",
           "Animation",
           "PG",
           962000,
           175000000,
           735099102
          ],
          [
           "Transformers: Revenge of the Fallen",
           "Action",
           "PG-13",
           390000,
           200000000,
           836303693
          ],
          [
           "Up in the Air",
           "Comedy",
           "R",
           324000,
           25000000,
           166842739
          ],
          [
           "The Twilight Saga: New Moon",
           "Adventure",
           "PG-13",
           271000,
           50000000,
           711025481
          ],
          [
           "Friday the 13th",
           "Horror",
           "R",
           100000,
           19000000,
           91509154
          ],
          [
           "The Proposal",
           "Comedy",
           "PG-13",
           303000,
           40000000,
           317375031
          ],
          [
           "17 Again",
           "Comedy",
           "PG-13",
           187000,
           20000000,
           136316880
          ],
          [
           "Knowing",
           "Action",
           "PG-13",
           225000,
           50000000,
           183658498
          ],
          [
           "The Girl with the Dragon Tattoo",
           "Crime",
           "R",
           211000,
           13000000,
           104414200
          ],
          [
           "Precious",
           "Drama",
           "R",
           107000,
           10000000,
           63649529
          ],
          [
           "Mother",
           "Crime",
           "R",
           56000,
           5000000,
           17203507
          ],
          [
           "The Ugly Truth",
           "Comedy",
           "R",
           209000,
           38000000,
           321682600
          ],
          [
           "The Fourth Kind",
           "Horror",
           "PG-13",
           75000,
           10000000,
           47719794
          ],
          [
           "A Serious Man",
           "Comedy",
           "R",
           137000,
           7000000,
           31430334
          ],
          [
           "A Single Man",
           "Drama",
           "R",
           108000,
           7000000,
           24964890
          ],
          [
           "The Final Destination",
           "Action",
           "R",
           99000,
           40000000,
           186167139
          ],
          [
           "An Education",
           "Drama",
           "PG-13",
           131000,
           7500000,
           26096852
          ],
          [
           "Crazy Heart",
           "Drama",
           "R",
           86000,
           7000000,
           47405566
          ],
          [
           "Ice Age: Dawn of the Dinosaurs",
           "Animation",
           "PG",
           230000,
           90000000,
           886686817
          ],
          [
           "My Bloody Valentine",
           "Horror",
           "R",
           55000,
           15000000,
           100734718
          ],
          [
           "Bride Wars",
           "Comedy",
           "PG",
           102000,
           30000000,
           115375850
          ],
          [
           "Saw VI",
           "Horror",
           "R",
           105000,
           11000000,
           68234154
          ],
          [
           "Obsessed",
           "Drama",
           "PG-13",
           31000,
           20000000,
           73830347
          ],
          [
           "Paul Blart: Mall Cop",
           "Action",
           "PG",
           105000,
           26000000,
           183348429
          ],
          [
           "Brüno",
           "Comedy",
           "R",
           146000,
           42000000,
           138805831
          ],
          [
           "The Unborn",
           "Drama",
           "PG-13",
           50000,
           16000000,
           76514050
          ],
          [
           "The Haunting in Connecticut",
           "Drama",
           "PG-13",
           60000,
           10000000,
           77578320
          ],
          [
           "Hannah Montana: The Movie",
           "Comedy",
           "G",
           41000,
           30000000,
           155545279
          ],
          [
           "Alvin and the Chipmunks: the Squeakquel",
           "Animation",
           "PG",
           45000,
           75000000,
           443140005
          ],
          [
           "Fame",
           "Comedy",
           "PG",
           16000,
           18000000,
           77211836
          ],
          [
           "[Rec]²",
           "Horror",
           "R",
           70000,
           5600000,
           18853164
          ],
          [
           "Inception",
           "Action",
           "PG-13",
           2100000,
           160000000,
           836836967
          ],
          [
           "Shutter Island",
           "Mystery",
           "R",
           1200000,
           80000000,
           294805697
          ],
          [
           "Grown Ups",
           "Comedy",
           "PG-13",
           233000,
           80000000,
           271457301
          ],
          [
           "The Town",
           "Crime",
           "R",
           363000,
           37000000,
           154026136
          ],
          [
           "The Social Network",
           "Biography",
           "PG-13",
           645000,
           40000000,
           224920375
          ],
          [
           "Monsters",
           "Adventure",
           "R",
           89000,
           500000,
           5060438
          ],
          [
           "RED",
           "Action",
           "PG-13",
           295000,
           58000000,
           199006387
          ],
          [
           "The American",
           "Crime",
           "R",
           94000,
           20000000,
           67876281
          ],
          [
           "Alice in Wonderland",
           "Adventure",
           "PG",
           392000,
           200000000,
           1025468216
          ],
          [
           "Despicable Me",
           "Animation",
           "PG",
           512000,
           69000000,
           543113985
          ],
          [
           "Love & Other Drugs",
           "Comedy",
           "R",
           186000,
           30000000,
           102820008
          ],
          [
           "True Grit",
           "Drama",
           "PG-13",
           319000,
           38000000,
           252276927
          ],
          [
           "The Twilight Saga: Eclipse",
           "Action",
           "PG-13",
           233000,
           68000000,
           698491347
          ],
          [
           "Clash of the Titans",
           "Action",
           "PG-13",
           274000,
           125000000,
           493214993
          ],
          [
           "Piranha 3D",
           "Comedy",
           "R",
           87000,
           24000000,
           83188165
          ],
          [
           "127 Hours",
           "Biography",
           "R",
           356000,
           18000000,
           60738797
          ],
          [
           "The Expendables",
           "Action",
           "R",
           331000,
           80000000,
           274470394
          ],
          [
           "Toy Story 3",
           "Animation",
           "G",
           776000,
           200000000,
           1066970811
          ],
          [
           "Easy A",
           "Comedy",
           "PG-13",
           368000,
           8000000,
           75026327
          ],
          [
           "The Fighter",
           "Biography",
           "R",
           348000,
           25000000,
           129190869
          ],
          [
           "Machete",
           "Action",
           "R",
           192000,
           10500000,
           45491656
          ],
          [
           "The Karate Kid",
           "Action",
           "PG",
           168000,
           40000000,
           359126022
          ],
          [
           "Eat Pray Love",
           "Biography",
           "PG-13",
           92000,
           60000000,
           204594016
          ],
          [
           "Diary of a Wimpy Kid",
           "Animation",
           "PG",
           45000,
           15000000,
           76196538
          ],
          [
           "Buried",
           "Drama",
           "R",
           153000,
           3000000,
           19439764
          ],
          [
           "Remember Me",
           "Drama",
           "PG-13",
           141000,
           16000000,
           56032889
          ],
          [
           "Winter's Bone",
           "Drama",
           "R",
           138000,
           2000000,
           13796834
          ],
          [
           "A Nightmare on Elm Street",
           "Crime",
           "R",
           95000,
           35000000,
           115695182
          ],
          [
           "Resident Evil: Afterlife",
           "Action",
           "R",
           165000,
           60000000,
           300228084
          ],
          [
           "Due Date",
           "Comedy",
           "R",
           329000,
           65000000,
           211780824
          ],
          [
           "Devil",
           "Horror",
           "PG-13",
           137000,
           10000000,
           62695489
          ],
          [
           "Shrek Forever After",
           "Animation",
           "PG",
           190000,
           165000000,
           752600867
          ],
          [
           "The Kids Are All Right",
           "Comedy",
           "R",
           127000,
           4000000,
           34758951
          ],
          [
           "Skyline",
           "Action",
           "PG-13",
           88000,
           10000000,
           66984887
          ],
          [
           "Valentine's Day",
           "Comedy",
           "PG-13",
           116000,
           52000000,
           216485654
          ],
          [
           "Dear John",
           "Drama",
           "PG-13",
           142000,
           25000000,
           114984666
          ],
          [
           "The Secret World of Arrietty",
           "Animation",
           "G",
           85000,
           23000000,
           149411550
          ],
          [
           "Step Up",
           "Drama",
           "PG-13",
           56000,
           30000000,
           159291809
          ],
          [
           "The Last Song",
           "Drama",
           "PG",
           83000,
           20000000,
           89137047
          ],
          [
           "The Bounty Hunter",
           "Action",
           "PG-13",
           123000,
           40000000,
           136333522
          ],
          [
           "Vampires Suck",
           "Comedy",
           "PG-13",
           47000,
           20000000,
           80547866
          ],
          [
           "Beginners",
           "Comedy",
           "R",
           89000,
           3200000,
           14311701
          ],
          [
           "My Name Is Khan",
           "Drama",
           "PG-13",
           101000,
           12000000,
           42345360
          ],
          [
           "Harry Potter and the Deathly Hallows: Part 2",
           "Adventure",
           "PG-13",
           790000,
           125000000,
           1342321665
          ],
          [
           "Bridesmaids",
           "Comedy",
           "R",
           276000,
           32500000,
           288383523
          ],
          [
           "Fast Five",
           "Action",
           "PG-13",
           362000,
           125000000,
           626137675
          ],
          [
           "Midnight in Paris",
           "Comedy",
           "PG-13",
           398000,
           17000000,
           151653750
          ],
          [
           "Drive",
           "Crime",
           "R",
           587000,
           15000000,
           77187281
          ],
          [
           "The Help",
           "Drama",
           "PG-13",
           436000,
           25000000,
           216639112
          ],
          [
           "No Strings Attached",
           "Comedy",
           "R",
           219000,
           25000000,
           149228077
          ],
          [
           "Pirates of the Caribbean: on Stranger Tides",
           "Action",
           "PG-13",
           492000,
           250000000,
           1045713802
          ],
          [
           "Kung Fu Panda 2",
           "Animation",
           "PG",
           262000,
           150000000,
           665692281
          ],
          [
           "Friends with Benefits",
           "Comedy",
           "R",
           348000,
           35000000,
           149542245
          ],
          [
           "Bad Teacher",
           "Comedy",
           "R",
           196000,
           20000000,
           216197492
          ],
          [
           "In Time",
           "Action",
           "PG-13",
           379000,
           40000000,
           173930596
          ],
          [
           "One Day",
           "Drama",
           "PG-13",
           143000,
           15000000,
           59389433
          ],
          [
           "Mission: Impossible - Ghost Protocol",
           "Action",
           "PG-13",
           466000,
           145000000,
           694713380
          ],
          [
           "Super 8",
           "Mystery",
           "PG-13",
           343000,
           50000000,
           260095986
          ],
          [
           "Limitless",
           "Sci-Fi",
           "PG-13",
           538000,
           27000000,
           161849455
          ],
          [
           "Unknown",
           "Action",
           "PG-13",
           253000,
           30000000,
           135710029
          ],
          [
           "Transformers: Dark of the Moon",
           "Action",
           "PG-13",
           390000,
           195000000,
           1123794079
          ],
          [
           "The Twilight Saga: Breaking Dawn - Part 1",
           "Adventure",
           "PG-13",
           228000,
           110000000,
           712205856
          ],
          [
           "Source Code",
           "Action",
           "PG-13",
           495000,
           32000000,
           147332697
          ],
          [
           "Horrible Bosses",
           "Comedy",
           "R",
           428000,
           35000000,
           209838559
          ],
          [
           "Rio",
           "Animation",
           "PG",
           212000,
           90000000,
           483866518
          ],
          [
           "Sherlock Holmes: A Game of Shadows",
           "Action",
           "PG-13",
           429000,
           125000000,
           543848418
          ],
          [
           "Rise of the Planet of the Apes",
           "Action",
           "PG-13",
           504000,
           93000000,
           481800873
          ],
          [
           "The Raid: Redemption",
           "Action",
           "R",
           195000,
           1100000,
           9148519
          ],
          [
           "Margin Call",
           "Drama",
           "R",
           121000,
           3500000,
           19504039
          ],
          [
           "50/50",
           "Comedy",
           "R",
           320000,
           8000000,
           41097853
          ],
          [
           "The Descendants",
           "Comedy",
           "R",
           235000,
           20000000,
           177243185
          ],
          [
           "Final Destination 5",
           "Action",
           "R",
           109000,
           40000000,
           157887643
          ],
          [
           "The Hangover Part II",
           "Comedy",
           "R",
           472000,
           80000000,
           586764305
          ],
          [
           "The Best Exotic Marigold Hotel",
           "Comedy",
           "PG-13",
           92000,
           10000000,
           136836272
          ],
          [
           "The Muppets",
           "Adventure",
           "PG",
           89000,
           45000000,
           165184237
          ],
          [
           "The Smurfs",
           "Animation",
           "PG",
           86000,
           110000000,
           563749323
          ],
          [
           "The Ides of March",
           "Drama",
           "R",
           218000,
           12500000,
           76338111
          ],
          [
           "The Artist",
           "Comedy",
           "PG-13",
           234000,
           15000000,
           133432856
          ],
          [
           "Johnny English Reborn",
           "Action",
           "PG",
           123000,
           45000000,
           160078586
          ],
          [
           "Diary of a Wimpy Kid: Rodrick Rules",
           "Animation",
           "PG",
           28000,
           21000000,
           72526996
          ],
          [
           "The Guard",
           "Comedy",
           "R",
           83000,
           6000000,
           19561904
          ],
          [
           "Gnomeo & Juliet",
           "Animation",
           "G",
           53000,
           36000000,
           193967670
          ],
          [
           "Puss in Boots",
           "Animation",
           "PG",
           148000,
           130000000,
           554987477
          ],
          [
           "Silent House",
           "Drama",
           "R",
           22000,
           2000000,
           16527747
          ],
          [
           "Alvin and the Chipmunks: Chipwrecked",
           "Animation",
           "G",
           33000,
           75000000,
           342695435
          ],
          [
           "Our Idiot Brother",
           "Comedy",
           "R",
           85000,
           5000000,
           25804448
          ],
          [
           "Sanctum",
           "Action",
           "R",
           54000,
           30000000,
           108609310
          ],
          [
           "The Iron Lady",
           "Biography",
           "PG-13",
           105000,
           13000000,
           115890699
          ],
          [
           "Mr. Popper's Penguins",
           "Comedy",
           "PG",
           91000,
           55000000,
           187361754
          ],
          [
           "Apollo 18",
           "Horror",
           "PG-13",
           54000,
           5000000,
           26236153
          ],
          [
           "The Avengers",
           "Action",
           "PG-13",
           1300000,
           220000000,
           1518815515
          ],
          [
           "Django Unchained",
           "Drama",
           "R",
           1400000,
           100000000,
           426074373
          ],
          [
           "The Hobbit: An Unexpected Journey",
           "Adventure",
           "PG-13",
           773000,
           180000000,
           1017003568
          ],
          [
           "The Hunger Games",
           "Action",
           "PG-13",
           862000,
           78000000,
           694394724
          ],
          [
           "The Dark Knight Rises",
           "Action",
           "PG-13",
           1600000,
           250000000,
           1081142612
          ],
          [
           "Pitch Perfect",
           "Comedy",
           "PG-13",
           285000,
           17000000,
           115350426
          ],
          [
           "The Hunt",
           "Drama",
           "R",
           297000,
           3800000,
           15843274
          ],
          [
           "Moonrise Kingdom",
           "Comedy",
           "PG-13",
           327000,
           16000000,
           68264022
          ],
          [
           "The Impossible",
           "Drama",
           "PG-13",
           208000,
           45000000,
           198087212
          ],
          [
           "Argo",
           "Biography",
           "R",
           585000,
           44500000,
           232325503
          ],
          [
           "The Twilight Saga: Breaking Dawn - Part 2",
           "Adventure",
           "PG-13",
           236000,
           120000000,
           829747654
          ],
          [
           "Jack Reacher",
           "Action",
           "PG-13",
           317000,
           60000000,
           218340595
          ],
          [
           "Zero Dark Thirty",
           "Drama",
           "R",
           280000,
           40000000,
           132820716
          ],
          [
           "Skyfall",
           "Action",
           "PG-13",
           642000,
           200000000,
           1108569499
          ],
          [
           "The Amazing Spider-Man",
           "Action",
           "PG-13",
           571000,
           230000000,
           757930663
          ],
          [
           "Les Misérables",
           "Drama",
           "PG-13",
           315000,
           61000000,
           441809770
          ],
          [
           "Silver Linings Playbook",
           "Comedy",
           "R",
           675000,
           21000000,
           236412453
          ],
          [
           "Looper",
           "Action",
           "R",
           545000,
           30000000,
           176506819
          ],
          [
           "Flight",
           "Drama",
           "R",
           334000,
           31000000,
           161772375
          ],
          [
           "21 Jump Street",
           "Action",
           "R",
           521000,
           42000000,
           201585328
          ],
          [
           "Ted",
           "Comedy",
           "R",
           580000,
           50000000,
           549368315
          ],
          [
           "Lincoln",
           "Biography",
           "PG-13",
           250000,
           65000000,
           275293450
          ],
          [
           "Hotel Transylvania",
           "Animation",
           "PG",
           232000,
           85000000,
           358375603
          ],
          [
           "Spring Breakers",
           "Crime",
           "R",
           138000,
           5000000,
           32170399
          ],
          [
           "Project X",
           "Comedy",
           "R",
           193000,
           12000000,
           102731865
          ],
          [
           "American Reunion",
           "Comedy",
           "R",
           206000,
           50000000,
           234989584
          ],
          [
           "Life of Pi",
           "Adventure",
           "PG",
           594000,
           120000000,
           609016565
          ],
          [
           "Resident Evil: Retribution",
           "Action",
           "R",
           136000,
           65000000,
           240159255
          ],
          [
           "Journey 2: The Mysterious Island",
           "Action",
           "PG",
           96000,
           79000000,
           335260290
          ],
          [
           "Safety Not Guaranteed",
           "Comedy",
           "R",
           122000,
           750000,
           4424699
          ],
          [
           "Chronicle",
           "Adventure",
           "PG-13",
           243000,
           12000000,
           126636097
          ],
          [
           "End of Watch",
           "Action",
           "R",
           233000,
           7000000,
           55078146
          ],
          [
           "Mud",
           "Drama",
           "PG-13",
           172000,
           10000000,
           32613173
          ],
          [
           "The Lorax",
           "Animation",
           "PG",
           102000,
           70000000,
           348840316
          ],
          [
           "Diary of a Wimpy Kid: Dog Days",
           "Animation",
           "PG",
           23000,
           22000000,
           77229695
          ],
          [
           "The Lucky One",
           "Drama",
           "PG-13",
           103000,
           25000000,
           99357138
          ],
          [
           "Madagascar 3: Europe's Most Wanted",
           "Animation",
           "PG",
           168000,
           145000000,
           746921274
          ],
          [
           "House at the End of the Street",
           "Drama",
           "PG-13",
           74000,
           10000000,
           44287131
          ],
          [
           "The Sessions",
           "Biography",
           "R",
           42000,
           1000000,
           10656155
          ],
          [
           "The Woman in Black",
           "Drama",
           "PG-13",
           177000,
           17000000,
           128955898
          ],
          [
           "Think Like a Man",
           "Comedy",
           "PG-13",
           45000,
           12000000,
           96070507
          ],
          [
           "The Vow",
           "Drama",
           "PG-13",
           187000,
           30000000,
           196114570
          ],
          [
           "Taken 2",
           "Action",
           "PG-13",
           294000,
           45000000,
           376152455
          ],
          [
           "The Company You Keep",
           "Drama",
           "R",
           32000,
           2000000,
           20014680
          ],
          [
           "Hit and Run",
           "Action",
           "R",
           35000,
           2000000,
           16816647
          ],
          [
           "Act of Valor",
           "Action",
           "R",
           67000,
           12000000,
           82499399
          ],
          [
           "Ice Age: Continental Drift",
           "Animation",
           "PG",
           197000,
           95000000,
           877244782
          ],
          [
           "Step Up Revolution",
           "Drama",
           "PG-13",
           55000,
           33000000,
           140470746
          ],
          [
           "The Possession",
           "Horror",
           "PG-13",
           58000,
           14000000,
           85446075
          ],
          [
           "Amour",
           "Drama",
           "PG-13",
           95000,
           8900000,
           29664140
          ],
          [
           "Contraband",
           "Action",
           "R",
           119000,
           25000000,
           96262212
          ],
          [
           "Beasts of the Southern Wild",
           "Adventure",
           "PG-13",
           82000,
           1800000,
           21107746
          ],
          [
           "Bachelorette",
           "Comedy",
           "R",
           46000,
           3000000,
           12128575
          ],
          [
           "Parental Guidance",
           "Comedy",
           "PG",
           25000,
           25000000,
           119772232
          ],
          [
           "Quartet",
           "Comedy",
           "PG-13",
           19000,
           11000000,
           59520298
          ],
          [
           "Hope Springs",
           "Comedy",
           "PG-13",
           42000,
           30000000,
           114281051
          ],
          [
           "The Wolf of Wall Street",
           "Biography",
           "R",
           1200000,
           100000000,
           392000694
          ],
          [
           "Iron Man 3",
           "Action",
           "PG-13",
           779000,
           200000000,
           1214811252
          ],
          [
           "Thor: The Dark World",
           "Action",
           "PG-13",
           618000,
           170000000,
           644783140
          ],
          [
           "Fast & Furious 6",
           "Action",
           "PG-13",
           377000,
           160000000,
           788680968
          ],
          [
           "Gravity",
           "Drama",
           "PG-13",
           784000,
           100000000,
           723192705
          ],
          [
           "About Time",
           "Comedy",
           "R",
           317000,
           12000000,
           87100449
          ],
          [
           "The Hobbit: The Desolation of Smaug",
           "Adventure",
           "PG-13",
           615000,
           225000000,
           959007513
          ],
          [
           "We're the Millers",
           "Comedy",
           "R",
           415000,
           37000000,
           269994119
          ],
          [
           "Frozen",
           "Animation",
           "PG",
           585000,
           150000000,
           1281508100
          ],
          [
           "The Great Gatsby",
           "Drama",
           "PG-13",
           494000,
           105000000,
           353642274
          ],
          [
           "American Hustle",
           "Crime",
           "R",
           458000,
           40000000,
           251171807
          ],
          [
           "Monsters University",
           "Animation",
           "G",
           332000,
           200000000,
           743559645
          ],
          [
           "Don Jon",
           "Comedy",
           "R",
           232000,
           3000000,
           39439355
          ],
          [
           "Now You See Me",
           "Crime",
           "PG-13",
           612000,
           75000000,
           351723989
          ],
          [
           "Identity Thief",
           "Comedy",
           "R",
           128000,
           35000000,
           173965010
          ],
          [
           "The Hunger Games: Catching Fire",
           "Action",
           "PG-13",
           626000,
           130000000,
           865011746
          ],
          [
           "Movie 43",
           "Comedy",
           "R",
           101000,
           6000000,
           32443111
          ],
          [
           "12 Years a Slave",
           "Biography",
           "R",
           657000,
           20000000,
           187733202
          ],
          [
           "Dallas Buyers Club",
           "Biography",
           "R",
           455000,
           5000000,
           55736588
          ],
          [
           "The Croods",
           "Animation",
           "PG",
           199000,
           135000000,
           587205319
          ],
          [
           "This Is the End",
           "Comedy",
           "R",
           391000,
           32000000,
           126041322
          ],
          [
           "The Way Way Back",
           "Comedy",
           "PG-13",
           143000,
           5000000,
           26474920
          ],
          [
           "Hansel & Gretel: Witch Hunters",
           "Action",
           "R",
           198000,
           50000000,
           226349749
          ],
          [
           "Captain Phillips",
           "Adventure",
           "PG-13",
           432000,
           55000000,
           218791811
          ],
          [
           "Evil Dead",
           "Horror",
           "R",
           160000,
           17000000,
           97542952
          ],
          [
           "Lone Survivor",
           "Action",
           "R",
           272000,
           40000000,
           154802912
          ],
          [
           "Pain & Gain",
           "Action",
           "R",
           205000,
           26000000,
           87305549
          ],
          [
           "Anchorman 2: the Legend Continues",
           "Comedy",
           "PG-13",
           172000,
           50000000,
           173649931
          ],
          [
           "Mama",
           "Fantasy",
           "PG-13",
           172000,
           15000000,
           146428180
          ],
          [
           "A Good Day to Die Hard",
           "Action",
           "R",
           201000,
           92000000,
           304654182
          ],
          [
           "The Wolverine",
           "Action",
           "PG-13",
           439000,
           120000000,
           414828246
          ],
          [
           "Despicable Me 2",
           "Animation",
           "PG",
           377000,
           76000000,
           970766005
          ],
          [
           "Warm Bodies",
           "Comedy",
           "PG-13",
           223000,
           35000000,
           116980662
          ],
          [
           "Blue Jasmine",
           "Comedy",
           "PG-13",
           195000,
           18000000,
           99104804
          ],
          [
           "Safe Haven",
           "Drama",
           "PG-13",
           106000,
           28000000,
           97594140
          ],
          [
           "Before Midnight",
           "Drama",
           "R",
           146000,
           3000000,
           20994648
          ],
          [
           "Begin Again",
           "Comedy",
           "R",
           147000,
           8000000,
           65652908
          ],
          [
           "Oculus",
           "Horror",
           "R",
           120000,
           5000000,
           44459951
          ],
          [
           "The Call",
           "Crime",
           "R",
           115000,
           13000000,
           68572631
          ],
          [
           "Scary Movie V",
           "Comedy",
           "PG-13",
           67000,
           20000000,
           78378744
          ],
          [
           "The Heat",
           "Action",
           "R",
           165000,
           43000000,
           229930771
          ],
          [
           "Lee Daniels' The Butler",
           "Biography",
           "PG-13",
           111000,
           30000000,
           177313795
          ],
          [
           "Saving Mr. Banks",
           "Biography",
           "PG-13",
           155000,
           35000000,
           117867984
          ],
          [
           "The Book Thief",
           "Drama",
           "PG-13",
           130000,
           19000000,
           76586316
          ],
          [
           "The Hangover Part III",
           "Comedy",
           "R",
           299000,
           103000000,
           362000072
          ],
          [
           "The Wind Rises",
           "Animation",
           "PG-13",
           77000,
           30000000,
           136533257
          ],
          [
           "Planes",
           "Animation",
           "PG",
           43000,
           50000000,
           239258712
          ],
          [
           "Cloudy with a Chance of Meatballs 2",
           "Animation",
           "PG",
           94000,
           78000000,
           274325949
          ],
          [
           "Dark Skies",
           "Horror",
           "PG-13",
           73000,
           3500000,
           27858103
          ],
          [
           "Snitch",
           "Action",
           "PG-13",
           85000,
           15000000,
           57824674
          ],
          [
           "The Smurfs 2",
           "Animation",
           "PG",
           39000,
           105000000,
           347545360
          ],
          [
           "Last Vegas",
           "Comedy",
           "PG-13",
           130000,
           28000000,
           134409025
          ],
          [
           "Bad Grandpa",
           "Comedy",
           "R",
           90000,
           15000000,
           151826547
          ],
          [
           "Philomena",
           "Biography",
           "PG-13",
           96000,
           12000000,
           100129872
          ],
          [
           "Jobs",
           "Biography",
           "PG-13",
           95000,
           12000000,
           42128352
          ],
          [
           "21 & Over",
           "Comedy",
           "R",
           73000,
           13000000,
           48065672
          ],
          [
           "Upstream Color",
           "Drama",
           "G",
           32000,
           50000,
           587174
          ],
          [
           "The Lunchbox",
           "Drama",
           "PG",
           52000,
           1000000,
           11621777
          ],
          [
           "Guardians of the Galaxy",
           "Action",
           "PG-13",
           1100000,
           170000000,
           773350147
          ],
          [
           "Interstellar",
           "Adventure",
           "PG-13",
           1600000,
           165000000,
           701729206
          ],
          [
           "John Wick",
           "Action",
           "R",
           565000,
           20000000,
           86081711
          ],
          [
           "Gone Girl",
           "Drama",
           "R",
           893000,
           61000000,
           369330363
          ],
          [
           "Captain America: The Winter Soldier",
           "Action",
           "PG-13",
           764000,
           170000000,
           714421503
          ],
          [
           "The Grand Budapest Hotel",
           "Adventure",
           "R",
           734000,
           25000000,
           172945750
          ],
          [
           "Whiplash",
           "Drama",
           "R",
           749000,
           3300000,
           49396747
          ],
          [
           "Kingsman: The Secret Service",
           "Action",
           "R",
           607000,
           81000000,
           414351546
          ],
          [
           "Divergent",
           "Action",
           "PG-13",
           435000,
           85000000,
           288885818
          ],
          [
           "Nightcrawler",
           "Crime",
           "R",
           486000,
           8500000,
           47398992
          ],
          [
           "The Hobbit: The Battle of the Five Armies",
           "Adventure",
           "PG-13",
           487000,
           250000000,
           962182865
          ],
          [
           "The Equalizer",
           "Action",
           "R",
           344000,
           55000000,
           192330738
          ],
          [
           "The Maze Runner",
           "Action",
           "PG-13",
           431000,
           34000000,
           348319861
          ],
          [
           "Lucy",
           "Action",
           "R",
           460000,
           40000000,
           458863600
          ],
          [
           "Chef",
           "Adventure",
           "R",
           202000,
           11000000,
           48428048
          ],
          [
           "What We Do in the Shadows",
           "Comedy",
           "R",
           164000,
           1600000,
           7253160
          ],
          [
           "X-Men: Days of Future Past",
           "Action",
           "PG-13",
           673000,
           200000000,
           746045700
          ],
          [
           "The Purge: Anarchy",
           "Action",
           "R",
           143000,
           9000000,
           111928365
          ],
          [
           "Birdman or (The Unexpected Virtue of Ignorance)",
           "Comedy",
           "R",
           594000,
           18000000,
           103215094
          ],
          [
           "Godzilla",
           "Action",
           "PG-13",
           394000,
           160000000,
           524976069
          ],
          [
           "American Sniper",
           "Action",
           "R",
           451000,
           58800000,
           547426372
          ],
          [
           "Big Hero 6",
           "Animation",
           "PG",
           423000,
           165000000,
           657869686
          ],
          [
           "The Amazing Spider-Man 2",
           "Action",
           "PG-13",
           427000,
           200000000,
           708982323
          ],
          [
           "Maleficent",
           "Action",
           "PG",
           353000,
           180000000,
           758411779
          ],
          [
           "Into the Woods",
           "Adventure",
           "PG",
           135000,
           50000000,
           212902372
          ],
          [
           "The Lego Movie",
           "Animation",
           "PG",
           331000,
           60000000,
           468060692
          ],
          [
           "The Hunger Games: Mockingjay - Part 1",
           "Action",
           "PG-13",
           424000,
           125000000,
           755356711
          ],
          [
           "As Above, So Below",
           "Horror",
           "R",
           83000,
           5000000,
           41898409
          ],
          [
           "Boyhood",
           "Drama",
           "R",
           341000,
           4000000,
           48137666
          ],
          [
           "The Theory of Everything",
           "Biography",
           "PG-13",
           417000,
           15000000,
           123726688
          ],
          [
           "Transformers: Age of Extinction",
           "Action",
           "PG-13",
           302000,
           210000000,
           1104054072
          ],
          [
           "The Babadook",
           "Drama",
           "G",
           203000,
           2000000,
           10312540
          ],
          [
           "The Other Woman",
           "Comedy",
           "PG-13",
           133000,
           40000000,
           196710396
          ],
          [
           "Wild Tales",
           "Comedy",
           "R",
           184000,
           3300000,
           30642704
          ],
          [
           "Wild",
           "Adventure",
           "R",
           123000,
           15000000,
           52501541
          ],
          [
           "Teenage Mutant Ninja Turtles",
           "Action",
           "PG-13",
           203000,
           125000000,
           485004754
          ],
          [
           "22 Jump Street",
           "Action",
           "R",
           354000,
           50000000,
           331333876
          ],
          [
           "Dawn of the Planet of the Apes",
           "Action",
           "PG-13",
           419000,
           170000000,
           710644566
          ],
          [
           "Dumb and Dumber to",
           "Comedy",
           "PG-13",
           131000,
           40000000,
           169837010
          ],
          [
           "How to Train Your Dragon 2",
           "Animation",
           "PG",
           313000,
           145000000,
           621537519
          ],
          [
           "Rio 2",
           "Animation",
           "G",
           83000,
           103000000,
           498781117
          ],
          [
           "Paddington",
           "Animation",
           "PG",
           103000,
           55000000,
           282377683
          ],
          [
           "Non-Stop",
           "Action",
           "PG-13",
           254000,
           50000000,
           222809600
          ],
          [
           "Taken 3",
           "Action",
           "PG-13",
           183000,
           48000000,
           326479141
          ],
          [
           "Ride Along",
           "Action",
           "PG-13",
           106000,
           25000000,
           154468902
          ],
          [
           "That Awkward Moment",
           "Comedy",
           "R",
           99000,
           8000000,
           45640143
          ],
          [
           "Let's Be Cops",
           "Action",
           "R",
           129000,
           17000000,
           138224951
          ],
          [
           "The Hundred-Foot Journey",
           "Comedy",
           "PG",
           79000,
           22000000,
           89514453
          ],
          [
           "If I Stay",
           "Drama",
           "PG-13",
           118000,
           11000000,
           78274843
          ],
          [
           "Still Alice",
           "Drama",
           "PG-13",
           129000,
           5000000,
           44779195
          ],
          [
           "Addicted",
           "Drama",
           "R",
           10000,
           5000000,
           17534314
          ],
          [
           "Selma",
           "Biography",
           "PG-13",
           88000,
           20000000,
           66787908
          ],
          [
           "The One I Love",
           "Comedy",
           "R",
           37000,
           100000,
           596933
          ],
          [
           "A Haunted House 2",
           "Comedy",
           "R",
           20000,
           4000000,
           25358716
          ],
          [
           "Alexander and the Terrible, Horrible, No Good, Very Bad Day",
           "Comedy",
           "PG",
           42000,
           28000000,
           100654149
          ],
          [
           "St. Vincent",
           "Comedy",
           "PG-13",
           98000,
           13000000,
           54837234
          ],
          [
           "Tammy",
           "Comedy",
           "R",
           49000,
           20000000,
           100375432
          ],
          [
           "No Good Deed",
           "Thriller",
           "PG-13",
           20000,
           13200000,
           54323210
          ],
          [
           "Heaven Is for Real",
           "Biography",
           "PG",
           26000,
           12000000,
           101982712
          ],
          [
           "Avengers: Age of Ultron",
           "Action",
           "PG-13",
           777000,
           250000000,
           1402809540
          ],
          [
           "Furious 7",
           "Action",
           "PG-13",
           370000,
           190000000,
           1515341399
          ],
          [
           "The Hateful Eight",
           "Crime",
           "R",
           539000,
           44000000,
           156480177
          ],
          [
           "Ant-Man",
           "Action",
           "PG-13",
           595000,
           130000000,
           519311965
          ],
          [
           "Fifty Shades of Grey",
           "Drama",
           "R",
           304000,
           40000000,
           569651467
          ],
          [
           "The Witch",
           "Drama",
           "R",
           218000,
           4000000,
           40423945
          ],
          [
           "The Big Short",
           "Biography",
           "R",
           381000,
           28000000,
           133440870
          ],
          [
           "Jurassic World",
           "Action",
           "PG-13",
           593000,
           150000000,
           1670516444
          ],
          [
           "The Revenant",
           "Action",
           "R",
           729000,
           135000000,
           532950503
          ],
          [
           "The Martian",
           "Adventure",
           "PG-13",
           783000,
           108000000,
           630162448
          ],
          [
           "Inside Out",
           "Animation",
           "PG",
           641000,
           175000000,
           858848019
          ],
          [
           "Spotlight",
           "Biography",
           "R",
           435000,
           20000000,
           98690254
          ],
          [
           "Cinderella",
           "Drama",
           "PG",
           165000,
           95000000,
           542358331
          ],
          [
           "Star Wars: Episode VII - The Force Awakens",
           "Action",
           "PG-13",
           876000,
           245000000,
           2069521700
          ],
          [
           "Spectre",
           "Action",
           "PG-13",
           393000,
           245000000,
           880681519
          ],
          [
           "The Intern",
           "Comedy",
           "PG-13",
           231000,
           35000000,
           194564672
          ],
          [
           "The Hunger Games: Mockingjay - Part 2",
           "Action",
           "PG-13",
           297000,
           160000000,
           658344137
          ],
          [
           "Everest",
           "Action",
           "PG-13",
           205000,
           55000000,
           203427584
          ],
          [
           "Spy",
           "Action",
           "R",
           234000,
           65000000,
           235666219
          ],
          [
           "Mission: Impossible - Rogue Nation",
           "Action",
           "PG-13",
           350000,
           150000000,
           682716636
          ],
          [
           "Vacation",
           "Adventure",
           "R",
           103000,
           31000000,
           107228221
          ],
          [
           "Creed",
           "Drama",
           "PG-13",
           254000,
           35000000,
           173567581
          ],
          [
           "Pitch Perfect 2",
           "Comedy",
           "PG-13",
           146000,
           29000000,
           287144079
          ],
          [
           "San Andreas",
           "Action",
           "PG-13",
           219000,
           110000000,
           473990832
          ],
          [
           "Trainwreck",
           "Comedy",
           "R",
           132000,
           35000000,
           140795793
          ],
          [
           "Bridge of Spies",
           "Drama",
           "PG-13",
           295000,
           40000000,
           165478348
          ],
          [
           "The Danish Girl",
           "Biography",
           "R",
           170000,
           15000000,
           64191523
          ],
          [
           "Straight Outta Compton",
           "Biography",
           "R",
           185000,
           28000000,
           201634991
          ],
          [
           "Carol",
           "Drama",
           "R",
           120000,
           11800000,
           40272135
          ],
          [
           "No Escape",
           "Action",
           "R",
           81000,
           16200000,
           54418872
          ],
          [
           "The Boy Next Door",
           "Thriller",
           "R",
           40000,
           4000000,
           52425855
          ],
          [
           "Maze Runner: The Scorch Trials",
           "Action",
           "PG-13",
           230000,
           61000000,
           312296056
          ],
          [
           "The Gift",
           "Drama",
           "R",
           145000,
           5000000,
           58980521
          ],
          [
           "Hardcore Henry",
           "Action",
           "R",
           90000,
           2000000,
           16810562
          ],
          [
           "Brooklyn",
           "Drama",
           "PG-13",
           135000,
           11000000,
           62402155
          ],
          [
           "Daddy's Home",
           "Comedy",
           "PG-13",
           112000,
           50000000,
           242786137
          ],
          [
           "Magic Mike XXL",
           "Comedy",
           "R",
           53000,
           14800000,
           117813057
          ],
          [
           "The DUFF",
           "Comedy",
           "PG-13",
           87000,
           8500000,
           43709744
          ],
          [
           "Hotel Transylvania 2",
           "Animation",
           "PG",
           113000,
           80000000,
           474800000
          ],
          [
           "Insidious: Chapter 3",
           "Horror",
           "PG-13",
           97000,
           10000000,
           112983889
          ],
          [
           "The Wedding Ringer",
           "Comedy",
           "R",
           72000,
           23000000,
           79799880
          ],
          [
           "Sisters",
           "Comedy",
           "R",
           64000,
           30000000,
           105011053
          ],
          [
           "Paper Towns",
           "Adventure",
           "PG-13",
           98000,
           12000000,
           85512300
          ],
          [
           "The Lady in the Van",
           "Biography",
           "PG-13",
           27000,
           6000000,
           41387687
          ],
          [
           "The SpongeBob Movie: Sponge Out of Water",
           "Animation",
           "PG",
           51000,
           74000000,
           325186032
          ],
          [
           "Tangerine",
           "Comedy",
           "R",
           28000,
           100000,
           828874
          ],
          [
           "A Walk in the Woods",
           "Adventure",
           "R",
           26000,
           8000000,
           37461274
          ],
          [
           "Sinister 2",
           "Horror",
           "R",
           50000,
           10000000,
           53329150
          ],
          [
           "Woman in Gold",
           "Biography",
           "PG-13",
           56000,
           11000000,
           61619773
          ],
          [
           "The Second Best Exotic Marigold Hotel",
           "Comedy",
           "PG",
           32000,
           10000000,
           85978292
          ],
          [
           "We Are Your Friends",
           "Drama",
           "R",
           37000,
           2000000,
           11122090
          ],
          [
           "Grandma",
           "Comedy",
           "R",
           15000,
           600000,
           7205073
          ],
          [
           "Krampus",
           "Comedy",
           "PG-13",
           66000,
           15000000,
           61548707
          ],
          [
           "Ip Man 3",
           "Action",
           "PG-13",
           51000,
           36000000,
           157029618
          ],
          [
           "The Lazarus Effect",
           "Horror",
           "PG-13",
           42000,
           3300000,
           38356892
          ],
          [
           "Hello, My Name Is Doris",
           "Comedy",
           "R",
           19000,
           1000000,
           14659448
          ],
          [
           "Paul Blart: Mall Cop 2",
           "Action",
           "PG",
           35000,
           30000000,
           107588225
          ],
          [
           "Suicide Squad",
           "Action",
           "PG-13",
           625000,
           175000000,
           746846894
          ],
          [
           "Captain America: Civil War",
           "Action",
           "PG-13",
           694000,
           250000000,
           1153337496
          ],
          [
           "Deadpool",
           "Action",
           "R",
           932000,
           58000000,
           782836791
          ],
          [
           "Doctor Strange",
           "Action",
           "PG-13",
           628000,
           165000000,
           677796076
          ],
          [
           "Me Before You",
           "Drama",
           "PG-13",
           220000,
           20000000,
           208314186
          ],
          [
           "Moana",
           "Animation",
           "PG",
           289000,
           150000000,
           644411850
          ],
          [
           "Arrival",
           "Drama",
           "PG-13",
           621000,
           47000000,
           203388186
          ],
          [
           "Captain Fantastic",
           "Comedy",
           "R",
           201000,
           5000000,
           23123592
          ],
          [
           "Sing",
           "Animation",
           "PG",
           140000,
           75000000,
           634208384
          ],
          [
           "La La Land",
           "Comedy",
           "PG-13",
           527000,
           30000000,
           448906865
          ],
          [
           "The Conjuring 2",
           "Horror",
           "R",
           242000,
           40000000,
           321788219
          ],
          [
           "Zootopia",
           "Animation",
           "PG",
           450000,
           150000000,
           1024121104
          ],
          [
           "Hacksaw Ridge",
           "Biography",
           "R",
           457000,
           40000000,
           180563636
          ],
          [
           "Rogue One: A Star Wars Story",
           "Action",
           "PG-13",
           572000,
           200000000,
           1056057720
          ],
          [
           "Batman v Superman: Dawn of Justice",
           "Action",
           "PG-13",
           655000,
           250000000,
           873637528
          ],
          [
           "Kung Fu Panda 3",
           "Animation",
           "PG",
           141000,
           145000000,
           521170825
          ],
          [
           "Fantastic Beasts and Where to Find Them",
           "Adventure",
           "PG-13",
           422000,
           180000000,
           814044001
          ],
          [
           "Resident Evil: The Final Chapter",
           "Action",
           "R",
           87000,
           40000000,
           312242626
          ],
          [
           "The Shallows",
           "Action",
           "PG-13",
           124000,
           17000000,
           119100758
          ],
          [
           "Hidden Figures",
           "Biography",
           "PG",
           209000,
           25000000,
           236225193
          ],
          [
           "Sausage Party",
           "Animation",
           "R",
           181000,
           19000000,
           140705322
          ],
          [
           "The Girl on the Train",
           "Crime",
           "R",
           176000,
           45000000,
           173185859
          ],
          [
           "The Purge: Election Year",
           "Action",
           "R",
           93000,
           10000000,
           118587880
          ],
          [
           "The Accountant",
           "Action",
           "R",
           271000,
           44000000,
           155160045
          ],
          [
           "Jason Bourne",
           "Action",
           "PG-13",
           213000,
           120000000,
           415484914
          ],
          [
           "Manchester by the Sea",
           "Drama",
           "R",
           257000,
           9000000,
           78988148
          ],
          [
           "Central Intelligence",
           "Action",
           "PG-13",
           166000,
           50000000,
           216972543
          ],
          [
           "Now You See Me 2",
           "Action",
           "PG-13",
           260000,
           90000000,
           334897606
          ],
          [
           "The Jungle Book",
           "Adventure",
           "PG",
           264000,
           175000000,
           966554929
          ],
          [
           "10 Cloverfield Lane",
           "Action",
           "PG-13",
           300000,
           15000000,
           110216998
          ],
          [
           "Finding Dory",
           "Animation",
           "PG",
           250000,
           200000000,
           1028570942
          ],
          [
           "Lion",
           "Biography",
           "PG-13",
           221000,
           12000000,
           140853810
          ],
          [
           "Meet the Blacks",
           "Comedy",
           "R",
           36000,
           900000,
           9097072
          ],
          [
           "Bridget Jones's Baby",
           "Comedy",
           "R",
           71000,
           35000000,
           211952420
          ],
          [
           "Sully",
           "Biography",
           "PG-13",
           248000,
           60000000,
           240797623
          ],
          [
           "London Has Fallen",
           "Action",
           "R",
           149000,
           60000000,
           205754447
          ],
          [
           "Dirty Grandpa",
           "Comedy",
           "R",
           117000,
           25000000,
           94073028
          ],
          [
           "Bad Moms",
           "Comedy",
           "R",
           117000,
           20000000,
           183936074
          ],
          [
           "The Boy",
           "Horror",
           "PG-13",
           84000,
           10000000,
           73929392
          ],
          [
           "Ice Age: Collision Course",
           "Animation",
           "PG",
           60000,
           105000000,
           408754975
          ],
          [
           "The Secret Life of Pets",
           "Animation",
           "PG",
           188000,
           75000000,
           875458631
          ],
          [
           "The Angry Birds Movie",
           "Animation",
           "PG",
           84000,
           73000000,
           352333929
          ],
          [
           "Nerve",
           "Action",
           "PG-13",
           120000,
           19000000,
           85251425
          ],
          [
           "Miracles from Heaven",
           "Biography",
           "PG",
           23000,
           13000000,
           73983003
          ],
          [
           "Jackie",
           "Biography",
           "R",
           75000,
           9000000,
           29777777
          ],
          [
           "Blair Witch",
           "Horror",
           "R",
           43000,
           5000000,
           45173154
          ],
          [
           "Leap!",
           "Animation",
           "PG",
           21000,
           30000000,
           106127278
          ],
          [
           "Ouija: Origin of Evil",
           "Drama",
           "PG-13",
           56000,
           9000000,
           81705746
          ],
          [
           "The Forest",
           "Horror",
           "PG-13",
           41000,
           10000000,
           39712000
          ],
          [
           "Money Monster",
           "Crime",
           "R",
           96000,
           27000000,
           93282604
          ],
          [
           "Fifty Shades of Black",
           "Comedy",
           "R",
           20000,
           5000000,
           22227514
          ],
          [
           "My Big Fat Greek Wedding 2",
           "Comedy",
           "PG-13",
           29000,
           18000000,
           90632641
          ],
          [
           "Love & Friendship",
           "Comedy",
           "PG",
           24000,
           3000000,
           21401949
          ],
          [
           "Thor: Ragnarok",
           "Action",
           "PG-13",
           628000,
           180000000,
           853983911
          ],
          [
           "Darkest Hour",
           "Biography",
           "PG-13",
           179000,
           30000000,
           150847274
          ],
          [
           "The Hitman's Bodyguard",
           "Action",
           "R",
           203000,
           30000000,
           176600207
          ],
          [
           "Spider-Man: Homecoming",
           "Action",
           "PG-13",
           540000,
           175000000,
           880166924
          ],
          [
           "Guardians of the Galaxy Vol. 2",
           "Action",
           "PG-13",
           596000,
           200000000,
           863756051
          ],
          [
           "The Greatest Showman",
           "Biography",
           "PG",
           251000,
           84000000,
           438006904
          ],
          [
           "Jumanji: Welcome to the Jungle",
           "Action",
           "PG-13",
           336000,
           90000000,
           962542945
          ],
          [
           "The Fate of the Furious",
           "Action",
           "PG-13",
           214000,
           250000000,
           1236005118
          ],
          [
           "Dunkirk",
           "Action",
           "PG-13",
           582000,
           100000000,
           527016307
          ],
          [
           "Coco",
           "Animation",
           "PG",
           417000,
           175000000,
           807817888
          ],
          [
           "Baby Driver",
           "Action",
           "R",
           466000,
           34000000,
           226945087
          ],
          [
           "The Boss Baby",
           "Animation",
           "PG",
           114000,
           125000000,
           527965936
          ],
          [
           "Logan",
           "Action",
           "R",
           674000,
           97000000,
           619179950
          ],
          [
           "Wonder Woman",
           "Action",
           "PG-13",
           600000,
           149000000,
           822824522
          ],
          [
           "John Wick: Chapter 2",
           "Action",
           "R",
           385000,
           40000000,
           171547802
          ],
          [
           "Pirates of the Caribbean: Dead Men Tell No Tales",
           "Action",
           "PG-13",
           275000,
           230000000,
           794881442
          ],
          [
           "The Shape of Water",
           "Adventure",
           "R",
           386000,
           19400000,
           195333312
          ],
          [
           "Beauty and the Beast",
           "Family",
           "PG",
           283000,
           160000000,
           1264434525
          ],
          [
           "Kingsman: The Golden Circle",
           "Action",
           "R",
           286000,
           104000000,
           410902662
          ],
          [
           "Three Billboards Outside Ebbing, Missouri",
           "Comedy",
           "R",
           456000,
           15000000,
           160192267
          ],
          [
           "Star Wars: Episode VIII - The Last Jedi",
           "Action",
           "PG-13",
           581000,
           317000000,
           1332698830
          ],
          [
           "I, Tonya",
           "Biography",
           "R",
           193000,
           11000000,
           53939297
          ],
          [
           "Atomic Blonde",
           "Action",
           "R",
           182000,
           30000000,
           100014025
          ],
          [
           "Wind River",
           "Crime",
           "R",
           217000,
           11000000,
           43980821
          ],
          [
           "Murder on the Orient Express",
           "Crime",
           "PG-13",
           221000,
           55000000,
           352794081
          ],
          [
           "Lady Bird",
           "Comedy",
           "R",
           254000,
           10000000,
           78966486
          ],
          [
           "Fifty Shades Darker",
           "Drama",
           "R",
           95000,
           55000000,
           381545846
          ],
          [
           "Pitch Perfect 3",
           "Comedy",
           "PG-13",
           58000,
           45000000,
           185400345
          ],
          [
           "The Florida Project",
           "Drama",
           "R",
           101000,
           2000000,
           10971298
          ],
          [
           "Gifted",
           "Drama",
           "PG-13",
           105000,
           7000000,
           43069254
          ],
          [
           "The Upside",
           "Comedy",
           "PG-13",
           49000,
           37500000,
           125856180
          ],
          [
           "War for the Planet of the Apes",
           "Action",
           "PG-13",
           235000,
           150000000,
           490719763
          ],
          [
           "xXx: Return of Xander Cage",
           "Action",
           "PG-13",
           88000,
           85000000,
           346118277
          ],
          [
           "The Mummy",
           "Action",
           "PG-13",
           177000,
           125000000,
           409231607
          ],
          [
           "The Lego Batman Movie",
           "Animation",
           "PG",
           135000,
           80000000,
           311950384
          ],
          [
           "The Big Sick",
           "Comedy",
           "R",
           126000,
           5000000,
           56411585
          ],
          [
           "The Foreigner",
           "Action",
           "R",
           106000,
           35000000,
           145418070
          ],
          [
           "Jigsaw",
           "Crime",
           "R",
           73000,
           10000000,
           102952888
          ],
          [
           "47 Meters Down",
           "Adventure",
           "PG-13",
           51000,
           5300000,
           62198461
          ],
          [
           "The Post",
           "Drama",
           "PG-13",
           141000,
           50000000,
           180419231
          ],
          [
           "Everything, Everything",
           "Drama",
           "PG-13",
           35000,
           10000000,
           61621140
          ],
          [
           "It Comes at Night",
           "Horror",
           "R",
           87000,
           5000000,
           19735344
          ],
          [
           "Despicable Me 3",
           "Animation",
           "PG",
           119000,
           80000000,
           1034800131
          ],
          [
           "Going in Style",
           "Comedy",
           "PG-13",
           79000,
           25000000,
           84918541
          ],
          [
           "Before I Fall",
           "Drama",
           "PG-13",
           48000,
           5000000,
           16373843
          ],
          [
           "The Emoji Movie",
           "Animation",
           "PG",
           58000,
           50000000,
           217776646
          ],
          [
           "Paddington 2",
           "Animation",
           "PG",
           66000,
           40000000,
           227978645
          ],
          [
           "Girls Trip",
           "Adventure",
           "R",
           35000,
           19000000,
           140552359
          ],
          [
           "The Hero",
           "Drama",
           "R",
           8600,
           1200000,
           4101699
          ],
          [
           "A Dog's Purpose",
           "Adventure",
           "PG",
           68000,
           22000000,
           205035819
          ],
          [
           "The Shack",
           "Drama",
           "PG-13",
           32000,
           20000000,
           96942115
          ],
          [
           "Rings",
           "Drama",
           "PG-13",
           39000,
           25000000,
           83080890
          ],
          [
           "Smurfs: The Lost Village",
           "Animation",
           "PG",
           19000,
           60000000,
           197183546
          ],
          [
           "How to Be a Latin Lover",
           "Comedy",
           "PG-13",
           15000,
           10000000,
           62547032
          ],
          [
           "My Little Pony: The Movie",
           "Animation",
           "PG",
           6200,
           6500000,
           60330833
          ],
          [
           "A Bad Moms Christmas",
           "Comedy",
           "R",
           46000,
           28000000,
           130560428
          ],
          [
           "Captain Underpants: The First Epic Movie",
           "Animation",
           "PG",
           26000,
           38000000,
           125427681
          ],
          [
           "The Bye Bye Man",
           "Drama",
           "PG-13",
           23000,
           7400000,
           29874280
          ],
          [
           "Avengers: Infinity War",
           "Action",
           "PG-13",
           897000,
           321000000,
           2048359754
          ],
          [
           "Deadpool 2",
           "Action",
           "R",
           505000,
           110000000,
           786470484
          ],
          [
           "Black Panther",
           "Action",
           "PG-13",
           661000,
           200000000,
           1347597973
          ],
          [
           "Hereditary",
           "Drama",
           "R",
           259000,
           10000000,
           80239658
          ],
          [
           "A Simple Favor",
           "Comedy",
           "R",
           136000,
           20000000,
           97644617
          ],
          [
           "Aquaman",
           "Action",
           "PG-13",
           404000,
           160000000,
           1148485886
          ],
          [
           "Ready Player One",
           "Action",
           "PG-13",
           388000,
           175000000,
           582893671
          ],
          [
           "Spider-Man: Into the Spider-Verse",
           "Animation",
           "PG",
           411000,
           90000000,
           375540831
          ],
          [
           "Mission: Impossible - Fallout",
           "Action",
           "PG-13",
           303000,
           178000000,
           791657398
          ],
          [
           "Venom",
           "Action",
           "PG-13",
           387000,
           100000000,
           856085151
          ],
          [
           "Green Book",
           "Biography",
           "PG-13",
           414000,
           23000000,
           321752656
          ],
          [
           "Crazy Rich Asians",
           "Comedy",
           "PG-13",
           152000,
           30000000,
           238539198
          ],
          [
           "Ant-Man and the Wasp",
           "Action",
           "PG-13",
           333000,
           162000000,
           622674139
          ],
          [
           "BlacKkKlansman",
           "Biography",
           "R",
           236000,
           15000000,
           93413709
          ],
          [
           "Midnight Sun",
           "Drama",
           "PG-13",
           26000,
           2800000,
           27365467
          ],
          [
           "A Star Is Born",
           "Drama",
           "R",
           350000,
           36000000,
           436188866
          ],
          [
           "Mamma Mia! Here We Go Again",
           "Comedy",
           "PG-13",
           85000,
           75000000,
           395618157
          ],
          [
           "Jurassic World: Fallen Kingdom",
           "Action",
           "PG-13",
           277000,
           170000000,
           1310466296
          ],
          [
           "Eighth Grade",
           "Comedy",
           "R",
           68000,
           2000000,
           14347433
          ],
          [
           "Ocean's Eight",
           "Action",
           "PG-13",
           197000,
           70000000,
           297718711
          ],
          [
           "The Favourite",
           "Biography",
           "R",
           181000,
           15000000,
           95918706
          ],
          [
           "The Meg",
           "Action",
           "PG-13",
           157000,
           130000000,
           530259473
          ],
          [
           "Fifty Shades Freed",
           "Drama",
           "R",
           59000,
           55000000,
           371987838
          ],
          [
           "Incredibles 2",
           "Animation",
           "PG",
           263000,
           200000000,
           1244639527
          ],
          [
           "The First Purge",
           "Action",
           "R",
           58000,
           13000000,
           137056262
          ],
          [
           "The Commuter",
           "Action",
           "PG-13",
           107000,
           30000000,
           119942387
          ],
          [
           "Fantastic Beasts: The Crimes of Grindelwald",
           "Adventure",
           "PG-13",
           234000,
           200000000,
           654855901
          ],
          [
           "The Mule",
           "Crime",
           "R",
           121000,
           50000000,
           174804407
          ],
          [
           "Love, Simon",
           "Comedy",
           "PG-13",
           104000,
           17000000,
           66316289
          ],
          [
           "Bumblebee",
           "Action",
           "PG-13",
           147000,
           135000000,
           467989645
          ],
          [
           "Hotel Transylvania 3: Summer Vacation",
           "Animation",
           "PG",
           62000,
           80000000,
           528583774
          ],
          [
           "Peter Rabbit",
           "Animation",
           "PG",
           38000,
           50000000,
           351496066
          ],
          [
           "Upgrade",
           "Action",
           "R",
           168000,
           5000000,
           16706680
          ],
          [
           "Maze Runner: The Death Cure",
           "Action",
           "PG-13",
           121000,
           62000000,
           288175335
          ],
          [
           "Creed II",
           "Drama",
           "PG-13",
           111000,
           50000000,
           214215889
          ],
          [
           "Rampage",
           "Action",
           "PG-13",
           151000,
           120000000,
           428028233
          ],
          [
           "Blockers",
           "Comedy",
           "R",
           74000,
           21000000,
           94019120
          ],
          [
           "The Strangers: Prey at Night",
           "Horror",
           "R",
           28000,
           5000000,
           31039126
          ],
          [
           "Slender Man",
           "Horror",
           "PG-13",
           30000,
           10000000,
           51738549
          ],
          [
           "Book Club",
           "Comedy",
           "PG-13",
           26000,
           10000000,
           104438188
          ],
          [
           "Sorry to Bother You",
           "Comedy",
           "R",
           69000,
           3200000,
           18170707
          ],
          [
           "Overboard",
           "Comedy",
           "PG-13",
           36000,
           12000000,
           91244913
          ],
          [
           "Andhadhun",
           "Crime",
           "G",
           79000,
           4500000,
           62475342
          ],
          [
           "Unsane",
           "Drama",
           "R",
           42000,
           1500000,
           14293601
          ],
          [
           "Johnny English Strikes Again",
           "Action",
           "PG",
           67000,
           25000000,
           158972499
          ],
          [
           "Forever My Girl",
           "Comedy",
           "PG",
           16000,
           3500000,
           16376066
          ],
          [
           "Night School",
           "Comedy",
           "PG-13",
           38000,
           29000000,
           103105878
          ],
          [
           "Hell Fest",
           "Horror",
           "R",
           15000,
           5500000,
           18160930
          ],
          [
           "Second Act",
           "Comedy",
           "PG-13",
           24000,
           16000000,
           72294066
          ],
          [
           "The Possession of Hannah Grace",
           "Horror",
           "R",
           20000,
           7700000,
           43016528
          ],
          [
           "The Grinch",
           "Animation",
           "PG",
           58000,
           75000000,
           512492755
          ],
          [
           "Winchester",
           "Biography",
           "PG-13",
           32000,
           3500000,
           44019588
          ],
          [
           "I Can Only Imagine",
           "Biography",
           "PG",
           15000,
           7000000,
           86086881
          ],
          [
           "Dragon Ball Super: Broly",
           "Animation",
           "PG",
           24000,
           8500000,
           115757940
          ],
          [
           "Midsommar",
           "Drama",
           "R",
           232000,
           9000000,
           47967636
          ],
          [
           "Once Upon a Time... In Hollywood",
           "Comedy",
           "R",
           603000,
           90000000,
           374565754
          ],
          [
           "Avengers: Endgame",
           "Action",
           "PG-13",
           903000,
           356000000,
           2797501328
          ],
          [
           "Fighting with My Family",
           "Biography",
           "PG-13",
           71000,
           11000000,
           40811919
          ],
          [
           "Little Women",
           "Drama",
           "PG",
           159000,
           40000000,
           216601214
          ],
          [
           "Yesterday",
           "Comedy",
           "PG-13",
           131000,
           26000000,
           153193369
          ],
          [
           "John Wick: Chapter 3 - Parabellum",
           "Action",
           "R",
           296000,
           75000000,
           327281779
          ],
          [
           "Knives Out",
           "Comedy",
           "PG-13",
           505000,
           40000000,
           311539397
          ],
          [
           "Fast & Furious Presents: Hobbs & Shaw",
           "Action",
           "PG-13",
           184000,
           200000000,
           759056935
          ],
          [
           "Captain Marvel",
           "Action",
           "PG-13",
           478000,
           160000000,
           1128462972
          ],
          [
           "After",
           "Drama",
           "PG-13",
           44000,
           14000000,
           69756455
          ],
          [
           "Spider-Man: Far from Home",
           "Action",
           "PG-13",
           359000,
           160000000,
           1131927996
          ],
          [
           "Jojo Rabbit",
           "Comedy",
           "PG-13",
           328000,
           14000000,
           90335025
          ],
          [
           "Shazam!",
           "Action",
           "PG-13",
           284000,
           100000000,
           365971656
          ],
          [
           "It Chapter Two",
           "Drama",
           "R",
           222000,
           79000000,
           473093228
          ],
          [
           "1917",
           "Drama",
           "R",
           473000,
           95000000,
           384623579
          ],
          [
           "Star Wars: Episode IX - The Rise of Skywalker",
           "Action",
           "PG-13",
           394000,
           275000000,
           1078232589
          ],
          [
           "Jumanji: The Next Level",
           "Action",
           "PG-13",
           204000,
           125000000,
           800059707
          ],
          [
           "Us",
           "Horror",
           "R",
           247000,
           20000000,
           255184580
          ],
          [
           "Ready or Not",
           "Action",
           "R",
           121000,
           6000000,
           57615777
          ],
          [
           "Booksmart",
           "Comedy",
           "R",
           102000,
           6000000,
           24959607
          ],
          [
           "Glass",
           "Drama",
           "PG-13",
           219000,
           20000000,
           246999039
          ],
          [
           "The Lion King",
           "Animation",
           "PG",
           222000,
           260000000,
           1670727580
          ],
          [
           "Aladdin",
           "Adventure",
           "PG",
           239000,
           183000000,
           1050693953
          ],
          [
           "Rocketman",
           "Biography",
           "R",
           153000,
           40000000,
           195179299
          ],
          [
           "Hustlers",
           "Comedy",
           "R",
           89000,
           20000000,
           157563598
          ],
          [
           "Toy Story 4",
           "Animation",
           "G",
           217000,
           200000000,
           1073394593
          ],
          [
           "Angel Has Fallen",
           "Action",
           "R",
           86000,
           40000000,
           146661977
          ],
          [
           "Frozen II",
           "Animation",
           "PG",
           148000,
           150000000,
           1450026933
          ],
          [
           "Brightburn",
           "Drama",
           "R",
           87000,
           6000000,
           32893421
          ],
          [
           "Good Boys",
           "Adventure",
           "R",
           66000,
           20000000,
           111037232
          ],
          [
           "Ma",
           "Horror",
           "R",
           46000,
           5000000,
           61105744
          ],
          [
           "Five Feet Apart",
           "Drama",
           "PG-13",
           51000,
           7000000,
           91527795
          ],
          [
           "Crawl",
           "Action",
           "R",
           74000,
           13500000,
           91542097
          ],
          [
           "Annabelle Comes Home",
           "Horror",
           "R",
           65000,
           30000000,
           231252591
          ],
          [
           "Late Night",
           "Comedy",
           "R",
           33000,
           4000000,
           22386555
          ],
          [
           "The Addams Family",
           "Animation",
           "PG",
           31000,
           24000000,
           203783566
          ],
          [
           "How to Train Your Dragon: The Hidden World",
           "Animation",
           "PG",
           112000,
           129000000,
           525683457
          ],
          [
           "The Secret Life of Pets 2",
           "Animation",
           "PG",
           55000,
           80000000,
           430051293
          ],
          [
           "The Curse of la Llorona",
           "Horror",
           "R",
           43000,
           9000000,
           123133739
          ],
          [
           "Scary Stories to Tell in the Dark",
           "Adventure",
           "PG-13",
           66000,
           25000000,
           104545505
          ],
          [
           "The Intruder",
           "Thriller",
           "PG-13",
           15000,
           8000000,
           36599361
          ],
          [
           "What Men Want",
           "Comedy",
           "R",
           26000,
           20000000,
           72216294
          ],
          [
           "Pet Sematary",
           "Horror",
           "R",
           86000,
           21000000,
           113118226
          ],
          [
           "47 Meters Down: Uncaged",
           "Adventure",
           "PG-13",
           23000,
           12000000,
           47582563
          ],
          [
           "Happy Death Day 2U",
           "Comedy",
           "PG-13",
           64000,
           9000000,
           64600152
          ],
          [
           "Child's Play",
           "Drama",
           "R",
           47000,
           10000000,
           44907074
          ],
          [
           "The Hustle",
           "Comedy",
           "PG-13",
           51000,
           21000000,
           95017038
          ],
          [
           "Ip Man 4: The Finale",
           "Action",
           "G",
           27000,
           52000000,
           176345966
          ],
          [
           "A Dog's Journey",
           "Adventure",
           "PG",
           21000,
           16000000,
           75741734
          ],
          [
           "A Dog's Way Home",
           "Adventure",
           "PG",
           16000,
           18000000,
           80708134
          ],
          [
           "The Wandering Earth",
           "Action",
           "R",
           28000,
           48000000,
           699992512
          ],
          [
           "Breakthrough",
           "Biography",
           "PG",
           8800,
           14000000,
           50444358
          ],
          [
           "The Prodigy",
           "Fantasy",
           "R",
           24000,
           6000000,
           21150265
          ],
          [
           "Overcomer",
           "Drama",
           "PG",
           4100,
           5000000,
           38026103
          ],
          [
           "A Madea Family Funeral",
           "Comedy",
           "PG-13",
           4000,
           20000000,
           74747725
          ],
          [
           "Unplanned",
           "Biography",
           "R",
           13000,
           6000000,
           21354152
          ],
          [
           "Bad Boys for Life",
           "Action",
           "R",
           140000,
           90000000,
           426505244
          ],
          [
           "Sonic the Hedgehog",
           "Action",
           "PG",
           102000,
           85000000,
           319715683
          ],
          [
           "The Eight Hundred",
           "Action",
           "G",
           3700,
           80000000,
           461421559
          ]
         ],
         "hovertemplate": "Duración (minutos)=%{x}<br>Retorno de Inversión (ROI)=%{y}<br>name=%{customdata[0]}<br>genre=%{customdata[1]}<br>rating=%{customdata[2]}<br>votes=%{customdata[3]}<br>budget=%{customdata[4]}<br>gross=%{customdata[5]}<extra></extra>",
         "legendgroup": "",
         "marker": {
          "color": "#636efa",
          "symbol": "circle"
         },
         "mode": "markers",
         "name": "",
         "showlegend": false,
         "type": "scattergl",
         "x": [
          104,
          98,
          133,
          116,
          109,
          124,
          104,
          109,
          131,
          117,
          109,
          116,
          103,
          99,
          85,
          96,
          106,
          95,
          110,
          92,
          83,
          125,
          116,
          115,
          97,
          108,
          129,
          87,
          100,
          99,
          94,
          93,
          100,
          90,
          129,
          93,
          114,
          96,
          113,
          116,
          99,
          102,
          98,
          129,
          85,
          89,
          131,
          99,
          98,
          116,
          105,
          99,
          114,
          89,
          132,
          93,
          93,
          113,
          131,
          133,
          98,
          94,
          95,
          98,
          88,
          96,
          110,
          107,
          105,
          126,
          118,
          91,
          107,
          90,
          106,
          106,
          93,
          111,
          105,
          91,
          88,
          105,
          111,
          101,
          101,
          108,
          106,
          94,
          114,
          117,
          96,
          120,
          91,
          110,
          115,
          90,
          112,
          154,
          91,
          117,
          107,
          98,
          87,
          91,
          161,
          93,
          87,
          92,
          104,
          106,
          95,
          95,
          100,
          97,
          100,
          77,
          137,
          89,
          103,
          97,
          96,
          119,
          119,
          114,
          86,
          91,
          96,
          113,
          86,
          83,
          107,
          93,
          82,
          103,
          98,
          107,
          102,
          102,
          94,
          109,
          90,
          102,
          121,
          96,
          100,
          111,
          108,
          102,
          133,
          110,
          92,
          107,
          106,
          88,
          92,
          93,
          100,
          90,
          132,
          92,
          104,
          133,
          94,
          117,
          104,
          87,
          107,
          85,
          104,
          86,
          107,
          108,
          113,
          92,
          69,
          92,
          108,
          93,
          88,
          88,
          88,
          97,
          120,
          88,
          97,
          95,
          127,
          126,
          90,
          128,
          83,
          108,
          120,
          93,
          97,
          95,
          107,
          117,
          103,
          100,
          108,
          145,
          124,
          114,
          133,
          116,
          97,
          125,
          89,
          113,
          101,
          109,
          95,
          113,
          124,
          111,
          93,
          105,
          135,
          105,
          118,
          96,
          127,
          108,
          81,
          100,
          93,
          96,
          110,
          93,
          87,
          89,
          94,
          93,
          98,
          100,
          137,
          122,
          118,
          142,
          112,
          128,
          99,
          143,
          130,
          189,
          102,
          137,
          113,
          99,
          84,
          85,
          97,
          102,
          111,
          94,
          127,
          99,
          120,
          128,
          130,
          138,
          128,
          156,
          126,
          104,
          100,
          103,
          94,
          123,
          120,
          110,
          117,
          126,
          88,
          118,
          102,
          95,
          84,
          92,
          105,
          89,
          195,
          130,
          141,
          154,
          101,
          125,
          105,
          113,
          121,
          76,
          103,
          133,
          117,
          128,
          97,
          112,
          97,
          98,
          86,
          138,
          92,
          87,
          89,
          120,
          108,
          111,
          106,
          142,
          141,
          116,
          116,
          107,
          133,
          123,
          91,
          86,
          141,
          118,
          128,
          99,
          97,
          110,
          112,
          108,
          96,
          100,
          112,
          97,
          127,
          140,
          106,
          104,
          121,
          91,
          81,
          104,
          128,
          101,
          129,
          111,
          91,
          136,
          119,
          95,
          130,
          127,
          100,
          81,
          99,
          103,
          105,
          91,
          122,
          90,
          135,
          143,
          90,
          124,
          88,
          87,
          117,
          114,
          85,
          94,
          145,
          120,
          111,
          147,
          98,
          110,
          113,
          92,
          103,
          139,
          136,
          149,
          129,
          162,
          117,
          91,
          89,
          95,
          103,
          123,
          120,
          121,
          81,
          105,
          123,
          108,
          194,
          89,
          154,
          138,
          116,
          98,
          124,
          129,
          120,
          139,
          101,
          86,
          127,
          105,
          115,
          89,
          89,
          97,
          101,
          98,
          134,
          113,
          169,
          103,
          151,
          97,
          98,
          120,
          88,
          119,
          121,
          123,
          90,
          132,
          99,
          114,
          69,
          85,
          96,
          79,
          104,
          89,
          136,
          124,
          189,
          136,
          95,
          124,
          97,
          106,
          95,
          92,
          88,
          93,
          88,
          118,
          107,
          126,
          81,
          94,
          116,
          120,
          106,
          99,
          89,
          101,
          155,
          113,
          143,
          88,
          104,
          131,
          106,
          93,
          98,
          113,
          123,
          84,
          98,
          147,
          120,
          83,
          108,
          109,
          116,
          121,
          154,
          127,
          111,
          98,
          120,
          89,
          115,
          99,
          111,
          106,
          96,
          114,
          95,
          78,
          82,
          152,
          106,
          178,
          96,
          92,
          89,
          116,
          90,
          135,
          130,
          110,
          100,
          131,
          111,
          127,
          119,
          104,
          114,
          92,
          131,
          90,
          88,
          97,
          132,
          108,
          90,
          112,
          87,
          82,
          87,
          95,
          101,
          97,
          86,
          121,
          110,
          150,
          161,
          179,
          141,
          113,
          115,
          106,
          119,
          142,
          86,
          145,
          94,
          108,
          81,
          112,
          92,
          113,
          101,
          124,
          91,
          92,
          123,
          81,
          101,
          120,
          110,
          96,
          96,
          96,
          93,
          135,
          101,
          88,
          125,
          85,
          127,
          85,
          102,
          101,
          99,
          72,
          98,
          109,
          111,
          143,
          201,
          88,
          138,
          135,
          121,
          120,
          138,
          100,
          109,
          100,
          109,
          98,
          117,
          134,
          102,
          98,
          84,
          116,
          97,
          101,
          97,
          97,
          128,
          90,
          87,
          113,
          96,
          95,
          81,
          86,
          84,
          104,
          94,
          98,
          92,
          94,
          101,
          108,
          105,
          72,
          80,
          92,
          97,
          142,
          108,
          137,
          123,
          128,
          115,
          120,
          127,
          119,
          132,
          108,
          113,
          124,
          93,
          108,
          101,
          94,
          104,
          131,
          125,
          115,
          127,
          90,
          80,
          95,
          90,
          87,
          99,
          102,
          113,
          122,
          106,
          95,
          97,
          106,
          80,
          108,
          106,
          88,
          114,
          95,
          101,
          140,
          157,
          116,
          129,
          134,
          124,
          143,
          119,
          116,
          140,
          106,
          120,
          94,
          124,
          86,
          104,
          85,
          136,
          129,
          95,
          118,
          91,
          98,
          90,
          97,
          110,
          119,
          106,
          103,
          114,
          81,
          101,
          110,
          116,
          85,
          92,
          101,
          80,
          93,
          116,
          101,
          89,
          91,
          106,
          117,
          117,
          109,
          144,
          118,
          151,
          149,
          117,
          101,
          123,
          108,
          129,
          107,
          108,
          104,
          84,
          88,
          110,
          83,
          93,
          83,
          89,
          102,
          143,
          108,
          87,
          106,
          111,
          141,
          97,
          110,
          91,
          85,
          92,
          107,
          83,
          106,
          92,
          99,
          102,
          122,
          105,
          113,
          144,
          138,
          148,
          111,
          123,
          139,
          128,
          101,
          100,
          100,
          107,
          129,
          96,
          109,
          115,
          122,
          94,
          84,
          94,
          93,
          104,
          94,
          86,
          119,
          97,
          157,
          92,
          126,
          124,
          110,
          93,
          96,
          87,
          90,
          90,
          104,
          140,
          104,
          108,
          104,
          128,
          115,
          90,
          113,
          100,
          115,
          152,
          122,
          126,
          92,
          108,
          86,
          122,
          90,
          110,
          96,
          111,
          96,
          145,
          116,
          124,
          131,
          91,
          109,
          85,
          123,
          92,
          93,
          111,
          111,
          99,
          92,
          101,
          109,
          115,
          114,
          90,
          89,
          98,
          92,
          86,
          99,
          90,
          104,
          98,
          114,
          89,
          130,
          85,
          98,
          80,
          91,
          90,
          97,
          153,
          162,
          107,
          100,
          153,
          129,
          158,
          88,
          95,
          128,
          112,
          129,
          96,
          149,
          109,
          130,
          97,
          108,
          102,
          121,
          152,
          110,
          129,
          96,
          98,
          106,
          99,
          82,
          100,
          112,
          94,
          101,
          89,
          90,
          108,
          91,
          81,
          88,
          92,
          102,
          88,
          107,
          85,
          148,
          138,
          102,
          125,
          120,
          94,
          111,
          105,
          108,
          95,
          112,
          110,
          124,
          106,
          88,
          94,
          103,
          103,
          92,
          116,
          105,
          140,
          133,
          120,
          95,
          113,
          100,
          95,
          96,
          95,
          80,
          93,
          106,
          92,
          125,
          108,
          94,
          107,
          107,
          110,
          82,
          105,
          165,
          130,
          125,
          130,
          94,
          100,
          146,
          108,
          136,
          90,
          109,
          92,
          109,
          107,
          132,
          112,
          105,
          113,
          154,
          117,
          93,
          98,
          96,
          129,
          105,
          101,
          107,
          100,
          115,
          92,
          102,
          124,
          103,
          103,
          101,
          100,
          101,
          99,
          96,
          84,
          90,
          86,
          87,
          90,
          108,
          105,
          94,
          86,
          143,
          165,
          169,
          142,
          164,
          112,
          115,
          94,
          114,
          120,
          115,
          130,
          157,
          143,
          136,
          158,
          122,
          113,
          138,
          109,
          106,
          150,
          91,
          94,
          88,
          113,
          127,
          95,
          94,
          86,
          84,
          109,
          130,
          86,
          94,
          101,
          93,
          101,
          95,
          95,
          122,
          104,
          92,
          125,
          100,
          110,
          88,
          99,
          92,
          127,
          109,
          93,
          87,
          105,
          98,
          100,
          180,
          130,
          112,
          130,
          91,
          123,
          161,
          110,
          102,
          143,
          138,
          104,
          90,
          115,
          111,
          146,
          94,
          134,
          117,
          98,
          107,
          103,
          88,
          134,
          91,
          121,
          129,
          119,
          100,
          98,
          126,
          98,
          98,
          98,
          115,
          109,
          104,
          104,
          94,
          86,
          117,
          132,
          125,
          131,
          100,
          126,
          91,
          95,
          97,
          112,
          105,
          105,
          92,
          98,
          128,
          93,
          96,
          104,
          121,
          169,
          101,
          149,
          136,
          99,
          106,
          129,
          139,
          117,
          144,
          132,
          113,
          89,
          114,
          86,
          132,
          103,
          119,
          123,
          133,
          102,
          142,
          97,
          125,
          100,
          123,
          93,
          165,
          123,
          165,
          94,
          109,
          122,
          115,
          101,
          112,
          130,
          109,
          102,
          101,
          95,
          106,
          108,
          99,
          94,
          104,
          122,
          107,
          101,
          106,
          128,
          91,
          86,
          81,
          102,
          97,
          84,
          99,
          141,
          137,
          168,
          117,
          125,
          92,
          130,
          124,
          156,
          144,
          95,
          129,
          105,
          138,
          148,
          121,
          137,
          121,
          120,
          131,
          99,
          133,
          115,
          114,
          125,
          142,
          119,
          147,
          118,
          103,
          91,
          131,
          108,
          96,
          117,
          96,
          115,
          101,
          89,
          97,
          101,
          118,
          109,
          104,
          92,
          88,
          104,
          97,
          109,
          122,
          96,
          79,
          98,
          105,
          83,
          90,
          94,
          123,
          147,
          108,
          115,
          106,
          107,
          116,
          118,
          108,
          128,
          134,
          108,
          139,
          133,
          152,
          95,
          132,
          107,
          86,
          127,
          89,
          112,
          108,
          128,
          123,
          137,
          107,
          129,
          106,
          103,
          97,
          118,
          94,
          123,
          96,
          99,
          102,
          100,
          97,
          94,
          87,
          97,
          96,
          109,
          100,
          89,
          89,
          99,
          93,
          98,
          92,
          94,
          90,
          130,
          125,
          118,
          133,
          136,
          105,
          119,
          136,
          106,
          105,
          113,
          97,
          137,
          141,
          122,
          129,
          123,
          129,
          141,
          115,
          152,
          119,
          115,
          107,
          114,
          94,
          118,
          93,
          111,
          101,
          126,
          140,
          107,
          110,
          104,
          120,
          113,
          92,
          89,
          116,
          96,
          91,
          89,
          96,
          98,
          86,
          103,
          122,
          96,
          100,
          132,
          102,
          90,
          115,
          99,
          104,
          89,
          96,
          149,
          119,
          134,
          127,
          117,
          143,
          140,
          117,
          147,
          112,
          130,
          120,
          118,
          135,
          91,
          136,
          114,
          128,
          93,
          110,
          119,
          113,
          105,
          118,
          97,
          104,
          134,
          116,
          110,
          114,
          97,
          95,
          100,
          143,
          130,
          107,
          102,
          85,
          93,
          104,
          112,
          112,
          139,
          98,
          89,
          108,
          111,
          89,
          103,
          86,
          85,
          99,
          110,
          100,
          148,
          161,
          181,
          108,
          135,
          116,
          130,
          130,
          137,
          123,
          105,
          129,
          108,
          132,
          169,
          119,
          141,
          123,
          116,
          95,
          102,
          129,
          118,
          128,
          121,
          110,
          100,
          121,
          103,
          90,
          90,
          99,
          116,
          87,
          106,
          102,
          86,
          104,
          86,
          93,
          108,
          102,
          117,
          101,
          90,
          100,
          90,
          93,
          107,
          109,
          96,
          125,
          116,
          92,
          119,
          109,
          109,
          124,
          99,
          149
         ],
         "xaxis": "x",
         "y": [
          12.0785,
          5.6411,
          3.2678,
          3.7125,
          5.0064,
          8.1278,
          3.9075,
          9.3301,
          3.1246,
          3.7383,
          5.9847,
          2.7332,
          3.7428,
          3.2074,
          7.4475,
          6.8895,
          7.5297,
          3.01,
          7.4736,
          9.2135,
          4.2881,
          9.7824,
          2.3931,
          4.6254,
          12.6374,
          3.0943,
          2.8065,
          8.3854,
          2.3116,
          2.9811,
          2.5196,
          2.2693,
          4.0197,
          5.0206,
          2.4426,
          7.3475,
          6.2096,
          5.5724,
          6.0458,
          7.4381,
          6.356,
          4.9027,
          4.76,
          2.3746,
          5.7744,
          7.05,
          13.6187,
          9.2487,
          3.0933,
          5.027,
          6.05,
          3.2921,
          5.6306,
          3.0142,
          12.553,
          5.2587,
          3.2312,
          5.945,
          2.5616,
          2.3516,
          4.1937,
          4.8295,
          3.92,
          3.2705,
          8.5818,
          3.4337,
          4.1028,
          11.2455,
          8.8729,
          10.3899,
          10.8967,
          13.1706,
          8.7609,
          4.1093,
          12.9666,
          7.6572,
          2.644,
          7.7277,
          6.6872,
          11.685,
          2.7235,
          3.4983,
          8.7588,
          7.946,
          2.6369,
          9.5063,
          2.5575,
          4.1912,
          2.3674,
          3.875,
          5.8273,
          5.0288,
          2.5595,
          2.7804,
          5.0015,
          4.7491,
          4.7256,
          5.5645,
          9.0158,
          6.0138,
          2.623,
          6.4516,
          8.9997,
          5.8234,
          6.3392,
          5.4815,
          6.3158,
          8.9684,
          5.0886,
          2.8709,
          3.0301,
          9.4997,
          3.4628,
          2.6842,
          2.8304,
          10.4673,
          6.0843,
          5.5359,
          10.7867,
          3.4977,
          3.0419,
          3.3885,
          2.7894,
          3.7679,
          5.4907,
          4.5,
          7.2962,
          3.5532,
          5.5836,
          4.4949,
          5.2631,
          4.5096,
          3.9553,
          3.4382,
          2.6847,
          5.5512,
          3.1096,
          3.9098,
          3.8634,
          7.0138,
          6.1202,
          4.3761,
          8.5325,
          8.954,
          9.713,
          8.2497,
          7.3408,
          3.7275,
          2.3666,
          3.9999,
          3,
          2.3376,
          2.3337,
          3.1369,
          5.717,
          2.2895,
          2.2741,
          10.4286,
          4.0573,
          3.9513,
          7.4404,
          13.193,
          2.2522,
          6.4039,
          3.7115,
          3.9107,
          13.441,
          5.563,
          7.5752,
          7.257,
          2.5124,
          7.3325,
          2.6769,
          9.7328,
          5.7569,
          2.3365,
          6.2698,
          2.7977,
          2.5538,
          3.3434,
          5.8464,
          3.0302,
          6.7693,
          9.3759,
          3.0656,
          3.7004,
          8.8786,
          10.7574,
          3.0509,
          13.3817,
          4.2836,
          7.3125,
          4.7378,
          11.3736,
          4.4677,
          4.827,
          3.527,
          5.4506,
          3.9974,
          4.2839,
          4.8215,
          10.5001,
          5.3149,
          7.1376,
          3.8802,
          5.1611,
          8.798,
          3.4737,
          2.6947,
          4.8358,
          3.6028,
          2.3109,
          3.9314,
          3.0203,
          2.429,
          12.4638,
          13.9604,
          3.3012,
          5.6838,
          2.4625,
          5.1269,
          2.4913,
          9.0592,
          3.0452,
          6.2271,
          9.5543,
          3.04,
          3.7411,
          5.9349,
          3.8307,
          2.5514,
          3.2134,
          2.8193,
          3.6642,
          11.8717,
          4.1232,
          4.1067,
          2.4805,
          13.3549,
          3.2979,
          7.8506,
          4.2083,
          5.3834,
          7.1353,
          9.8562,
          4.1351,
          2.4994,
          2.8092,
          5.6309,
          8.2105,
          5.9652,
          2.7796,
          4.953,
          4.2245,
          3.5703,
          2.8877,
          6.2026,
          3.2993,
          4.8262,
          4.3966,
          10.0526,
          4.9327,
          2.311,
          3.3257,
          2.3362,
          4.0752,
          6.4711,
          3.4732,
          8.1549,
          2.62,
          11.8212,
          6.5245,
          2.9567,
          3.5753,
          4.8134,
          8.1923,
          2.65,
          3.0294,
          3.4616,
          6.7567,
          9.8721,
          3.0227,
          13.6437,
          7.3835,
          3.3393,
          5.4345,
          3.8681,
          6.9492,
          9.8537,
          2.6429,
          4.7408,
          4.0828,
          4.6501,
          4.0613,
          6.0162,
          3.4249,
          6.9749,
          6.6849,
          3.1216,
          10.0612,
          4.3501,
          3.5044,
          8.5077,
          2.5655,
          6.8829,
          3.5367,
          2.7082,
          3.7701,
          5.9335,
          11.3314,
          2.2946,
          10.6816,
          2.574,
          13.5456,
          4.3546,
          2.7277,
          6.4268,
          6.1478,
          2.4821,
          2.3735,
          2.8912,
          2.7647,
          7.6609,
          2.7858,
          3.3544,
          6.2996,
          3.6264,
          5.7987,
          7.0707,
          3.7193,
          8.9192,
          5.8315,
          2.8903,
          3.0434,
          2.3657,
          3.9415,
          12.1479,
          2.6293,
          3.0678,
          5.7887,
          4.8221,
          7.8972,
          7.0617,
          7.4114,
          6.4425,
          2.3217,
          4.8699,
          2.7972,
          4.7586,
          5.2924,
          6.8052,
          9.7092,
          2.805,
          7.4712,
          2.5785,
          2.8813,
          6.584,
          3.6204,
          6.0795,
          4.0908,
          4.7113,
          3.3189,
          3.12,
          4.0285,
          5.1663,
          7.8416,
          9.8987,
          9.1762,
          11.3605,
          2.764,
          7.6589,
          4.7212,
          4.3747,
          2.4338,
          3.2759,
          4.4711,
          3.4675,
          2.8067,
          2.4205,
          7.5917,
          4.9761,
          2.2534,
          4.5131,
          4.0734,
          5.9804,
          3.6212,
          2.7053,
          2.8687,
          4.2599,
          5.5453,
          3.7511,
          3.45,
          10.0082,
          3.1021,
          2.3062,
          2.6062,
          10.5049,
          5.5488,
          2.7077,
          7.4745,
          6.1818,
          5.2836,
          6.3874,
          5.7269,
          2.5689,
          6.876,
          4.8268,
          4.1885,
          12.9563,
          3.2838,
          3.4332,
          6.7148,
          2.9737,
          2.3932,
          5.8907,
          3.402,
          2.9551,
          5.8504,
          6.4158,
          3.6595,
          2.3813,
          2.8588,
          2.7694,
          10.5727,
          7.0866,
          4.2277,
          4.1805,
          2.6125,
          7.0803,
          3.1183,
          4.4548,
          4.8706,
          4.1692,
          2.3727,
          6.4026,
          4.1992,
          3.78,
          7.9312,
          8.4551,
          7.664,
          6.2712,
          2.3934,
          9.3167,
          4.5264,
          2.4476,
          5.8656,
          4.467,
          4.7703,
          2.3826,
          2.6894,
          2.9589,
          6.2415,
          3.4209,
          2.8415,
          3.1766,
          3.465,
          3.6383,
          3.8952,
          3.5183,
          3.4497,
          3.7737,
          13.6326,
          2.9512,
          3.9283,
          2.3082,
          6.4846,
          7.2227,
          3.5591,
          3.3711,
          3.9963,
          3.9078,
          3.3232,
          11.5603,
          4.6293,
          5.0081,
          3.7276,
          3.0459,
          5.108,
          9.4542,
          4.3445,
          3.4568,
          4.4388,
          3.1115,
          3.805,
          2.6415,
          4.7986,
          8.3688,
          3.2931,
          3.7283,
          7.2759,
          4.9246,
          2.443,
          2.3286,
          7.0557,
          4.4554,
          8.6526,
          6.8764,
          4.0409,
          3.4313,
          4.3026,
          7.1309,
          4.4619,
          3.5233,
          2.4021,
          6.7274,
          3.0424,
          5.359,
          2.6987,
          2.6221,
          11.3498,
          2.5267,
          2.9654,
          3.432,
          4.9371,
          3.2267,
          10.2798,
          3.4463,
          8.5851,
          2.8592,
          9.1313,
          3.2777,
          2.4331,
          2.3448,
          2.8521,
          2.3438,
          9.0134,
          4.159,
          4.9354,
          4.9238,
          2.4306,
          7.796,
          9.0797,
          5.7714,
          9.715,
          4.1948,
          4.6701,
          2.5672,
          4.685,
          2.2816,
          2.5135,
          3.7133,
          5.0207,
          5.4959,
          3.1058,
          2.4143,
          5.8173,
          3.025,
          2.9635,
          2.4175,
          6.6551,
          3.6915,
          6.5259,
          3.3516,
          4.7224,
          3.3538,
          4.5968,
          3.3519,
          2.4254,
          4.0951,
          3.7864,
          2.3174,
          2.5313,
          2.5278,
          2.3527,
          2.6679,
          2.4411,
          5.422,
          10.7323,
          2.4859,
          4.7561,
          2.8068,
          2.5396,
          5.0302,
          3.6733,
          11.1918,
          2.6306,
          5.2638,
          5.1301,
          3.3504,
          4.0633,
          3.9457,
          9.0038,
          2.7456,
          4.0645,
          6.3087,
          10.3015,
          2.5703,
          2.7065,
          2.4058,
          3.7635,
          3.5974,
          2.55,
          2.8878,
          4.9826,
          5.7834,
          7.0423,
          2.3166,
          2.4977,
          3.0116,
          2.271,
          3.2313,
          4.6425,
          2.3373,
          3.3171,
          4.1869,
          2.7119,
          2.4571,
          2.5398,
          2.3257,
          2.2667,
          2.2702,
          8.3401,
          3.9918,
          8.3152,
          9.9411,
          7.4212,
          6.6545,
          5.1336,
          2.7018,
          4.1373,
          3.0626,
          2.6517,
          5.8653,
          2.3883,
          2.9449,
          8.8423,
          6.2255,
          3.2783,
          6.4479,
          3.4211,
          5.1917,
          2.8778,
          2.9338,
          2.4888,
          3.278,
          2.4751,
          2.2977,
          5.5332,
          5.8567,
          3.9945,
          4.9024,
          2.6878,
          3.2455,
          3.7022,
          4.2441,
          13.3301,
          2.3684,
          2.5309,
          3.666,
          2.8436,
          2.5496,
          2.4026,
          3.0634,
          5.6282,
          7.0847,
          2.404,
          10.9848,
          5.3221,
          3.1982,
          4.96,
          4.9779,
          5.8223,
          3.3434,
          11.7188,
          2.9683,
          3.139,
          6.2117,
          3.5748,
          6.6849,
          2.3354,
          3.4299,
          5.2126,
          4.7092,
          6.2275,
          6.3918,
          2.7022,
          5.6714,
          2.2987,
          2.5471,
          4.3085,
          2.5002,
          3.0616,
          4.6588,
          3.9311,
          7.3107,
          6.6404,
          3.733,
          4.1602,
          6.0468,
          6.3988,
          2.6153,
          2.2799,
          8.2095,
          5.4712,
          5.0497,
          3.2457,
          2.6671,
          6.8059,
          7.4156,
          8.1196,
          2.3596,
          9.016,
          2.3992,
          2.8499,
          6.0164,
          8.3345,
          3.11,
          3.4132,
          3.7386,
          5.0801,
          4.5841,
          11.6324,
          7.103,
          4.2226,
          3.1334,
          3.6673,
          2.3666,
          8.5165,
          13.5863,
          2.5776,
          4.3268,
          3.2474,
          3.7556,
          2.9614,
          2.8247,
          5.497,
          4.4132,
          2.8434,
          3.4708,
          2.9552,
          4.1134,
          2.6144,
          4.3972,
          3.799,
          7.3387,
          2.8998,
          2.321,
          9.5615,
          3.2875,
          5.6578,
          8.2307,
          2.5381,
          2.5356,
          5.8651,
          4.9057,
          7.5406,
          3.7314,
          5.2811,
          2.7784,
          3.1582,
          3.3672,
          2.4689,
          2.5287,
          2.9027,
          3.3366,
          3.2198,
          3.0057,
          6.3307,
          7.0934,
          4.3641,
          3.0373,
          2.6625,
          2.2826,
          2.8058,
          2.2573,
          4.0835,
          4.3185,
          2.5028,
          3.3619,
          2.7197,
          2.8972,
          3.4728,
          5.0892,
          4.2278,
          2.5326,
          5.7218,
          12.9353,
          3.2149,
          6.1522,
          4.1988,
          8.289,
          2.6474,
          2.451,
          3.5494,
          13.827,
          2.3072,
          2.7506,
          2.6898,
          2.4413,
          2.7242,
          2.3501,
          4.8085,
          4.4377,
          10.0387,
          3.1843,
          3.8596,
          10.755,
          8.1567,
          3.2738,
          8.0735,
          3.5662,
          3.4251,
          2.5278,
          5.22,
          5.4425,
          7.1806,
          2.4032,
          2.284,
          2.4042,
          6.4558,
          5.8958,
          3.566,
          3.1963,
          3.0705,
          2.7639,
          4.4218,
          2.3089,
          8.8292,
          5.0243,
          2.3238,
          3.2624,
          2.632,
          2.3557,
          3.026,
          7.6279,
          9.543,
          2.5126,
          5.2679,
          2.801,
          2.6327,
          7.0333,
          2.6247,
          2.4433,
          3.4261,
          5.0694,
          3.8342,
          4.965,
          6.4646,
          6.4529,
          4.4577,
          3.5923,
          11.0137,
          3.2396,
          12.4089,
          2.7378,
          3.4717,
          2.9561,
          3.3386,
          7.1067,
          4.8225,
          6.0296,
          9.6624,
          3.2006,
          3.1815,
          5.6737,
          13.2205,
          3.8163,
          6.9344,
          5.8158,
          2.6732,
          7.0319,
          5.365,
          2.4407,
          7.4653,
          3.772,
          3.49,
          2.5664,
          3.6542,
          2.4796,
          5.7722,
          8.8521,
          5.7156,
          2.8459,
          5.2031,
          2.6915,
          6.0519,
          2.3049,
          3.7821,
          6.7578,
          4.1848,
          4.9085,
          3.2895,
          2.3666,
          4.2302,
          2.6851,
          2.3932,
          3.1629,
          4.623,
          9.1209,
          2.4311,
          2.3938,
          4.1273,
          6.8712,
          2.4273,
          5.6389,
          9.2719,
          2.9457,
          2.4662,
          2.3744,
          2.4309,
          4.3349,
          8.3783,
          4.1676,
          3.3325,
          7.9782,
          2.4099,
          4.0798,
          5.4799,
          2.5021,
          5.8984,
          2.3056,
          4.0038,
          2.2582,
          5.2695,
          3.5612,
          7.6897,
          5.6985,
          3.1632,
          3.5994,
          5.4962,
          4.3097,
          3.4569,
          2.4083,
          3.0274,
          3.4724,
          2.5288,
          9.7386,
          7.8733,
          4.0091,
          7.9208,
          4.1458,
          7.6656,
          4.9691,
          3.1829,
          3.4379,
          3.2726,
          9.8099,
          3.3483,
          2.9593,
          3.7911,
          4.2019,
          4.9944,
          3.5237,
          4.763,
          5.4746,
          3.6041,
          4.9954,
          4.3763,
          3.3508,
          4.1807,
          7.3168,
          4.5726,
          4.1372,
          7.8622,
          2.9472,
          6.3346,
          12.6836,
          2.6708,
          4.125,
          5.107,
          7.8955,
          2.5573,
          2.4537,
          2.2603,
          4.388,
          3.2691,
          7.2639,
          3.5693,
          4.1609,
          2.6203,
          7.9147,
          2.4066,
          4.2472,
          5.9037,
          3.2607,
          4.65,
          7.9025,
          3.3246,
          5.7853,
          3.1693,
          3.2665,
          3.4019,
          4.2208,
          5.9146,
          2.639,
          2.3205,
          4.5428,
          2.2954,
          6.2428,
          10.2577,
          4.8836,
          4.2185,
          3.7997,
          9.9874,
          3.2353,
          3.2162,
          5.4341,
          7.561,
          3.6998,
          4.0751,
          2.6948,
          3.2438,
          4.8996,
          9.553,
          6.8683,
          2.2613,
          3.9834,
          2.5104,
          2.9743,
          4.1512,
          3.4287,
          9.6562,
          6.5856,
          7.0059,
          5.5372,
          7.3589,
          9.0073,
          7.4083,
          5.8749,
          8.2342,
          3.2567,
          5.1033,
          2.333,
          2.8505,
          10.7265,
          3.0429,
          3.7909,
          4.4109,
          2.8094,
          2.92,
          5.0741,
          2.7928,
          3.9293,
          6.2319,
          6.2584,
          3.2623,
          6.2971,
          7.5434,
          2.368,
          5.2793,
          2.7178,
          12.1465,
          3.6897,
          3.9704,
          5.6539,
          4.4072,
          8.3867,
          10.1473,
          3.3497,
          2.9388,
          4.295,
          3.527,
          2.978,
          4.7378,
          2.8701,
          2.3579,
          2.473,
          8.7619,
          2.3115,
          2.4569,
          11.7732,
          2.3423,
          4.5058,
          2.4855,
          5.9982,
          7.2066,
          7.892,
          4.2748,
          2.9189,
          4.3472,
          4.9105,
          2.3677,
          3.0309,
          2.5146,
          3.5511,
          3.7852,
          2.517,
          6.9595,
          2.855,
          2.31,
          3.8003,
          9.1218,
          7.3442,
          2.5107,
          2.6974,
          10.7435,
          10.6218,
          3.5491,
          3.2529,
          3.3041,
          5.0546,
          3.2025,
          5.9178,
          13.9687,
          4.1155,
          2.3987,
          4.5764,
          2.8487,
          2.4969,
          9.2447,
          10.4716,
          3.4025,
          3.5332,
          2.7302,
          11.4365,
          4.7342,
          2.2811,
          8.31,
          2.9871,
          2.5449,
          3.2134,
          3.258,
          6.801,
          5.0429,
          7.3797,
          11.0344,
          7.2484,
          4.2574,
          4.1563,
          3.9178,
          8.2857,
          2.5001,
          2.88,
          5.6267,
          3.1803,
          3.2459,
          3.2865,
          3.8425,
          4.1341,
          3.4562,
          5.8016,
          5.1788,
          4.705,
          7.1309,
          3.0688,
          6.1159,
          7.9558,
          2.5069,
          2.3394,
          4.9693,
          5.3397,
          2.5948,
          3.2182,
          4.0188,
          3.1154,
          7.4986,
          4.6112,
          6.9755,
          2.5564,
          2.9947,
          13.2413,
          9.106,
          3.7657,
          10.1368,
          2.9478,
          4.8348,
          3.9077,
          3.9345,
          4.709,
          7.447,
          2.5946,
          4.559,
          3.1147,
          2.6987,
          2.6256,
          3.5514,
          2.459,
          3.9591,
          8.9015,
          3.309,
          3.0227,
          3.137,
          3.2794,
          6.2012,
          2.4129,
          2.3592,
          12.1065,
          4.1196,
          10.7961,
          7.4053,
          4.6729,
          3.8557,
          6.9603,
          4.1423,
          4.935,
          10.2984,
          2.4696,
          2.5004,
          6.126,
          5.8979,
          3.3944,
          7.2887,
          3.6827,
          4.3329,
          4.6018,
          7.5978,
          4.561,
          11.0085,
          3.1032,
          3.3619,
          10.6233,
          13.6594,
          2.5863,
          3.2677,
          3.6133,
          12.4972,
          3.1079,
          9.4157,
          3.2961,
          3.3274,
          3.6247,
          7.4561,
          13.9636,
          7.0447,
          5.8275,
          3.5141,
          4.2803,
          2.4946,
          2.5943,
          3.5225,
          6.8061,
          6.0059,
          8.449,
          6.4055,
          2.8486,
          10.8588,
          2.5264,
          2.4624,
          7.7765,
          3.3395,
          2.7211,
          4.5232,
          6.3478,
          4.1429,
          10.7378,
          9.1079,
          5.0558,
          3.0133,
          2.4292,
          2.7629,
          8.1968,
          6.3929,
          2.8929,
          10.6728,
          3.8265,
          3.4869,
          4.691,
          2.3086,
          8.0346,
          2.5376,
          8.0784,
          2.9712,
          2.4549,
          3.4455,
          4.0351,
          6.134,
          3.7444,
          4.0282,
          4.8867,
          4.0295,
          3.3188,
          4.2144,
          9.6949,
          3.944,
          4.2702,
          3.6161,
          5.6749,
          3.2237,
          5.3833,
          4.5223,
          3.2887,
          2.456,
          9.0687,
          6.9027,
          2.951,
          9.6795,
          3.2041,
          3.9036,
          2.3338,
          2.9983,
          5.4144,
          6.8966,
          5.9372,
          3.12,
          4.4856,
          5.1528,
          2.3562,
          2.2715,
          3.072,
          2.2739,
          2.8994,
          10.2823,
          3.1548,
          9.2953,
          10.7356,
          2.6084,
          5.1621,
          2.9471,
          11.935,
          2.3967,
          2.2748,
          3.3555,
          4.6995,
          6.3975,
          2.4181,
          8.3198,
          3.8471,
          2.3232,
          2.2864,
          5.2547,
          8.2817,
          3.6629,
          2.3007,
          3.0371,
          5.3812,
          6.1497,
          5.738,
          7.024,
          3.8822,
          6.178,
          2.3308,
          3.1727,
          3.4475,
          7.5609,
          12.9892,
          6.9513,
          2.8437,
          5.2276,
          8.7734,
          11.1164,
          4.2749,
          6.7086,
          6.1737,
          3.2531,
          5.3946,
          3.0789,
          5.7634,
          5.2232,
          9.5428,
          2.9981,
          2.2743,
          2.4961,
          2.901,
          2.4666,
          5.6073,
          6.0299,
          2.3413,
          3.648,
          3.2843,
          2.5669,
          3.4771,
          5.2078,
          4.1739,
          9.4438,
          4.6783,
          6.6037,
          12.8834,
          8.5291,
          5.3589,
          3.6789,
          2.5554,
          2.302,
          3.5184,
          4.5866,
          5.8332,
          11.577,
          11.2981,
          12.6186,
          4.3297,
          3.1618,
          6.8581,
          2.7102,
          4.415,
          4.8921,
          3.3638,
          6.7885,
          2.7953,
          6.0529,
          3.9826,
          6.0745,
          5.4525,
          2.6597,
          4.9885,
          3.0487,
          2.9208,
          5.4005,
          11.7592,
          8.6026,
          3.1599,
          11.35,
          5.4259,
          4.7415,
          3.8795,
          6.8782,
          4.367,
          2.6665,
          8.6668,
          4.4822,
          4.5519,
          11.2211,
          12.0754,
          5.7809,
          6.7084,
          4.5966,
          7.491,
          3.0751,
          4.3756,
          12.6815,
          3.1818,
          3.5749,
          2.6108,
          4.3866,
          2.9652,
          6.1778,
          3.4907,
          3.5246,
          2.3913,
          3.7339,
          3.4838,
          13.5832,
          2.6032,
          2.525,
          6.6052,
          2.7374,
          2.559,
          3.7389,
          2.7614,
          4.7678
         ],
         "yaxis": "y"
        }
       ],
       "layout": {
        "height": 469,
        "legend": {
         "tracegroupgap": 0
        },
        "template": {
         "data": {
          "bar": [
           {
            "error_x": {
             "color": "#2a3f5f"
            },
            "error_y": {
             "color": "#2a3f5f"
            },
            "marker": {
             "line": {
              "color": "#E5ECF6",
              "width": 0.5
             },
             "pattern": {
              "fillmode": "overlay",
              "size": 10,
              "solidity": 0.2
             }
            },
            "type": "bar"
           }
          ],
          "barpolar": [
           {
            "marker": {
             "line": {
              "color": "#E5ECF6",
              "width": 0.5
             },
             "pattern": {
              "fillmode": "overlay",
              "size": 10,
              "solidity": 0.2
             }
            },
            "type": "barpolar"
           }
          ],
          "carpet": [
           {
            "aaxis": {
             "endlinecolor": "#2a3f5f",
             "gridcolor": "white",
             "linecolor": "white",
             "minorgridcolor": "white",
             "startlinecolor": "#2a3f5f"
            },
            "baxis": {
             "endlinecolor": "#2a3f5f",
             "gridcolor": "white",
             "linecolor": "white",
             "minorgridcolor": "white",
             "startlinecolor": "#2a3f5f"
            },
            "type": "carpet"
           }
          ],
          "choropleth": [
           {
            "colorbar": {
             "outlinewidth": 0,
             "ticks": ""
            },
            "type": "choropleth"
           }
          ],
          "contour": [
           {
            "colorbar": {
             "outlinewidth": 0,
             "ticks": ""
            },
            "colorscale": [
             [
              0,
              "#0d0887"
             ],
             [
              0.1111111111111111,
              "#46039f"
             ],
             [
              0.2222222222222222,
              "#7201a8"
             ],
             [
              0.3333333333333333,
              "#9c179e"
             ],
             [
              0.4444444444444444,
              "#bd3786"
             ],
             [
              0.5555555555555556,
              "#d8576b"
             ],
             [
              0.6666666666666666,
              "#ed7953"
             ],
             [
              0.7777777777777778,
              "#fb9f3a"
             ],
             [
              0.8888888888888888,
              "#fdca26"
             ],
             [
              1,
              "#f0f921"
             ]
            ],
            "type": "contour"
           }
          ],
          "contourcarpet": [
           {
            "colorbar": {
             "outlinewidth": 0,
             "ticks": ""
            },
            "type": "contourcarpet"
           }
          ],
          "heatmap": [
           {
            "colorbar": {
             "outlinewidth": 0,
             "ticks": ""
            },
            "colorscale": [
             [
              0,
              "#0d0887"
             ],
             [
              0.1111111111111111,
              "#46039f"
             ],
             [
              0.2222222222222222,
              "#7201a8"
             ],
             [
              0.3333333333333333,
              "#9c179e"
             ],
             [
              0.4444444444444444,
              "#bd3786"
             ],
             [
              0.5555555555555556,
              "#d8576b"
             ],
             [
              0.6666666666666666,
              "#ed7953"
             ],
             [
              0.7777777777777778,
              "#fb9f3a"
             ],
             [
              0.8888888888888888,
              "#fdca26"
             ],
             [
              1,
              "#f0f921"
             ]
            ],
            "type": "heatmap"
           }
          ],
          "heatmapgl": [
           {
            "colorbar": {
             "outlinewidth": 0,
             "ticks": ""
            },
            "colorscale": [
             [
              0,
              "#0d0887"
             ],
             [
              0.1111111111111111,
              "#46039f"
             ],
             [
              0.2222222222222222,
              "#7201a8"
             ],
             [
              0.3333333333333333,
              "#9c179e"
             ],
             [
              0.4444444444444444,
              "#bd3786"
             ],
             [
              0.5555555555555556,
              "#d8576b"
             ],
             [
              0.6666666666666666,
              "#ed7953"
             ],
             [
              0.7777777777777778,
              "#fb9f3a"
             ],
             [
              0.8888888888888888,
              "#fdca26"
             ],
             [
              1,
              "#f0f921"
             ]
            ],
            "type": "heatmapgl"
           }
          ],
          "histogram": [
           {
            "marker": {
             "pattern": {
              "fillmode": "overlay",
              "size": 10,
              "solidity": 0.2
             }
            },
            "type": "histogram"
           }
          ],
          "histogram2d": [
           {
            "colorbar": {
             "outlinewidth": 0,
             "ticks": ""
            },
            "colorscale": [
             [
              0,
              "#0d0887"
             ],
             [
              0.1111111111111111,
              "#46039f"
             ],
             [
              0.2222222222222222,
              "#7201a8"
             ],
             [
              0.3333333333333333,
              "#9c179e"
             ],
             [
              0.4444444444444444,
              "#bd3786"
             ],
             [
              0.5555555555555556,
              "#d8576b"
             ],
             [
              0.6666666666666666,
              "#ed7953"
             ],
             [
              0.7777777777777778,
              "#fb9f3a"
             ],
             [
              0.8888888888888888,
              "#fdca26"
             ],
             [
              1,
              "#f0f921"
             ]
            ],
            "type": "histogram2d"
           }
          ],
          "histogram2dcontour": [
           {
            "colorbar": {
             "outlinewidth": 0,
             "ticks": ""
            },
            "colorscale": [
             [
              0,
              "#0d0887"
             ],
             [
              0.1111111111111111,
              "#46039f"
             ],
             [
              0.2222222222222222,
              "#7201a8"
             ],
             [
              0.3333333333333333,
              "#9c179e"
             ],
             [
              0.4444444444444444,
              "#bd3786"
             ],
             [
              0.5555555555555556,
              "#d8576b"
             ],
             [
              0.6666666666666666,
              "#ed7953"
             ],
             [
              0.7777777777777778,
              "#fb9f3a"
             ],
             [
              0.8888888888888888,
              "#fdca26"
             ],
             [
              1,
              "#f0f921"
             ]
            ],
            "type": "histogram2dcontour"
           }
          ],
          "mesh3d": [
           {
            "colorbar": {
             "outlinewidth": 0,
             "ticks": ""
            },
            "type": "mesh3d"
           }
          ],
          "parcoords": [
           {
            "line": {
             "colorbar": {
              "outlinewidth": 0,
              "ticks": ""
             }
            },
            "type": "parcoords"
           }
          ],
          "pie": [
           {
            "automargin": true,
            "type": "pie"
           }
          ],
          "scatter": [
           {
            "fillpattern": {
             "fillmode": "overlay",
             "size": 10,
             "solidity": 0.2
            },
            "type": "scatter"
           }
          ],
          "scatter3d": [
           {
            "line": {
             "colorbar": {
              "outlinewidth": 0,
              "ticks": ""
             }
            },
            "marker": {
             "colorbar": {
              "outlinewidth": 0,
              "ticks": ""
             }
            },
            "type": "scatter3d"
           }
          ],
          "scattercarpet": [
           {
            "marker": {
             "colorbar": {
              "outlinewidth": 0,
              "ticks": ""
             }
            },
            "type": "scattercarpet"
           }
          ],
          "scattergeo": [
           {
            "marker": {
             "colorbar": {
              "outlinewidth": 0,
              "ticks": ""
             }
            },
            "type": "scattergeo"
           }
          ],
          "scattergl": [
           {
            "marker": {
             "colorbar": {
              "outlinewidth": 0,
              "ticks": ""
             }
            },
            "type": "scattergl"
           }
          ],
          "scattermapbox": [
           {
            "marker": {
             "colorbar": {
              "outlinewidth": 0,
              "ticks": ""
             }
            },
            "type": "scattermapbox"
           }
          ],
          "scatterpolar": [
           {
            "marker": {
             "colorbar": {
              "outlinewidth": 0,
              "ticks": ""
             }
            },
            "type": "scatterpolar"
           }
          ],
          "scatterpolargl": [
           {
            "marker": {
             "colorbar": {
              "outlinewidth": 0,
              "ticks": ""
             }
            },
            "type": "scatterpolargl"
           }
          ],
          "scatterternary": [
           {
            "marker": {
             "colorbar": {
              "outlinewidth": 0,
              "ticks": ""
             }
            },
            "type": "scatterternary"
           }
          ],
          "surface": [
           {
            "colorbar": {
             "outlinewidth": 0,
             "ticks": ""
            },
            "colorscale": [
             [
              0,
              "#0d0887"
             ],
             [
              0.1111111111111111,
              "#46039f"
             ],
             [
              0.2222222222222222,
              "#7201a8"
             ],
             [
              0.3333333333333333,
              "#9c179e"
             ],
             [
              0.4444444444444444,
              "#bd3786"
             ],
             [
              0.5555555555555556,
              "#d8576b"
             ],
             [
              0.6666666666666666,
              "#ed7953"
             ],
             [
              0.7777777777777778,
              "#fb9f3a"
             ],
             [
              0.8888888888888888,
              "#fdca26"
             ],
             [
              1,
              "#f0f921"
             ]
            ],
            "type": "surface"
           }
          ],
          "table": [
           {
            "cells": {
             "fill": {
              "color": "#EBF0F8"
             },
             "line": {
              "color": "white"
             }
            },
            "header": {
             "fill": {
              "color": "#C8D4E3"
             },
             "line": {
              "color": "white"
             }
            },
            "type": "table"
           }
          ]
         },
         "layout": {
          "annotationdefaults": {
           "arrowcolor": "#2a3f5f",
           "arrowhead": 0,
           "arrowwidth": 1
          },
          "autotypenumbers": "strict",
          "coloraxis": {
           "colorbar": {
            "outlinewidth": 0,
            "ticks": ""
           }
          },
          "colorscale": {
           "diverging": [
            [
             0,
             "#8e0152"
            ],
            [
             0.1,
             "#c51b7d"
            ],
            [
             0.2,
             "#de77ae"
            ],
            [
             0.3,
             "#f1b6da"
            ],
            [
             0.4,
             "#fde0ef"
            ],
            [
             0.5,
             "#f7f7f7"
            ],
            [
             0.6,
             "#e6f5d0"
            ],
            [
             0.7,
             "#b8e186"
            ],
            [
             0.8,
             "#7fbc41"
            ],
            [
             0.9,
             "#4d9221"
            ],
            [
             1,
             "#276419"
            ]
           ],
           "sequential": [
            [
             0,
             "#0d0887"
            ],
            [
             0.1111111111111111,
             "#46039f"
            ],
            [
             0.2222222222222222,
             "#7201a8"
            ],
            [
             0.3333333333333333,
             "#9c179e"
            ],
            [
             0.4444444444444444,
             "#bd3786"
            ],
            [
             0.5555555555555556,
             "#d8576b"
            ],
            [
             0.6666666666666666,
             "#ed7953"
            ],
            [
             0.7777777777777778,
             "#fb9f3a"
            ],
            [
             0.8888888888888888,
             "#fdca26"
            ],
            [
             1,
             "#f0f921"
            ]
           ],
           "sequentialminus": [
            [
             0,
             "#0d0887"
            ],
            [
             0.1111111111111111,
             "#46039f"
            ],
            [
             0.2222222222222222,
             "#7201a8"
            ],
            [
             0.3333333333333333,
             "#9c179e"
            ],
            [
             0.4444444444444444,
             "#bd3786"
            ],
            [
             0.5555555555555556,
             "#d8576b"
            ],
            [
             0.6666666666666666,
             "#ed7953"
            ],
            [
             0.7777777777777778,
             "#fb9f3a"
            ],
            [
             0.8888888888888888,
             "#fdca26"
            ],
            [
             1,
             "#f0f921"
            ]
           ]
          },
          "colorway": [
           "#636efa",
           "#EF553B",
           "#00cc96",
           "#ab63fa",
           "#FFA15A",
           "#19d3f3",
           "#FF6692",
           "#B6E880",
           "#FF97FF",
           "#FECB52"
          ],
          "font": {
           "color": "#2a3f5f"
          },
          "geo": {
           "bgcolor": "white",
           "lakecolor": "white",
           "landcolor": "#E5ECF6",
           "showlakes": true,
           "showland": true,
           "subunitcolor": "white"
          },
          "hoverlabel": {
           "align": "left"
          },
          "hovermode": "closest",
          "mapbox": {
           "style": "light"
          },
          "paper_bgcolor": "white",
          "plot_bgcolor": "#E5ECF6",
          "polar": {
           "angularaxis": {
            "gridcolor": "white",
            "linecolor": "white",
            "ticks": ""
           },
           "bgcolor": "#E5ECF6",
           "radialaxis": {
            "gridcolor": "white",
            "linecolor": "white",
            "ticks": ""
           }
          },
          "scene": {
           "xaxis": {
            "backgroundcolor": "#E5ECF6",
            "gridcolor": "white",
            "gridwidth": 2,
            "linecolor": "white",
            "showbackground": true,
            "ticks": "",
            "zerolinecolor": "white"
           },
           "yaxis": {
            "backgroundcolor": "#E5ECF6",
            "gridcolor": "white",
            "gridwidth": 2,
            "linecolor": "white",
            "showbackground": true,
            "ticks": "",
            "zerolinecolor": "white"
           },
           "zaxis": {
            "backgroundcolor": "#E5ECF6",
            "gridcolor": "white",
            "gridwidth": 2,
            "linecolor": "white",
            "showbackground": true,
            "ticks": "",
            "zerolinecolor": "white"
           }
          },
          "shapedefaults": {
           "line": {
            "color": "#2a3f5f"
           }
          },
          "ternary": {
           "aaxis": {
            "gridcolor": "white",
            "linecolor": "white",
            "ticks": ""
           },
           "baxis": {
            "gridcolor": "white",
            "linecolor": "white",
            "ticks": ""
           },
           "bgcolor": "#E5ECF6",
           "caxis": {
            "gridcolor": "white",
            "linecolor": "white",
            "ticks": ""
           }
          },
          "title": {
           "x": 0.05
          },
          "xaxis": {
           "automargin": true,
           "gridcolor": "white",
           "linecolor": "white",
           "ticks": "",
           "title": {
            "standoff": 15
           },
           "zerolinecolor": "white",
           "zerolinewidth": 2
          },
          "yaxis": {
           "automargin": true,
           "gridcolor": "white",
           "linecolor": "white",
           "ticks": "",
           "title": {
            "standoff": 15
           },
           "zerolinecolor": "white",
           "zerolinewidth": 2
          }
         }
        },
        "title": {
         "text": "Relación entre Duración y ROI en películas exitosas"
        },
        "width": 600,
        "xaxis": {
         "anchor": "y",
         "domain": [
          0,
          1
         ],
         "title": {
          "text": "Duración (minutos)"
         }
        },
        "yaxis": {
         "anchor": "x",
         "domain": [
          0,
          1
         ],
         "title": {
          "text": "Retorno de Inversión (ROI)"
         }
        }
       }
      }
     },
     "metadata": {},
     "output_type": "display_data"
    }
   ],
   "source": [
    "# Filtrar los datos para obtener solo las películas con ROI mayor a 2.25\n",
    "data_filtered = df[df['ROI'] > 2.25]\n",
    "\n",
    "# Calcular el rango intercuartílico (IQR) para identificar y eliminar los valores extremos\n",
    "Q1 = data_filtered['ROI'].quantile(0.25)\n",
    "Q3 = data_filtered['ROI'].quantile(0.75)\n",
    "IQR = Q3 - Q1\n",
    "\n",
    "# Definir los límites superior e inferior para eliminar los valores extremos\n",
    "lower_bound = Q1 - 1.5 * IQR\n",
    "upper_bound = Q3 + 1.5 * IQR\n",
    "\n",
    "# Filtrar las películas con ROI dentro del rango no extremo\n",
    "data_filtered = data_filtered[(data_filtered['ROI'] >= lower_bound) & (data_filtered['ROI'] <= upper_bound)]\n",
    "\n",
    "# Verificar si hay valores nulos en las columnas 'runtime' y 'ROI'\n",
    "data_filtered = data_filtered.dropna(subset=['runtime', 'ROI'])\n",
    "\n",
    "# Crear la gráfica interactiva de dispersión\n",
    "fig = px.scatter(data_filtered, x='runtime', y='ROI',\n",
    "                 title=\"Relación entre Duración y ROI en películas exitosas\",\n",
    "                 labels={'runtime': 'Duración (minutos)', 'ROI': 'Retorno de Inversión (ROI)'},\n",
    "                 hover_data=['name', 'genre', 'rating', 'votes', 'budget', 'gross'])  # Agregar más columnas para mostrar en hover\n",
    "\n",
    "# Ajustar el tamaño de la figura\n",
    "fig.update_layout(\n",
    "    width=600,  # Ancho de 600 píxeles\n",
    "    height=469,  # Alto de 469 píxeles\n",
    ")\n",
    "\n",
    "# Mostrar la gráfica\n",
    "fig.show()"
   ]
  }
 ],
 "metadata": {
  "colab": {
   "provenance": []
  },
  "kernelspec": {
   "display_name": ".venv",
   "language": "python",
   "name": "python3"
  },
  "language_info": {
   "codemirror_mode": {
    "name": "ipython",
    "version": 3
   },
   "file_extension": ".py",
   "mimetype": "text/x-python",
   "name": "python",
   "nbconvert_exporter": "python",
   "pygments_lexer": "ipython3",
   "version": "3.12.8"
  }
 },
 "nbformat": 4,
 "nbformat_minor": 0
}
